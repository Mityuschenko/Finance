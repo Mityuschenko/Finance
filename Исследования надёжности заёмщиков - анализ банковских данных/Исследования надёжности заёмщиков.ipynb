{
 "cells": [
  {
   "cell_type": "markdown",
   "id": "1039c997",
   "metadata": {
    "toc": true
   },
   "source": [
    "<h1>Table of Contents<span class=\"tocSkip\"></span></h1>\n",
    "<div class=\"toc\"><ul class=\"toc-item\"><li><span><a href=\"#Общая-информация-о-данных\" data-toc-modified-id=\"Общая-информация-о-данных-1\"><span class=\"toc-item-num\">1&nbsp;&nbsp;</span>Общая информация о данных</a></span></li><li><span><a href=\"#Предобработка-данных\" data-toc-modified-id=\"Предобработка-данных-2\"><span class=\"toc-item-num\">2&nbsp;&nbsp;</span>Предобработка данных</a></span><ul class=\"toc-item\"><li><span><a href=\"#Определение-и-заполнение-пропущенных-значений\" data-toc-modified-id=\"Определение-и-заполнение-пропущенных-значений-2.1\"><span class=\"toc-item-num\">2.1&nbsp;&nbsp;</span>Определение и заполнение пропущенных значений</a></span></li><li><span><a href=\"#Замена-вещественного-типа-данных-на-целочисленный\" data-toc-modified-id=\"Замена-вещественного-типа-данных-на-целочисленный-2.2\"><span class=\"toc-item-num\">2.2&nbsp;&nbsp;</span>Замена вещественного типа данных на целочисленный</a></span></li><li><span><a href=\"#Удаление-дубликатов\" data-toc-modified-id=\"Удаление-дубликатов-2.3\"><span class=\"toc-item-num\">2.3&nbsp;&nbsp;</span>Удаление дубликатов</a></span></li><li><span><a href=\"#Выделение-лемм-в-значениях-столбца-purpose---&quot;цели-кредита&quot;\" data-toc-modified-id=\"Выделение-лемм-в-значениях-столбца-purpose---&quot;цели-кредита&quot;-2.4\"><span class=\"toc-item-num\">2.4&nbsp;&nbsp;</span>Выделение лемм в значениях столбца <code>purpose</code> - \"цели кредита\"</a></span></li><li><span><a href=\"#Категории-данных\" data-toc-modified-id=\"Категории-данных-2.5\"><span class=\"toc-item-num\">2.5&nbsp;&nbsp;</span>Категории данных</a></span></li></ul></li><li><span><a href=\"#Гипотезы\" data-toc-modified-id=\"Гипотезы-3\"><span class=\"toc-item-num\">3&nbsp;&nbsp;</span>Гипотезы</a></span><ul class=\"toc-item\"><li><span><a href=\"#Гипотеза-о-зависимости-между-наличием-детей-и-возвратом-кредита-в-срок\" data-toc-modified-id=\"Гипотеза-о-зависимости-между-наличием-детей-и-возвратом-кредита-в-срок-3.1\"><span class=\"toc-item-num\">3.1&nbsp;&nbsp;</span>Гипотеза о зависимости между наличием детей и возвратом кредита в срок</a></span></li><li><span><a href=\"#Гипотеза-о-зависимости-между-семейным-положением-и-возвратом-кредита-в-срок\" data-toc-modified-id=\"Гипотеза-о-зависимости-между-семейным-положением-и-возвратом-кредита-в-срок-3.2\"><span class=\"toc-item-num\">3.2&nbsp;&nbsp;</span>Гипотеза о зависимости между семейным положением и возвратом кредита в срок</a></span></li><li><span><a href=\"#Гипотеза-о-зависимости-между-уровнем-дохода-и-возвратом-кредита-в-срок\" data-toc-modified-id=\"Гипотеза-о-зависимости-между-уровнем-дохода-и-возвратом-кредита-в-срок-3.3\"><span class=\"toc-item-num\">3.3&nbsp;&nbsp;</span>Гипотеза о зависимости между уровнем дохода и возвратом кредита в срок</a></span></li><li><span><a href=\"#Гипотеза-о-влиянии-цели-кредита-на-его-возврат-в-срок\" data-toc-modified-id=\"Гипотеза-о-влиянии-цели-кредита-на-его-возврат-в-срок-3.4\"><span class=\"toc-item-num\">3.4&nbsp;&nbsp;</span>Гипотеза о влиянии цели кредита на его возврат в срок</a></span></li></ul></li><li><span><a href=\"#Общий-вывод\" data-toc-modified-id=\"Общий-вывод-4\"><span class=\"toc-item-num\">4&nbsp;&nbsp;</span>Общий вывод</a></span></li></ul></div>"
   ]
  },
  {
   "cell_type": "markdown",
   "id": "e8f3cffb",
   "metadata": {},
   "source": [
    "## Общая информация о данных"
   ]
  },
  {
   "cell_type": "code",
   "execution_count": 1,
   "id": "0a564770",
   "metadata": {},
   "outputs": [],
   "source": [
    "import pandas as pd"
   ]
  },
  {
   "cell_type": "code",
   "execution_count": 2,
   "id": "87dda80a",
   "metadata": {},
   "outputs": [],
   "source": [
    "df = pd.read_csv('/datasets/data.csv')"
   ]
  },
  {
   "cell_type": "code",
   "execution_count": 3,
   "id": "f829e715",
   "metadata": {},
   "outputs": [
    {
     "data": {
      "text/html": [
       "<div>\n",
       "<style scoped>\n",
       "    .dataframe tbody tr th:only-of-type {\n",
       "        vertical-align: middle;\n",
       "    }\n",
       "\n",
       "    .dataframe tbody tr th {\n",
       "        vertical-align: top;\n",
       "    }\n",
       "\n",
       "    .dataframe thead th {\n",
       "        text-align: right;\n",
       "    }\n",
       "</style>\n",
       "<table border=\"1\" class=\"dataframe\">\n",
       "  <thead>\n",
       "    <tr style=\"text-align: right;\">\n",
       "      <th></th>\n",
       "      <th>children</th>\n",
       "      <th>days_employed</th>\n",
       "      <th>dob_years</th>\n",
       "      <th>education</th>\n",
       "      <th>education_id</th>\n",
       "      <th>family_status</th>\n",
       "      <th>family_status_id</th>\n",
       "      <th>gender</th>\n",
       "      <th>income_type</th>\n",
       "      <th>debt</th>\n",
       "      <th>total_income</th>\n",
       "      <th>purpose</th>\n",
       "    </tr>\n",
       "  </thead>\n",
       "  <tbody>\n",
       "    <tr>\n",
       "      <td>0</td>\n",
       "      <td>1</td>\n",
       "      <td>-8437.673028</td>\n",
       "      <td>42</td>\n",
       "      <td>высшее</td>\n",
       "      <td>0</td>\n",
       "      <td>женат / замужем</td>\n",
       "      <td>0</td>\n",
       "      <td>F</td>\n",
       "      <td>сотрудник</td>\n",
       "      <td>0</td>\n",
       "      <td>253875.639453</td>\n",
       "      <td>покупка жилья</td>\n",
       "    </tr>\n",
       "    <tr>\n",
       "      <td>1</td>\n",
       "      <td>1</td>\n",
       "      <td>-4024.803754</td>\n",
       "      <td>36</td>\n",
       "      <td>среднее</td>\n",
       "      <td>1</td>\n",
       "      <td>женат / замужем</td>\n",
       "      <td>0</td>\n",
       "      <td>F</td>\n",
       "      <td>сотрудник</td>\n",
       "      <td>0</td>\n",
       "      <td>112080.014102</td>\n",
       "      <td>приобретение автомобиля</td>\n",
       "    </tr>\n",
       "    <tr>\n",
       "      <td>2</td>\n",
       "      <td>0</td>\n",
       "      <td>-5623.422610</td>\n",
       "      <td>33</td>\n",
       "      <td>Среднее</td>\n",
       "      <td>1</td>\n",
       "      <td>женат / замужем</td>\n",
       "      <td>0</td>\n",
       "      <td>M</td>\n",
       "      <td>сотрудник</td>\n",
       "      <td>0</td>\n",
       "      <td>145885.952297</td>\n",
       "      <td>покупка жилья</td>\n",
       "    </tr>\n",
       "    <tr>\n",
       "      <td>3</td>\n",
       "      <td>3</td>\n",
       "      <td>-4124.747207</td>\n",
       "      <td>32</td>\n",
       "      <td>среднее</td>\n",
       "      <td>1</td>\n",
       "      <td>женат / замужем</td>\n",
       "      <td>0</td>\n",
       "      <td>M</td>\n",
       "      <td>сотрудник</td>\n",
       "      <td>0</td>\n",
       "      <td>267628.550329</td>\n",
       "      <td>дополнительное образование</td>\n",
       "    </tr>\n",
       "    <tr>\n",
       "      <td>4</td>\n",
       "      <td>0</td>\n",
       "      <td>340266.072047</td>\n",
       "      <td>53</td>\n",
       "      <td>среднее</td>\n",
       "      <td>1</td>\n",
       "      <td>гражданский брак</td>\n",
       "      <td>1</td>\n",
       "      <td>F</td>\n",
       "      <td>пенсионер</td>\n",
       "      <td>0</td>\n",
       "      <td>158616.077870</td>\n",
       "      <td>сыграть свадьбу</td>\n",
       "    </tr>\n",
       "    <tr>\n",
       "      <td>5</td>\n",
       "      <td>0</td>\n",
       "      <td>-926.185831</td>\n",
       "      <td>27</td>\n",
       "      <td>высшее</td>\n",
       "      <td>0</td>\n",
       "      <td>гражданский брак</td>\n",
       "      <td>1</td>\n",
       "      <td>M</td>\n",
       "      <td>компаньон</td>\n",
       "      <td>0</td>\n",
       "      <td>255763.565419</td>\n",
       "      <td>покупка жилья</td>\n",
       "    </tr>\n",
       "    <tr>\n",
       "      <td>6</td>\n",
       "      <td>0</td>\n",
       "      <td>-2879.202052</td>\n",
       "      <td>43</td>\n",
       "      <td>высшее</td>\n",
       "      <td>0</td>\n",
       "      <td>женат / замужем</td>\n",
       "      <td>0</td>\n",
       "      <td>F</td>\n",
       "      <td>компаньон</td>\n",
       "      <td>0</td>\n",
       "      <td>240525.971920</td>\n",
       "      <td>операции с жильем</td>\n",
       "    </tr>\n",
       "    <tr>\n",
       "      <td>7</td>\n",
       "      <td>0</td>\n",
       "      <td>-152.779569</td>\n",
       "      <td>50</td>\n",
       "      <td>СРЕДНЕЕ</td>\n",
       "      <td>1</td>\n",
       "      <td>женат / замужем</td>\n",
       "      <td>0</td>\n",
       "      <td>M</td>\n",
       "      <td>сотрудник</td>\n",
       "      <td>0</td>\n",
       "      <td>135823.934197</td>\n",
       "      <td>образование</td>\n",
       "    </tr>\n",
       "    <tr>\n",
       "      <td>8</td>\n",
       "      <td>2</td>\n",
       "      <td>-6929.865299</td>\n",
       "      <td>35</td>\n",
       "      <td>ВЫСШЕЕ</td>\n",
       "      <td>0</td>\n",
       "      <td>гражданский брак</td>\n",
       "      <td>1</td>\n",
       "      <td>F</td>\n",
       "      <td>сотрудник</td>\n",
       "      <td>0</td>\n",
       "      <td>95856.832424</td>\n",
       "      <td>на проведение свадьбы</td>\n",
       "    </tr>\n",
       "    <tr>\n",
       "      <td>9</td>\n",
       "      <td>0</td>\n",
       "      <td>-2188.756445</td>\n",
       "      <td>41</td>\n",
       "      <td>среднее</td>\n",
       "      <td>1</td>\n",
       "      <td>женат / замужем</td>\n",
       "      <td>0</td>\n",
       "      <td>M</td>\n",
       "      <td>сотрудник</td>\n",
       "      <td>0</td>\n",
       "      <td>144425.938277</td>\n",
       "      <td>покупка жилья для семьи</td>\n",
       "    </tr>\n",
       "    <tr>\n",
       "      <td>10</td>\n",
       "      <td>2</td>\n",
       "      <td>-4171.483647</td>\n",
       "      <td>36</td>\n",
       "      <td>высшее</td>\n",
       "      <td>0</td>\n",
       "      <td>женат / замужем</td>\n",
       "      <td>0</td>\n",
       "      <td>M</td>\n",
       "      <td>компаньон</td>\n",
       "      <td>0</td>\n",
       "      <td>113943.491460</td>\n",
       "      <td>покупка недвижимости</td>\n",
       "    </tr>\n",
       "    <tr>\n",
       "      <td>11</td>\n",
       "      <td>0</td>\n",
       "      <td>-792.701887</td>\n",
       "      <td>40</td>\n",
       "      <td>среднее</td>\n",
       "      <td>1</td>\n",
       "      <td>женат / замужем</td>\n",
       "      <td>0</td>\n",
       "      <td>F</td>\n",
       "      <td>сотрудник</td>\n",
       "      <td>0</td>\n",
       "      <td>77069.234271</td>\n",
       "      <td>покупка коммерческой недвижимости</td>\n",
       "    </tr>\n",
       "    <tr>\n",
       "      <td>12</td>\n",
       "      <td>0</td>\n",
       "      <td>NaN</td>\n",
       "      <td>65</td>\n",
       "      <td>среднее</td>\n",
       "      <td>1</td>\n",
       "      <td>гражданский брак</td>\n",
       "      <td>1</td>\n",
       "      <td>M</td>\n",
       "      <td>пенсионер</td>\n",
       "      <td>0</td>\n",
       "      <td>NaN</td>\n",
       "      <td>сыграть свадьбу</td>\n",
       "    </tr>\n",
       "    <tr>\n",
       "      <td>13</td>\n",
       "      <td>0</td>\n",
       "      <td>-1846.641941</td>\n",
       "      <td>54</td>\n",
       "      <td>неоконченное высшее</td>\n",
       "      <td>2</td>\n",
       "      <td>женат / замужем</td>\n",
       "      <td>0</td>\n",
       "      <td>F</td>\n",
       "      <td>сотрудник</td>\n",
       "      <td>0</td>\n",
       "      <td>130458.228857</td>\n",
       "      <td>приобретение автомобиля</td>\n",
       "    </tr>\n",
       "    <tr>\n",
       "      <td>14</td>\n",
       "      <td>0</td>\n",
       "      <td>-1844.956182</td>\n",
       "      <td>56</td>\n",
       "      <td>высшее</td>\n",
       "      <td>0</td>\n",
       "      <td>гражданский брак</td>\n",
       "      <td>1</td>\n",
       "      <td>F</td>\n",
       "      <td>компаньон</td>\n",
       "      <td>1</td>\n",
       "      <td>165127.911772</td>\n",
       "      <td>покупка жилой недвижимости</td>\n",
       "    </tr>\n",
       "  </tbody>\n",
       "</table>\n",
       "</div>"
      ],
      "text/plain": [
       "    children  days_employed  dob_years            education  education_id  \\\n",
       "0          1   -8437.673028         42               высшее             0   \n",
       "1          1   -4024.803754         36              среднее             1   \n",
       "2          0   -5623.422610         33              Среднее             1   \n",
       "3          3   -4124.747207         32              среднее             1   \n",
       "4          0  340266.072047         53              среднее             1   \n",
       "5          0    -926.185831         27               высшее             0   \n",
       "6          0   -2879.202052         43               высшее             0   \n",
       "7          0    -152.779569         50              СРЕДНЕЕ             1   \n",
       "8          2   -6929.865299         35               ВЫСШЕЕ             0   \n",
       "9          0   -2188.756445         41              среднее             1   \n",
       "10         2   -4171.483647         36               высшее             0   \n",
       "11         0    -792.701887         40              среднее             1   \n",
       "12         0            NaN         65              среднее             1   \n",
       "13         0   -1846.641941         54  неоконченное высшее             2   \n",
       "14         0   -1844.956182         56               высшее             0   \n",
       "\n",
       "       family_status  family_status_id gender income_type  debt  \\\n",
       "0    женат / замужем                 0      F   сотрудник     0   \n",
       "1    женат / замужем                 0      F   сотрудник     0   \n",
       "2    женат / замужем                 0      M   сотрудник     0   \n",
       "3    женат / замужем                 0      M   сотрудник     0   \n",
       "4   гражданский брак                 1      F   пенсионер     0   \n",
       "5   гражданский брак                 1      M   компаньон     0   \n",
       "6    женат / замужем                 0      F   компаньон     0   \n",
       "7    женат / замужем                 0      M   сотрудник     0   \n",
       "8   гражданский брак                 1      F   сотрудник     0   \n",
       "9    женат / замужем                 0      M   сотрудник     0   \n",
       "10   женат / замужем                 0      M   компаньон     0   \n",
       "11   женат / замужем                 0      F   сотрудник     0   \n",
       "12  гражданский брак                 1      M   пенсионер     0   \n",
       "13   женат / замужем                 0      F   сотрудник     0   \n",
       "14  гражданский брак                 1      F   компаньон     1   \n",
       "\n",
       "     total_income                            purpose  \n",
       "0   253875.639453                      покупка жилья  \n",
       "1   112080.014102            приобретение автомобиля  \n",
       "2   145885.952297                      покупка жилья  \n",
       "3   267628.550329         дополнительное образование  \n",
       "4   158616.077870                    сыграть свадьбу  \n",
       "5   255763.565419                      покупка жилья  \n",
       "6   240525.971920                  операции с жильем  \n",
       "7   135823.934197                        образование  \n",
       "8    95856.832424              на проведение свадьбы  \n",
       "9   144425.938277            покупка жилья для семьи  \n",
       "10  113943.491460               покупка недвижимости  \n",
       "11   77069.234271  покупка коммерческой недвижимости  \n",
       "12            NaN                    сыграть свадьбу  \n",
       "13  130458.228857            приобретение автомобиля  \n",
       "14  165127.911772         покупка жилой недвижимости  "
      ]
     },
     "execution_count": 3,
     "metadata": {},
     "output_type": "execute_result"
    }
   ],
   "source": [
    "df.head(15)"
   ]
  },
  {
   "cell_type": "code",
   "execution_count": 4,
   "id": "b37d3793",
   "metadata": {},
   "outputs": [
    {
     "name": "stdout",
     "output_type": "stream",
     "text": [
      "<class 'pandas.core.frame.DataFrame'>\n",
      "RangeIndex: 21525 entries, 0 to 21524\n",
      "Data columns (total 12 columns):\n",
      "children            21525 non-null int64\n",
      "days_employed       19351 non-null float64\n",
      "dob_years           21525 non-null int64\n",
      "education           21525 non-null object\n",
      "education_id        21525 non-null int64\n",
      "family_status       21525 non-null object\n",
      "family_status_id    21525 non-null int64\n",
      "gender              21525 non-null object\n",
      "income_type         21525 non-null object\n",
      "debt                21525 non-null int64\n",
      "total_income        19351 non-null float64\n",
      "purpose             21525 non-null object\n",
      "dtypes: float64(2), int64(5), object(5)\n",
      "memory usage: 2.0+ MB\n"
     ]
    }
   ],
   "source": [
    "df.info()"
   ]
  },
  {
   "cell_type": "markdown",
   "id": "5330c4e1",
   "metadata": {},
   "source": [
    "**Вывод** - в столбцах `days_employed`и `total_income` есть пропущенные значения"
   ]
  },
  {
   "cell_type": "markdown",
   "id": "d2615da0",
   "metadata": {},
   "source": [
    "## Предобработка данных"
   ]
  },
  {
   "cell_type": "markdown",
   "id": "a7a53b18",
   "metadata": {},
   "source": [
    "### Определение и заполнение пропущенных значений"
   ]
  },
  {
   "cell_type": "code",
   "execution_count": 5,
   "id": "72f98337",
   "metadata": {},
   "outputs": [
    {
     "data": {
      "text/plain": [
       "children               0\n",
       "days_employed       2174\n",
       "dob_years              0\n",
       "education              0\n",
       "education_id           0\n",
       "family_status          0\n",
       "family_status_id       0\n",
       "gender                 0\n",
       "income_type            0\n",
       "debt                   0\n",
       "total_income        2174\n",
       "purpose                0\n",
       "dtype: int64"
      ]
     },
     "execution_count": 5,
     "metadata": {},
     "output_type": "execute_result"
    }
   ],
   "source": [
    "df.isna().sum()\n",
    "\n",
    "\n",
    "\n"
   ]
  },
  {
   "cell_type": "code",
   "execution_count": 6,
   "id": "e1abd9eb",
   "metadata": {},
   "outputs": [
    {
     "data": {
      "text/html": [
       "<div>\n",
       "<style scoped>\n",
       "    .dataframe tbody tr th:only-of-type {\n",
       "        vertical-align: middle;\n",
       "    }\n",
       "\n",
       "    .dataframe tbody tr th {\n",
       "        vertical-align: top;\n",
       "    }\n",
       "\n",
       "    .dataframe thead th {\n",
       "        text-align: right;\n",
       "    }\n",
       "</style>\n",
       "<table border=\"1\" class=\"dataframe\">\n",
       "  <thead>\n",
       "    <tr style=\"text-align: right;\">\n",
       "      <th></th>\n",
       "      <th>children</th>\n",
       "      <th>days_employed</th>\n",
       "      <th>dob_years</th>\n",
       "      <th>education</th>\n",
       "      <th>education_id</th>\n",
       "      <th>family_status</th>\n",
       "      <th>family_status_id</th>\n",
       "      <th>gender</th>\n",
       "      <th>income_type</th>\n",
       "      <th>debt</th>\n",
       "      <th>total_income</th>\n",
       "      <th>purpose</th>\n",
       "    </tr>\n",
       "  </thead>\n",
       "  <tbody>\n",
       "    <tr>\n",
       "      <td>12</td>\n",
       "      <td>0</td>\n",
       "      <td>0.0</td>\n",
       "      <td>65</td>\n",
       "      <td>среднее</td>\n",
       "      <td>1</td>\n",
       "      <td>гражданский брак</td>\n",
       "      <td>1</td>\n",
       "      <td>M</td>\n",
       "      <td>пенсионер</td>\n",
       "      <td>0</td>\n",
       "      <td>0.0</td>\n",
       "      <td>сыграть свадьбу</td>\n",
       "    </tr>\n",
       "    <tr>\n",
       "      <td>26</td>\n",
       "      <td>0</td>\n",
       "      <td>0.0</td>\n",
       "      <td>41</td>\n",
       "      <td>среднее</td>\n",
       "      <td>1</td>\n",
       "      <td>женат / замужем</td>\n",
       "      <td>0</td>\n",
       "      <td>M</td>\n",
       "      <td>госслужащий</td>\n",
       "      <td>0</td>\n",
       "      <td>0.0</td>\n",
       "      <td>образование</td>\n",
       "    </tr>\n",
       "    <tr>\n",
       "      <td>29</td>\n",
       "      <td>0</td>\n",
       "      <td>0.0</td>\n",
       "      <td>63</td>\n",
       "      <td>среднее</td>\n",
       "      <td>1</td>\n",
       "      <td>Не женат / не замужем</td>\n",
       "      <td>4</td>\n",
       "      <td>F</td>\n",
       "      <td>пенсионер</td>\n",
       "      <td>0</td>\n",
       "      <td>0.0</td>\n",
       "      <td>строительство жилой недвижимости</td>\n",
       "    </tr>\n",
       "    <tr>\n",
       "      <td>41</td>\n",
       "      <td>0</td>\n",
       "      <td>0.0</td>\n",
       "      <td>50</td>\n",
       "      <td>среднее</td>\n",
       "      <td>1</td>\n",
       "      <td>женат / замужем</td>\n",
       "      <td>0</td>\n",
       "      <td>F</td>\n",
       "      <td>госслужащий</td>\n",
       "      <td>0</td>\n",
       "      <td>0.0</td>\n",
       "      <td>сделка с подержанным автомобилем</td>\n",
       "    </tr>\n",
       "    <tr>\n",
       "      <td>55</td>\n",
       "      <td>0</td>\n",
       "      <td>0.0</td>\n",
       "      <td>54</td>\n",
       "      <td>среднее</td>\n",
       "      <td>1</td>\n",
       "      <td>гражданский брак</td>\n",
       "      <td>1</td>\n",
       "      <td>F</td>\n",
       "      <td>пенсионер</td>\n",
       "      <td>1</td>\n",
       "      <td>0.0</td>\n",
       "      <td>сыграть свадьбу</td>\n",
       "    </tr>\n",
       "    <tr>\n",
       "      <td>...</td>\n",
       "      <td>...</td>\n",
       "      <td>...</td>\n",
       "      <td>...</td>\n",
       "      <td>...</td>\n",
       "      <td>...</td>\n",
       "      <td>...</td>\n",
       "      <td>...</td>\n",
       "      <td>...</td>\n",
       "      <td>...</td>\n",
       "      <td>...</td>\n",
       "      <td>...</td>\n",
       "      <td>...</td>\n",
       "    </tr>\n",
       "    <tr>\n",
       "      <td>21489</td>\n",
       "      <td>2</td>\n",
       "      <td>0.0</td>\n",
       "      <td>47</td>\n",
       "      <td>Среднее</td>\n",
       "      <td>1</td>\n",
       "      <td>женат / замужем</td>\n",
       "      <td>0</td>\n",
       "      <td>M</td>\n",
       "      <td>компаньон</td>\n",
       "      <td>0</td>\n",
       "      <td>0.0</td>\n",
       "      <td>сделка с автомобилем</td>\n",
       "    </tr>\n",
       "    <tr>\n",
       "      <td>21495</td>\n",
       "      <td>1</td>\n",
       "      <td>0.0</td>\n",
       "      <td>50</td>\n",
       "      <td>среднее</td>\n",
       "      <td>1</td>\n",
       "      <td>гражданский брак</td>\n",
       "      <td>1</td>\n",
       "      <td>F</td>\n",
       "      <td>сотрудник</td>\n",
       "      <td>0</td>\n",
       "      <td>0.0</td>\n",
       "      <td>свадьба</td>\n",
       "    </tr>\n",
       "    <tr>\n",
       "      <td>21497</td>\n",
       "      <td>0</td>\n",
       "      <td>0.0</td>\n",
       "      <td>48</td>\n",
       "      <td>ВЫСШЕЕ</td>\n",
       "      <td>0</td>\n",
       "      <td>женат / замужем</td>\n",
       "      <td>0</td>\n",
       "      <td>F</td>\n",
       "      <td>компаньон</td>\n",
       "      <td>0</td>\n",
       "      <td>0.0</td>\n",
       "      <td>строительство недвижимости</td>\n",
       "    </tr>\n",
       "    <tr>\n",
       "      <td>21502</td>\n",
       "      <td>1</td>\n",
       "      <td>0.0</td>\n",
       "      <td>42</td>\n",
       "      <td>среднее</td>\n",
       "      <td>1</td>\n",
       "      <td>женат / замужем</td>\n",
       "      <td>0</td>\n",
       "      <td>F</td>\n",
       "      <td>сотрудник</td>\n",
       "      <td>0</td>\n",
       "      <td>0.0</td>\n",
       "      <td>строительство жилой недвижимости</td>\n",
       "    </tr>\n",
       "    <tr>\n",
       "      <td>21510</td>\n",
       "      <td>2</td>\n",
       "      <td>0.0</td>\n",
       "      <td>28</td>\n",
       "      <td>среднее</td>\n",
       "      <td>1</td>\n",
       "      <td>женат / замужем</td>\n",
       "      <td>0</td>\n",
       "      <td>F</td>\n",
       "      <td>сотрудник</td>\n",
       "      <td>0</td>\n",
       "      <td>0.0</td>\n",
       "      <td>приобретение автомобиля</td>\n",
       "    </tr>\n",
       "  </tbody>\n",
       "</table>\n",
       "<p>2174 rows × 12 columns</p>\n",
       "</div>"
      ],
      "text/plain": [
       "       children  days_employed  dob_years education  education_id  \\\n",
       "12            0            0.0         65   среднее             1   \n",
       "26            0            0.0         41   среднее             1   \n",
       "29            0            0.0         63   среднее             1   \n",
       "41            0            0.0         50   среднее             1   \n",
       "55            0            0.0         54   среднее             1   \n",
       "...         ...            ...        ...       ...           ...   \n",
       "21489         2            0.0         47   Среднее             1   \n",
       "21495         1            0.0         50   среднее             1   \n",
       "21497         0            0.0         48    ВЫСШЕЕ             0   \n",
       "21502         1            0.0         42   среднее             1   \n",
       "21510         2            0.0         28   среднее             1   \n",
       "\n",
       "               family_status  family_status_id gender  income_type  debt  \\\n",
       "12          гражданский брак                 1      M    пенсионер     0   \n",
       "26           женат / замужем                 0      M  госслужащий     0   \n",
       "29     Не женат / не замужем                 4      F    пенсионер     0   \n",
       "41           женат / замужем                 0      F  госслужащий     0   \n",
       "55          гражданский брак                 1      F    пенсионер     1   \n",
       "...                      ...               ...    ...          ...   ...   \n",
       "21489        женат / замужем                 0      M    компаньон     0   \n",
       "21495       гражданский брак                 1      F    сотрудник     0   \n",
       "21497        женат / замужем                 0      F    компаньон     0   \n",
       "21502        женат / замужем                 0      F    сотрудник     0   \n",
       "21510        женат / замужем                 0      F    сотрудник     0   \n",
       "\n",
       "       total_income                           purpose  \n",
       "12              0.0                   сыграть свадьбу  \n",
       "26              0.0                       образование  \n",
       "29              0.0  строительство жилой недвижимости  \n",
       "41              0.0  сделка с подержанным автомобилем  \n",
       "55              0.0                   сыграть свадьбу  \n",
       "...             ...                               ...  \n",
       "21489           0.0              сделка с автомобилем  \n",
       "21495           0.0                           свадьба  \n",
       "21497           0.0        строительство недвижимости  \n",
       "21502           0.0  строительство жилой недвижимости  \n",
       "21510           0.0           приобретение автомобиля  \n",
       "\n",
       "[2174 rows x 12 columns]"
      ]
     },
     "execution_count": 6,
     "metadata": {},
     "output_type": "execute_result"
    }
   ],
   "source": [
    "df = df.fillna(0)\n",
    "\n",
    "df[df['days_employed'] == 0]\n"
   ]
  },
  {
   "cell_type": "code",
   "execution_count": 7,
   "id": "c9177a0e",
   "metadata": {},
   "outputs": [
    {
     "data": {
      "text/html": [
       "<div>\n",
       "<style scoped>\n",
       "    .dataframe tbody tr th:only-of-type {\n",
       "        vertical-align: middle;\n",
       "    }\n",
       "\n",
       "    .dataframe tbody tr th {\n",
       "        vertical-align: top;\n",
       "    }\n",
       "\n",
       "    .dataframe thead th {\n",
       "        text-align: right;\n",
       "    }\n",
       "</style>\n",
       "<table border=\"1\" class=\"dataframe\">\n",
       "  <thead>\n",
       "    <tr style=\"text-align: right;\">\n",
       "      <th></th>\n",
       "      <th>children</th>\n",
       "      <th>days_employed</th>\n",
       "      <th>dob_years</th>\n",
       "      <th>education</th>\n",
       "      <th>education_id</th>\n",
       "      <th>family_status</th>\n",
       "      <th>family_status_id</th>\n",
       "      <th>gender</th>\n",
       "      <th>income_type</th>\n",
       "      <th>debt</th>\n",
       "      <th>total_income</th>\n",
       "      <th>purpose</th>\n",
       "    </tr>\n",
       "  </thead>\n",
       "  <tbody>\n",
       "  </tbody>\n",
       "</table>\n",
       "</div>"
      ],
      "text/plain": [
       "Empty DataFrame\n",
       "Columns: [children, days_employed, dob_years, education, education_id, family_status, family_status_id, gender, income_type, debt, total_income, purpose]\n",
       "Index: []"
      ]
     },
     "execution_count": 7,
     "metadata": {},
     "output_type": "execute_result"
    }
   ],
   "source": [
    "df[(df['days_employed'] != 0) & (df['total_income'] == 0)]"
   ]
  },
  {
   "cell_type": "code",
   "execution_count": 8,
   "id": "46ce9ffa",
   "metadata": {},
   "outputs": [
    {
     "data": {
      "text/plain": [
       "сотрудник          1105\n",
       "компаньон           508\n",
       "пенсионер           413\n",
       "госслужащий         147\n",
       "предприниматель       1\n",
       "Name: income_type, dtype: int64"
      ]
     },
     "execution_count": 8,
     "metadata": {},
     "output_type": "execute_result"
    }
   ],
   "source": [
    "df[df['days_employed'] == 0]['income_type'].value_counts()\n"
   ]
  },
  {
   "cell_type": "code",
   "execution_count": 9,
   "id": "09a0a213",
   "metadata": {},
   "outputs": [
    {
     "data": {
      "text/plain": [
       "сотрудник          11119\n",
       "компаньон           5085\n",
       "пенсионер           3856\n",
       "госслужащий         1459\n",
       "предприниматель        2\n",
       "безработный            2\n",
       "в декрете              1\n",
       "студент                1\n",
       "Name: income_type, dtype: int64"
      ]
     },
     "execution_count": 9,
     "metadata": {},
     "output_type": "execute_result"
    }
   ],
   "source": [
    "df['income_type'].value_counts()"
   ]
  },
  {
   "cell_type": "markdown",
   "id": "8e2767e1",
   "metadata": {},
   "source": [
    "**Вывод:** Объём данных с пропущенными значениями состовляет 10% от общего количества и просто удалить строки будет неразумно.\n",
    "Т.к. только для гипотезы о связи между доходом и возвратом кредита нам нужны данные о `total_income` — \"ежемесячный доход\", а данные `days_employed` — \"общий трудовой стаж в днях\" в гипотезах не принимает участие, то заменим все пропуски на ноль. \n",
    "А для `total_income` будем учитывать, что ноль - это отсутсвие данных. **Причины пропусков:** от действий операторов, например, когда данные в соотвествующей ячейке были выделены, нажали на цифровой клавиатуре клавишу 0 случайно, до технических ошибок при перезаписи данных."
   ]
  },
  {
   "cell_type": "markdown",
   "id": "ba8f4e2b",
   "metadata": {},
   "source": [
    "### Замена вещественного типа данных на целочисленный"
   ]
  },
  {
   "cell_type": "code",
   "execution_count": 10,
   "id": "1d081a12",
   "metadata": {},
   "outputs": [
    {
     "name": "stdout",
     "output_type": "stream",
     "text": [
      "<class 'pandas.core.frame.DataFrame'>\n",
      "RangeIndex: 21525 entries, 0 to 21524\n",
      "Data columns (total 12 columns):\n",
      "children            21525 non-null int64\n",
      "days_employed       21525 non-null int64\n",
      "dob_years           21525 non-null int64\n",
      "education           21525 non-null object\n",
      "education_id        21525 non-null int64\n",
      "family_status       21525 non-null object\n",
      "family_status_id    21525 non-null int64\n",
      "gender              21525 non-null object\n",
      "income_type         21525 non-null object\n",
      "debt                21525 non-null int64\n",
      "total_income        21525 non-null int64\n",
      "purpose             21525 non-null object\n",
      "dtypes: int64(7), object(5)\n",
      "memory usage: 2.0+ MB\n"
     ]
    }
   ],
   "source": [
    "df['days_employed'] = df['days_employed'].astype('int')\n",
    "\n",
    "df['total_income'] = df['total_income'].astype('int')\n",
    "\n",
    "df.info()\n",
    "\n",
    "#df.head(15)"
   ]
  },
  {
   "cell_type": "markdown",
   "id": "b8262203",
   "metadata": {},
   "source": [
    "### Удаление дубликатов"
   ]
  },
  {
   "cell_type": "code",
   "execution_count": 11,
   "id": "f5480d48",
   "metadata": {},
   "outputs": [
    {
     "data": {
      "text/plain": [
       "54"
      ]
     },
     "execution_count": 11,
     "metadata": {},
     "output_type": "execute_result"
    }
   ],
   "source": [
    "df.duplicated().sum()"
   ]
  },
  {
   "cell_type": "code",
   "execution_count": 12,
   "id": "26021fc5",
   "metadata": {},
   "outputs": [],
   "source": [
    "df = df.drop_duplicates().reset_index(drop = True)"
   ]
  },
  {
   "cell_type": "code",
   "execution_count": 13,
   "id": "73d080fc",
   "metadata": {},
   "outputs": [
    {
     "data": {
      "text/plain": [
       "0"
      ]
     },
     "execution_count": 13,
     "metadata": {},
     "output_type": "execute_result"
    }
   ],
   "source": [
    "df.duplicated().sum()"
   ]
  },
  {
   "cell_type": "markdown",
   "id": "bab60516",
   "metadata": {},
   "source": [
    "Явные дубликаты ушли в прошлое."
   ]
  },
  {
   "cell_type": "code",
   "execution_count": 14,
   "id": "99a5d188",
   "metadata": {},
   "outputs": [],
   "source": [
    "#применим метод str.lower() ко всем столбцам имеющим тип object\n",
    "\n",
    "name_columns = df.columns\n",
    "\n",
    "for name_column in name_columns:\n",
    "    if df[name_column].dtypes == 'object':\n",
    "        df[name_column] = df[name_column].str.lower()"
   ]
  },
  {
   "cell_type": "code",
   "execution_count": 15,
   "id": "bd8eb637",
   "metadata": {},
   "outputs": [
    {
     "data": {
      "text/plain": [
       "17"
      ]
     },
     "execution_count": 15,
     "metadata": {},
     "output_type": "execute_result"
    }
   ],
   "source": [
    "df.duplicated().sum()"
   ]
  },
  {
   "cell_type": "markdown",
   "id": "2b8a98f2",
   "metadata": {},
   "source": [
    "Привели к единообразному виду и ещё 17 дубликатов нашли."
   ]
  },
  {
   "cell_type": "code",
   "execution_count": 16,
   "id": "15f4bd99",
   "metadata": {},
   "outputs": [],
   "source": [
    "df = df.drop_duplicates().reset_index(drop = True)"
   ]
  },
  {
   "cell_type": "code",
   "execution_count": 17,
   "id": "d5dd2d54",
   "metadata": {},
   "outputs": [
    {
     "data": {
      "text/plain": [
       "0"
      ]
     },
     "execution_count": 17,
     "metadata": {},
     "output_type": "execute_result"
    }
   ],
   "source": [
    "df.duplicated().sum()"
   ]
  },
  {
   "cell_type": "code",
   "execution_count": 18,
   "id": "445ce2ef",
   "metadata": {},
   "outputs": [
    {
     "data": {
      "text/html": [
       "<div>\n",
       "<style scoped>\n",
       "    .dataframe tbody tr th:only-of-type {\n",
       "        vertical-align: middle;\n",
       "    }\n",
       "\n",
       "    .dataframe tbody tr th {\n",
       "        vertical-align: top;\n",
       "    }\n",
       "\n",
       "    .dataframe thead th {\n",
       "        text-align: right;\n",
       "    }\n",
       "</style>\n",
       "<table border=\"1\" class=\"dataframe\">\n",
       "  <thead>\n",
       "    <tr style=\"text-align: right;\">\n",
       "      <th></th>\n",
       "      <th>children</th>\n",
       "      <th>days_employed</th>\n",
       "      <th>dob_years</th>\n",
       "      <th>education</th>\n",
       "      <th>education_id</th>\n",
       "      <th>family_status</th>\n",
       "      <th>family_status_id</th>\n",
       "      <th>gender</th>\n",
       "      <th>income_type</th>\n",
       "      <th>debt</th>\n",
       "      <th>total_income</th>\n",
       "      <th>purpose</th>\n",
       "    </tr>\n",
       "  </thead>\n",
       "  <tbody>\n",
       "    <tr>\n",
       "      <td>0</td>\n",
       "      <td>1</td>\n",
       "      <td>-8437</td>\n",
       "      <td>42</td>\n",
       "      <td>высшее</td>\n",
       "      <td>0</td>\n",
       "      <td>женат / замужем</td>\n",
       "      <td>0</td>\n",
       "      <td>f</td>\n",
       "      <td>сотрудник</td>\n",
       "      <td>0</td>\n",
       "      <td>253875</td>\n",
       "      <td>покупка жилья</td>\n",
       "    </tr>\n",
       "    <tr>\n",
       "      <td>1</td>\n",
       "      <td>1</td>\n",
       "      <td>-4024</td>\n",
       "      <td>36</td>\n",
       "      <td>среднее</td>\n",
       "      <td>1</td>\n",
       "      <td>женат / замужем</td>\n",
       "      <td>0</td>\n",
       "      <td>f</td>\n",
       "      <td>сотрудник</td>\n",
       "      <td>0</td>\n",
       "      <td>112080</td>\n",
       "      <td>приобретение автомобиля</td>\n",
       "    </tr>\n",
       "    <tr>\n",
       "      <td>2</td>\n",
       "      <td>0</td>\n",
       "      <td>-5623</td>\n",
       "      <td>33</td>\n",
       "      <td>среднее</td>\n",
       "      <td>1</td>\n",
       "      <td>женат / замужем</td>\n",
       "      <td>0</td>\n",
       "      <td>m</td>\n",
       "      <td>сотрудник</td>\n",
       "      <td>0</td>\n",
       "      <td>145885</td>\n",
       "      <td>покупка жилья</td>\n",
       "    </tr>\n",
       "    <tr>\n",
       "      <td>3</td>\n",
       "      <td>3</td>\n",
       "      <td>-4124</td>\n",
       "      <td>32</td>\n",
       "      <td>среднее</td>\n",
       "      <td>1</td>\n",
       "      <td>женат / замужем</td>\n",
       "      <td>0</td>\n",
       "      <td>m</td>\n",
       "      <td>сотрудник</td>\n",
       "      <td>0</td>\n",
       "      <td>267628</td>\n",
       "      <td>дополнительное образование</td>\n",
       "    </tr>\n",
       "    <tr>\n",
       "      <td>4</td>\n",
       "      <td>0</td>\n",
       "      <td>340266</td>\n",
       "      <td>53</td>\n",
       "      <td>среднее</td>\n",
       "      <td>1</td>\n",
       "      <td>гражданский брак</td>\n",
       "      <td>1</td>\n",
       "      <td>f</td>\n",
       "      <td>пенсионер</td>\n",
       "      <td>0</td>\n",
       "      <td>158616</td>\n",
       "      <td>сыграть свадьбу</td>\n",
       "    </tr>\n",
       "    <tr>\n",
       "      <td>5</td>\n",
       "      <td>0</td>\n",
       "      <td>-926</td>\n",
       "      <td>27</td>\n",
       "      <td>высшее</td>\n",
       "      <td>0</td>\n",
       "      <td>гражданский брак</td>\n",
       "      <td>1</td>\n",
       "      <td>m</td>\n",
       "      <td>компаньон</td>\n",
       "      <td>0</td>\n",
       "      <td>255763</td>\n",
       "      <td>покупка жилья</td>\n",
       "    </tr>\n",
       "    <tr>\n",
       "      <td>6</td>\n",
       "      <td>0</td>\n",
       "      <td>-2879</td>\n",
       "      <td>43</td>\n",
       "      <td>высшее</td>\n",
       "      <td>0</td>\n",
       "      <td>женат / замужем</td>\n",
       "      <td>0</td>\n",
       "      <td>f</td>\n",
       "      <td>компаньон</td>\n",
       "      <td>0</td>\n",
       "      <td>240525</td>\n",
       "      <td>операции с жильем</td>\n",
       "    </tr>\n",
       "    <tr>\n",
       "      <td>7</td>\n",
       "      <td>0</td>\n",
       "      <td>-152</td>\n",
       "      <td>50</td>\n",
       "      <td>среднее</td>\n",
       "      <td>1</td>\n",
       "      <td>женат / замужем</td>\n",
       "      <td>0</td>\n",
       "      <td>m</td>\n",
       "      <td>сотрудник</td>\n",
       "      <td>0</td>\n",
       "      <td>135823</td>\n",
       "      <td>образование</td>\n",
       "    </tr>\n",
       "    <tr>\n",
       "      <td>8</td>\n",
       "      <td>2</td>\n",
       "      <td>-6929</td>\n",
       "      <td>35</td>\n",
       "      <td>высшее</td>\n",
       "      <td>0</td>\n",
       "      <td>гражданский брак</td>\n",
       "      <td>1</td>\n",
       "      <td>f</td>\n",
       "      <td>сотрудник</td>\n",
       "      <td>0</td>\n",
       "      <td>95856</td>\n",
       "      <td>на проведение свадьбы</td>\n",
       "    </tr>\n",
       "    <tr>\n",
       "      <td>9</td>\n",
       "      <td>0</td>\n",
       "      <td>-2188</td>\n",
       "      <td>41</td>\n",
       "      <td>среднее</td>\n",
       "      <td>1</td>\n",
       "      <td>женат / замужем</td>\n",
       "      <td>0</td>\n",
       "      <td>m</td>\n",
       "      <td>сотрудник</td>\n",
       "      <td>0</td>\n",
       "      <td>144425</td>\n",
       "      <td>покупка жилья для семьи</td>\n",
       "    </tr>\n",
       "  </tbody>\n",
       "</table>\n",
       "</div>"
      ],
      "text/plain": [
       "   children  days_employed  dob_years education  education_id  \\\n",
       "0         1          -8437         42    высшее             0   \n",
       "1         1          -4024         36   среднее             1   \n",
       "2         0          -5623         33   среднее             1   \n",
       "3         3          -4124         32   среднее             1   \n",
       "4         0         340266         53   среднее             1   \n",
       "5         0           -926         27    высшее             0   \n",
       "6         0          -2879         43    высшее             0   \n",
       "7         0           -152         50   среднее             1   \n",
       "8         2          -6929         35    высшее             0   \n",
       "9         0          -2188         41   среднее             1   \n",
       "\n",
       "      family_status  family_status_id gender income_type  debt  total_income  \\\n",
       "0   женат / замужем                 0      f   сотрудник     0        253875   \n",
       "1   женат / замужем                 0      f   сотрудник     0        112080   \n",
       "2   женат / замужем                 0      m   сотрудник     0        145885   \n",
       "3   женат / замужем                 0      m   сотрудник     0        267628   \n",
       "4  гражданский брак                 1      f   пенсионер     0        158616   \n",
       "5  гражданский брак                 1      m   компаньон     0        255763   \n",
       "6   женат / замужем                 0      f   компаньон     0        240525   \n",
       "7   женат / замужем                 0      m   сотрудник     0        135823   \n",
       "8  гражданский брак                 1      f   сотрудник     0         95856   \n",
       "9   женат / замужем                 0      m   сотрудник     0        144425   \n",
       "\n",
       "                      purpose  \n",
       "0               покупка жилья  \n",
       "1     приобретение автомобиля  \n",
       "2               покупка жилья  \n",
       "3  дополнительное образование  \n",
       "4             сыграть свадьбу  \n",
       "5               покупка жилья  \n",
       "6           операции с жильем  \n",
       "7                 образование  \n",
       "8       на проведение свадьбы  \n",
       "9     покупка жилья для семьи  "
      ]
     },
     "execution_count": 18,
     "metadata": {},
     "output_type": "execute_result"
    }
   ],
   "source": [
    "df.head(10)"
   ]
  },
  {
   "cell_type": "markdown",
   "id": "867a81de",
   "metadata": {},
   "source": [
    "### Выделение лемм в значениях столбца `purpose` - \"цели кредита\""
   ]
  },
  {
   "cell_type": "code",
   "execution_count": 19,
   "id": "8e147275",
   "metadata": {},
   "outputs": [
    {
     "data": {
      "text/plain": [
       "свадьба                                   791\n",
       "на проведение свадьбы                     768\n",
       "сыграть свадьбу                           765\n",
       "операции с недвижимостью                  675\n",
       "покупка коммерческой недвижимости         661\n",
       "операции с жильем                         652\n",
       "покупка жилья для сдачи                   651\n",
       "операции с коммерческой недвижимостью     650\n",
       "покупка жилья                             646\n",
       "жилье                                     646\n",
       "покупка жилья для семьи                   638\n",
       "строительство собственной недвижимости    635\n",
       "недвижимость                              633\n",
       "операции со своей недвижимостью           627\n",
       "строительство жилой недвижимости          624\n",
       "покупка недвижимости                      621\n",
       "покупка своего жилья                      620\n",
       "строительство недвижимости                619\n",
       "ремонт жилью                              607\n",
       "покупка жилой недвижимости                606\n",
       "на покупку своего автомобиля              505\n",
       "заняться высшим образованием              496\n",
       "автомобиль                                494\n",
       "сделка с подержанным автомобилем          486\n",
       "свой автомобиль                           478\n",
       "на покупку подержанного автомобиля        478\n",
       "автомобили                                478\n",
       "на покупку автомобиля                     471\n",
       "приобретение автомобиля                   461\n",
       "дополнительное образование                460\n",
       "сделка с автомобилем                      455\n",
       "высшее образование                        452\n",
       "образование                               447\n",
       "получение дополнительного образования     446\n",
       "получение образования                     442\n",
       "профильное образование                    436\n",
       "получение высшего образования             426\n",
       "заняться образованием                     408\n",
       "Name: purpose, dtype: int64"
      ]
     },
     "execution_count": 19,
     "metadata": {},
     "output_type": "execute_result"
    }
   ],
   "source": [
    "df_unique = df['purpose'].value_counts()\n",
    "\n",
    "df_unique\n",
    "#len(df_unique)"
   ]
  },
  {
   "cell_type": "code",
   "execution_count": 20,
   "id": "be0d759c",
   "metadata": {},
   "outputs": [],
   "source": [
    "from pymystem3 import Mystem\n",
    "m = Mystem()\n",
    "\n",
    "purpose_lemmas = []\n",
    "\n",
    "for i in range(50):\n",
    "    lemmas = m.lemmatize(df.loc[i,'purpose'])\n",
    "    purpose_lemmas.append(lemmas)\n",
    "    "
   ]
  },
  {
   "cell_type": "code",
   "execution_count": 21,
   "id": "62c8a041",
   "metadata": {},
   "outputs": [
    {
     "data": {
      "text/plain": [
       "Counter({'автомобиль': 1, '\\n': 1})"
      ]
     },
     "execution_count": 21,
     "metadata": {},
     "output_type": "execute_result"
    }
   ],
   "source": [
    "from collections import Counter\n",
    "\n",
    "Counter(purpose_lemmas[49])"
   ]
  },
  {
   "cell_type": "markdown",
   "id": "763b0a54",
   "metadata": {},
   "source": [
    "### Категории данных"
   ]
  },
  {
   "cell_type": "code",
   "execution_count": 23,
   "id": "bd521193",
   "metadata": {},
   "outputs": [
    {
     "data": {
      "text/html": [
       "<div>\n",
       "<style scoped>\n",
       "    .dataframe tbody tr th:only-of-type {\n",
       "        vertical-align: middle;\n",
       "    }\n",
       "\n",
       "    .dataframe tbody tr th {\n",
       "        vertical-align: top;\n",
       "    }\n",
       "\n",
       "    .dataframe thead th {\n",
       "        text-align: right;\n",
       "    }\n",
       "</style>\n",
       "<table border=\"1\" class=\"dataframe\">\n",
       "  <thead>\n",
       "    <tr style=\"text-align: right;\">\n",
       "      <th></th>\n",
       "      <th>children</th>\n",
       "      <th>days_employed</th>\n",
       "      <th>dob_years</th>\n",
       "      <th>education</th>\n",
       "      <th>education_id</th>\n",
       "      <th>family_status</th>\n",
       "      <th>family_status_id</th>\n",
       "      <th>gender</th>\n",
       "      <th>income_type</th>\n",
       "      <th>debt</th>\n",
       "      <th>total_income</th>\n",
       "      <th>purpose</th>\n",
       "    </tr>\n",
       "  </thead>\n",
       "  <tbody>\n",
       "    <tr>\n",
       "      <td>0</td>\n",
       "      <td>1</td>\n",
       "      <td>-8437</td>\n",
       "      <td>42</td>\n",
       "      <td>высшее</td>\n",
       "      <td>0</td>\n",
       "      <td>женат / замужем</td>\n",
       "      <td>0</td>\n",
       "      <td>f</td>\n",
       "      <td>сотрудник</td>\n",
       "      <td>0</td>\n",
       "      <td>253875</td>\n",
       "      <td>покупка жилья</td>\n",
       "    </tr>\n",
       "    <tr>\n",
       "      <td>1</td>\n",
       "      <td>1</td>\n",
       "      <td>-4024</td>\n",
       "      <td>36</td>\n",
       "      <td>среднее</td>\n",
       "      <td>1</td>\n",
       "      <td>женат / замужем</td>\n",
       "      <td>0</td>\n",
       "      <td>f</td>\n",
       "      <td>сотрудник</td>\n",
       "      <td>0</td>\n",
       "      <td>112080</td>\n",
       "      <td>приобретение автомобиля</td>\n",
       "    </tr>\n",
       "    <tr>\n",
       "      <td>2</td>\n",
       "      <td>0</td>\n",
       "      <td>-5623</td>\n",
       "      <td>33</td>\n",
       "      <td>среднее</td>\n",
       "      <td>1</td>\n",
       "      <td>женат / замужем</td>\n",
       "      <td>0</td>\n",
       "      <td>m</td>\n",
       "      <td>сотрудник</td>\n",
       "      <td>0</td>\n",
       "      <td>145885</td>\n",
       "      <td>покупка жилья</td>\n",
       "    </tr>\n",
       "    <tr>\n",
       "      <td>3</td>\n",
       "      <td>3</td>\n",
       "      <td>-4124</td>\n",
       "      <td>32</td>\n",
       "      <td>среднее</td>\n",
       "      <td>1</td>\n",
       "      <td>женат / замужем</td>\n",
       "      <td>0</td>\n",
       "      <td>m</td>\n",
       "      <td>сотрудник</td>\n",
       "      <td>0</td>\n",
       "      <td>267628</td>\n",
       "      <td>дополнительное образование</td>\n",
       "    </tr>\n",
       "    <tr>\n",
       "      <td>4</td>\n",
       "      <td>0</td>\n",
       "      <td>340266</td>\n",
       "      <td>53</td>\n",
       "      <td>среднее</td>\n",
       "      <td>1</td>\n",
       "      <td>гражданский брак</td>\n",
       "      <td>1</td>\n",
       "      <td>f</td>\n",
       "      <td>пенсионер</td>\n",
       "      <td>0</td>\n",
       "      <td>158616</td>\n",
       "      <td>сыграть свадьбу</td>\n",
       "    </tr>\n",
       "    <tr>\n",
       "      <td>5</td>\n",
       "      <td>0</td>\n",
       "      <td>-926</td>\n",
       "      <td>27</td>\n",
       "      <td>высшее</td>\n",
       "      <td>0</td>\n",
       "      <td>гражданский брак</td>\n",
       "      <td>1</td>\n",
       "      <td>m</td>\n",
       "      <td>компаньон</td>\n",
       "      <td>0</td>\n",
       "      <td>255763</td>\n",
       "      <td>покупка жилья</td>\n",
       "    </tr>\n",
       "    <tr>\n",
       "      <td>6</td>\n",
       "      <td>0</td>\n",
       "      <td>-2879</td>\n",
       "      <td>43</td>\n",
       "      <td>высшее</td>\n",
       "      <td>0</td>\n",
       "      <td>женат / замужем</td>\n",
       "      <td>0</td>\n",
       "      <td>f</td>\n",
       "      <td>компаньон</td>\n",
       "      <td>0</td>\n",
       "      <td>240525</td>\n",
       "      <td>операции с жильем</td>\n",
       "    </tr>\n",
       "    <tr>\n",
       "      <td>7</td>\n",
       "      <td>0</td>\n",
       "      <td>-152</td>\n",
       "      <td>50</td>\n",
       "      <td>среднее</td>\n",
       "      <td>1</td>\n",
       "      <td>женат / замужем</td>\n",
       "      <td>0</td>\n",
       "      <td>m</td>\n",
       "      <td>сотрудник</td>\n",
       "      <td>0</td>\n",
       "      <td>135823</td>\n",
       "      <td>образование</td>\n",
       "    </tr>\n",
       "    <tr>\n",
       "      <td>8</td>\n",
       "      <td>2</td>\n",
       "      <td>-6929</td>\n",
       "      <td>35</td>\n",
       "      <td>высшее</td>\n",
       "      <td>0</td>\n",
       "      <td>гражданский брак</td>\n",
       "      <td>1</td>\n",
       "      <td>f</td>\n",
       "      <td>сотрудник</td>\n",
       "      <td>0</td>\n",
       "      <td>95856</td>\n",
       "      <td>на проведение свадьбы</td>\n",
       "    </tr>\n",
       "    <tr>\n",
       "      <td>9</td>\n",
       "      <td>0</td>\n",
       "      <td>-2188</td>\n",
       "      <td>41</td>\n",
       "      <td>среднее</td>\n",
       "      <td>1</td>\n",
       "      <td>женат / замужем</td>\n",
       "      <td>0</td>\n",
       "      <td>m</td>\n",
       "      <td>сотрудник</td>\n",
       "      <td>0</td>\n",
       "      <td>144425</td>\n",
       "      <td>покупка жилья для семьи</td>\n",
       "    </tr>\n",
       "  </tbody>\n",
       "</table>\n",
       "</div>"
      ],
      "text/plain": [
       "   children  days_employed  dob_years education  education_id  \\\n",
       "0         1          -8437         42    высшее             0   \n",
       "1         1          -4024         36   среднее             1   \n",
       "2         0          -5623         33   среднее             1   \n",
       "3         3          -4124         32   среднее             1   \n",
       "4         0         340266         53   среднее             1   \n",
       "5         0           -926         27    высшее             0   \n",
       "6         0          -2879         43    высшее             0   \n",
       "7         0           -152         50   среднее             1   \n",
       "8         2          -6929         35    высшее             0   \n",
       "9         0          -2188         41   среднее             1   \n",
       "\n",
       "      family_status  family_status_id gender income_type  debt  total_income  \\\n",
       "0   женат / замужем                 0      f   сотрудник     0        253875   \n",
       "1   женат / замужем                 0      f   сотрудник     0        112080   \n",
       "2   женат / замужем                 0      m   сотрудник     0        145885   \n",
       "3   женат / замужем                 0      m   сотрудник     0        267628   \n",
       "4  гражданский брак                 1      f   пенсионер     0        158616   \n",
       "5  гражданский брак                 1      m   компаньон     0        255763   \n",
       "6   женат / замужем                 0      f   компаньон     0        240525   \n",
       "7   женат / замужем                 0      m   сотрудник     0        135823   \n",
       "8  гражданский брак                 1      f   сотрудник     0         95856   \n",
       "9   женат / замужем                 0      m   сотрудник     0        144425   \n",
       "\n",
       "                      purpose  \n",
       "0               покупка жилья  \n",
       "1     приобретение автомобиля  \n",
       "2               покупка жилья  \n",
       "3  дополнительное образование  \n",
       "4             сыграть свадьбу  \n",
       "5               покупка жилья  \n",
       "6           операции с жильем  \n",
       "7                 образование  \n",
       "8       на проведение свадьбы  \n",
       "9     покупка жилья для семьи  "
      ]
     },
     "execution_count": 23,
     "metadata": {},
     "output_type": "execute_result"
    }
   ],
   "source": [
    "df.head(10)"
   ]
  },
  {
   "cell_type": "markdown",
   "id": "5563622d",
   "metadata": {},
   "source": [
    "**Создадим** два словаря `education_dict` и `family_status_dict`, т.к. есть и обозначение и идентификационный номер."
   ]
  },
  {
   "cell_type": "code",
   "execution_count": 24,
   "id": "6d58d259",
   "metadata": {},
   "outputs": [],
   "source": [
    "education_dict = df[['education','education_id']]\n",
    "#education_dict.head(15)"
   ]
  },
  {
   "cell_type": "code",
   "execution_count": 25,
   "id": "cadccee6",
   "metadata": {},
   "outputs": [
    {
     "data": {
      "text/html": [
       "<div>\n",
       "<style scoped>\n",
       "    .dataframe tbody tr th:only-of-type {\n",
       "        vertical-align: middle;\n",
       "    }\n",
       "\n",
       "    .dataframe tbody tr th {\n",
       "        vertical-align: top;\n",
       "    }\n",
       "\n",
       "    .dataframe thead th {\n",
       "        text-align: right;\n",
       "    }\n",
       "</style>\n",
       "<table border=\"1\" class=\"dataframe\">\n",
       "  <thead>\n",
       "    <tr style=\"text-align: right;\">\n",
       "      <th></th>\n",
       "      <th>education</th>\n",
       "      <th>education_id</th>\n",
       "    </tr>\n",
       "  </thead>\n",
       "  <tbody>\n",
       "    <tr>\n",
       "      <td>0</td>\n",
       "      <td>высшее</td>\n",
       "      <td>0</td>\n",
       "    </tr>\n",
       "    <tr>\n",
       "      <td>1</td>\n",
       "      <td>среднее</td>\n",
       "      <td>1</td>\n",
       "    </tr>\n",
       "    <tr>\n",
       "      <td>2</td>\n",
       "      <td>неоконченное высшее</td>\n",
       "      <td>2</td>\n",
       "    </tr>\n",
       "    <tr>\n",
       "      <td>3</td>\n",
       "      <td>начальное</td>\n",
       "      <td>3</td>\n",
       "    </tr>\n",
       "    <tr>\n",
       "      <td>4</td>\n",
       "      <td>ученая степень</td>\n",
       "      <td>4</td>\n",
       "    </tr>\n",
       "  </tbody>\n",
       "</table>\n",
       "</div>"
      ],
      "text/plain": [
       "             education  education_id\n",
       "0               высшее             0\n",
       "1              среднее             1\n",
       "2  неоконченное высшее             2\n",
       "3            начальное             3\n",
       "4       ученая степень             4"
      ]
     },
     "execution_count": 25,
     "metadata": {},
     "output_type": "execute_result"
    }
   ],
   "source": [
    "education_dict = education_dict.drop_duplicates().reset_index(drop=True)\n",
    "\n",
    "education_dict.head(15)"
   ]
  },
  {
   "cell_type": "code",
   "execution_count": 26,
   "id": "c39570a7",
   "metadata": {},
   "outputs": [
    {
     "data": {
      "text/plain": [
       "среднее                15172\n",
       "высшее                  5250\n",
       "неоконченное высшее      744\n",
       "начальное                282\n",
       "ученая степень             6\n",
       "Name: education, dtype: int64"
      ]
     },
     "execution_count": 26,
     "metadata": {},
     "output_type": "execute_result"
    }
   ],
   "source": [
    "df['education'].value_counts() # проверка набора данных в словаре"
   ]
  },
  {
   "cell_type": "code",
   "execution_count": 27,
   "id": "5fba1cab",
   "metadata": {},
   "outputs": [],
   "source": [
    "family_status_dict = df[['family_status','family_status_id']]"
   ]
  },
  {
   "cell_type": "code",
   "execution_count": 28,
   "id": "2f3879a5",
   "metadata": {},
   "outputs": [
    {
     "data": {
      "text/html": [
       "<div>\n",
       "<style scoped>\n",
       "    .dataframe tbody tr th:only-of-type {\n",
       "        vertical-align: middle;\n",
       "    }\n",
       "\n",
       "    .dataframe tbody tr th {\n",
       "        vertical-align: top;\n",
       "    }\n",
       "\n",
       "    .dataframe thead th {\n",
       "        text-align: right;\n",
       "    }\n",
       "</style>\n",
       "<table border=\"1\" class=\"dataframe\">\n",
       "  <thead>\n",
       "    <tr style=\"text-align: right;\">\n",
       "      <th></th>\n",
       "      <th>family_status</th>\n",
       "      <th>family_status_id</th>\n",
       "    </tr>\n",
       "  </thead>\n",
       "  <tbody>\n",
       "    <tr>\n",
       "      <td>0</td>\n",
       "      <td>женат / замужем</td>\n",
       "      <td>0</td>\n",
       "    </tr>\n",
       "    <tr>\n",
       "      <td>1</td>\n",
       "      <td>гражданский брак</td>\n",
       "      <td>1</td>\n",
       "    </tr>\n",
       "    <tr>\n",
       "      <td>2</td>\n",
       "      <td>вдовец / вдова</td>\n",
       "      <td>2</td>\n",
       "    </tr>\n",
       "    <tr>\n",
       "      <td>3</td>\n",
       "      <td>в разводе</td>\n",
       "      <td>3</td>\n",
       "    </tr>\n",
       "    <tr>\n",
       "      <td>4</td>\n",
       "      <td>не женат / не замужем</td>\n",
       "      <td>4</td>\n",
       "    </tr>\n",
       "  </tbody>\n",
       "</table>\n",
       "</div>"
      ],
      "text/plain": [
       "           family_status  family_status_id\n",
       "0        женат / замужем                 0\n",
       "1       гражданский брак                 1\n",
       "2         вдовец / вдова                 2\n",
       "3              в разводе                 3\n",
       "4  не женат / не замужем                 4"
      ]
     },
     "execution_count": 28,
     "metadata": {},
     "output_type": "execute_result"
    }
   ],
   "source": [
    "family_status_dict = family_status_dict.drop_duplicates().reset_index(drop=True)\n",
    "\n",
    "family_status_dict.head(15)"
   ]
  },
  {
   "cell_type": "code",
   "execution_count": 29,
   "id": "2dacbfa4",
   "metadata": {},
   "outputs": [
    {
     "data": {
      "text/plain": [
       "женат / замужем          12339\n",
       "гражданский брак          4151\n",
       "не женат / не замужем     2810\n",
       "в разводе                 1195\n",
       "вдовец / вдова             959\n",
       "Name: family_status, dtype: int64"
      ]
     },
     "execution_count": 29,
     "metadata": {},
     "output_type": "execute_result"
    }
   ],
   "source": [
    "df['family_status'].value_counts() # проверка набора данных в словаре"
   ]
  },
  {
   "cell_type": "code",
   "execution_count": 30,
   "id": "11f55242",
   "metadata": {},
   "outputs": [
    {
     "data": {
      "text/plain": [
       "18607"
      ]
     },
     "execution_count": 30,
     "metadata": {},
     "output_type": "execute_result"
    }
   ],
   "source": [
    "len(df['total_income'].value_counts())"
   ]
  },
  {
   "cell_type": "code",
   "execution_count": 31,
   "id": "1697e3c2",
   "metadata": {},
   "outputs": [
    {
     "data": {
      "text/plain": [
       "свадьба                                   791\n",
       "на проведение свадьбы                     768\n",
       "сыграть свадьбу                           765\n",
       "операции с недвижимостью                  675\n",
       "покупка коммерческой недвижимости         661\n",
       "операции с жильем                         652\n",
       "покупка жилья для сдачи                   651\n",
       "операции с коммерческой недвижимостью     650\n",
       "покупка жилья                             646\n",
       "жилье                                     646\n",
       "покупка жилья для семьи                   638\n",
       "строительство собственной недвижимости    635\n",
       "недвижимость                              633\n",
       "операции со своей недвижимостью           627\n",
       "строительство жилой недвижимости          624\n",
       "покупка недвижимости                      621\n",
       "покупка своего жилья                      620\n",
       "строительство недвижимости                619\n",
       "ремонт жилью                              607\n",
       "покупка жилой недвижимости                606\n",
       "на покупку своего автомобиля              505\n",
       "заняться высшим образованием              496\n",
       "автомобиль                                494\n",
       "сделка с подержанным автомобилем          486\n",
       "свой автомобиль                           478\n",
       "на покупку подержанного автомобиля        478\n",
       "автомобили                                478\n",
       "на покупку автомобиля                     471\n",
       "приобретение автомобиля                   461\n",
       "дополнительное образование                460\n",
       "сделка с автомобилем                      455\n",
       "высшее образование                        452\n",
       "образование                               447\n",
       "получение дополнительного образования     446\n",
       "получение образования                     442\n",
       "профильное образование                    436\n",
       "получение высшего образования             426\n",
       "заняться образованием                     408\n",
       "Name: purpose, dtype: int64"
      ]
     },
     "execution_count": 31,
     "metadata": {},
     "output_type": "execute_result"
    }
   ],
   "source": [
    "df['purpose'].value_counts()"
   ]
  },
  {
   "cell_type": "markdown",
   "id": "c1eebe4f",
   "metadata": {},
   "source": [
    "**Для проверки гипотез целесообразно будет:**\n",
    "1. Провести классификацию по `total_income` — ежемесячный доход с созданием словаря, т.к. уникальных записей в данном столбце 18 607.\n",
    "2. Провести классификацию по `purpose` — цель получения кредита с созданием словаря, т.к. есть цели имеющие одинаковый смысл, но выраженные разнами словами или их сочетаниями.\n",
    "\n"
   ]
  },
  {
   "cell_type": "markdown",
   "id": "71d33d21",
   "metadata": {},
   "source": [
    "**Категоризация по детям**"
   ]
  },
  {
   "cell_type": "code",
   "execution_count": 32,
   "id": "23d167ef",
   "metadata": {},
   "outputs": [
    {
     "data": {
      "text/html": [
       "<div>\n",
       "<style scoped>\n",
       "    .dataframe tbody tr th:only-of-type {\n",
       "        vertical-align: middle;\n",
       "    }\n",
       "\n",
       "    .dataframe tbody tr th {\n",
       "        vertical-align: top;\n",
       "    }\n",
       "\n",
       "    .dataframe thead tr th {\n",
       "        text-align: left;\n",
       "    }\n",
       "\n",
       "    .dataframe thead tr:last-of-type th {\n",
       "        text-align: right;\n",
       "    }\n",
       "</style>\n",
       "<table border=\"1\" class=\"dataframe\">\n",
       "  <thead>\n",
       "    <tr>\n",
       "      <th></th>\n",
       "      <th colspan=\"2\" halign=\"left\">debt</th>\n",
       "      <th>sum/count_%</th>\n",
       "    </tr>\n",
       "    <tr>\n",
       "      <th></th>\n",
       "      <th>sum</th>\n",
       "      <th>count</th>\n",
       "      <th></th>\n",
       "    </tr>\n",
       "    <tr>\n",
       "      <th>children</th>\n",
       "      <th></th>\n",
       "      <th></th>\n",
       "      <th></th>\n",
       "    </tr>\n",
       "  </thead>\n",
       "  <tbody>\n",
       "    <tr>\n",
       "      <td>-1</td>\n",
       "      <td>1</td>\n",
       "      <td>47</td>\n",
       "      <td>2.127660</td>\n",
       "    </tr>\n",
       "    <tr>\n",
       "      <td>0</td>\n",
       "      <td>1063</td>\n",
       "      <td>14091</td>\n",
       "      <td>7.543822</td>\n",
       "    </tr>\n",
       "    <tr>\n",
       "      <td>1</td>\n",
       "      <td>444</td>\n",
       "      <td>4808</td>\n",
       "      <td>9.234609</td>\n",
       "    </tr>\n",
       "    <tr>\n",
       "      <td>2</td>\n",
       "      <td>194</td>\n",
       "      <td>2052</td>\n",
       "      <td>9.454191</td>\n",
       "    </tr>\n",
       "    <tr>\n",
       "      <td>3</td>\n",
       "      <td>27</td>\n",
       "      <td>330</td>\n",
       "      <td>8.181818</td>\n",
       "    </tr>\n",
       "    <tr>\n",
       "      <td>4</td>\n",
       "      <td>4</td>\n",
       "      <td>41</td>\n",
       "      <td>9.756098</td>\n",
       "    </tr>\n",
       "    <tr>\n",
       "      <td>5</td>\n",
       "      <td>0</td>\n",
       "      <td>9</td>\n",
       "      <td>0.000000</td>\n",
       "    </tr>\n",
       "    <tr>\n",
       "      <td>20</td>\n",
       "      <td>8</td>\n",
       "      <td>76</td>\n",
       "      <td>10.526316</td>\n",
       "    </tr>\n",
       "  </tbody>\n",
       "</table>\n",
       "</div>"
      ],
      "text/plain": [
       "          debt        sum/count_%\n",
       "           sum  count            \n",
       "children                         \n",
       "-1           1     47    2.127660\n",
       " 0        1063  14091    7.543822\n",
       " 1         444   4808    9.234609\n",
       " 2         194   2052    9.454191\n",
       " 3          27    330    8.181818\n",
       " 4           4     41    9.756098\n",
       " 5           0      9    0.000000\n",
       " 20          8     76   10.526316"
      ]
     },
     "execution_count": 32,
     "metadata": {},
     "output_type": "execute_result"
    }
   ],
   "source": [
    "df_children_debt = df[['children','debt']].groupby('children').agg({'debt': ['sum','count']})\n",
    "\n",
    "df_children_debt['sum/count_%'] = (df_children_debt['debt']['sum'] / df_children_debt['debt']['count']) * 100\n",
    "\n",
    "df_children_debt"
   ]
  },
  {
   "cell_type": "markdown",
   "id": "376eba71",
   "metadata": {},
   "source": [
    "Что мы видим? В столбце children указано количество детей, а не просто идентификатор есть-дети/нет-детей. По моему мнению, значение \"-1\" это ошибка переноса данных из одной системы в другую и это означает один ребенок. 20 может быть ошибкой от преобразования 2.0 в 2 или может быть числом 20, есть же приёмные семьи. В любом случае приведём к двум категориям \"есть дети\" или \"нет детей\". Для осуществления задуманного напишем функцию аvailability_children которая будет возращать нет детей если значение в столбце children равно 0 и есть дети в любом другом случае. Далее методом apply() создадим таблицу из трёх колонок children, debt и аv_children."
   ]
  },
  {
   "cell_type": "code",
   "execution_count": 33,
   "id": "8ef0bdc2",
   "metadata": {},
   "outputs": [],
   "source": [
    "def аvailability_children(children):\n",
    "    if children == 0:\n",
    "        return 'нет детей'\n",
    "    return 'есть дети'"
   ]
  },
  {
   "cell_type": "code",
   "execution_count": 34,
   "id": "a638efa9",
   "metadata": {},
   "outputs": [
    {
     "data": {
      "text/html": [
       "<div>\n",
       "<style scoped>\n",
       "    .dataframe tbody tr th:only-of-type {\n",
       "        vertical-align: middle;\n",
       "    }\n",
       "\n",
       "    .dataframe tbody tr th {\n",
       "        vertical-align: top;\n",
       "    }\n",
       "\n",
       "    .dataframe thead th {\n",
       "        text-align: right;\n",
       "    }\n",
       "</style>\n",
       "<table border=\"1\" class=\"dataframe\">\n",
       "  <thead>\n",
       "    <tr style=\"text-align: right;\">\n",
       "      <th></th>\n",
       "      <th>children</th>\n",
       "      <th>debt</th>\n",
       "      <th>аv_children</th>\n",
       "    </tr>\n",
       "  </thead>\n",
       "  <tbody>\n",
       "    <tr>\n",
       "      <td>0</td>\n",
       "      <td>1</td>\n",
       "      <td>0</td>\n",
       "      <td>есть дети</td>\n",
       "    </tr>\n",
       "    <tr>\n",
       "      <td>1</td>\n",
       "      <td>1</td>\n",
       "      <td>0</td>\n",
       "      <td>есть дети</td>\n",
       "    </tr>\n",
       "    <tr>\n",
       "      <td>2</td>\n",
       "      <td>0</td>\n",
       "      <td>0</td>\n",
       "      <td>нет детей</td>\n",
       "    </tr>\n",
       "    <tr>\n",
       "      <td>3</td>\n",
       "      <td>3</td>\n",
       "      <td>0</td>\n",
       "      <td>есть дети</td>\n",
       "    </tr>\n",
       "    <tr>\n",
       "      <td>4</td>\n",
       "      <td>0</td>\n",
       "      <td>0</td>\n",
       "      <td>нет детей</td>\n",
       "    </tr>\n",
       "  </tbody>\n",
       "</table>\n",
       "</div>"
      ],
      "text/plain": [
       "   children  debt аv_children\n",
       "0         1     0   есть дети\n",
       "1         1     0   есть дети\n",
       "2         0     0   нет детей\n",
       "3         3     0   есть дети\n",
       "4         0     0   нет детей"
      ]
     },
     "execution_count": 34,
     "metadata": {},
     "output_type": "execute_result"
    }
   ],
   "source": [
    "df_children_debt = df[['children','debt']]\n",
    "\n",
    "df_children_debt = df_children_debt.copy()\n",
    "\n",
    "df_children_debt['аv_children'] = df_children_debt['children'].apply(аvailability_children)\n",
    "\n",
    "df_children_debt.head()"
   ]
  },
  {
   "cell_type": "markdown",
   "id": "988d1270",
   "metadata": {},
   "source": [
    "**Котегоризация по уровню дохода**"
   ]
  },
  {
   "cell_type": "code",
   "execution_count": 35,
   "id": "ee3aaf2a",
   "metadata": {},
   "outputs": [],
   "source": [
    "df_total_income_debt = df[['total_income','debt']]"
   ]
  },
  {
   "cell_type": "markdown",
   "id": "a4bce0ae",
   "metadata": {},
   "source": [
    "Итак, придумываем группы.\n",
    "\n",
    "1. Со значением ноль будет назаваться - нет данных\n",
    "2. Со значениями в диапазоне от 20 000 до 60 000 будет нываться - на жизнь хватает\n",
    "3. Со значениями в диапазоне от 60 001 до 145 017 будет нываться - неплохо живём\n",
    "4. Со значениями в диапазоне от 145 018 до 350 000 будет нываться - хорошо живём\n",
    "5. Со значениями в диапазоне от 350 001 до 1 000 000 будет нываться - ЖивЁм\n",
    "6. Со значениями в диапазоне от 1 000 001 до 2 265 700 будет нываться - трудоголики"
   ]
  },
  {
   "cell_type": "code",
   "execution_count": 36,
   "id": "f81e646d",
   "metadata": {},
   "outputs": [],
   "source": [
    "def total_income_group(total_income):\n",
    "    \"\"\"\n",
    "    Возвращает группу по значению ежемесячного дохода total_income, используя правила описанные ячейкой выше.\n",
    "    \n",
    "    \"\"\"\n",
    "    if total_income == 0:\n",
    "        return 'нет данных'\n",
    "    if total_income <= 60000:\n",
    "        return 'на жизнь хватает'\n",
    "    if total_income <= 145017:\n",
    "        return 'неплохо живём'\n",
    "    if total_income <= 350000:\n",
    "        return 'хорошо живём'\n",
    "    if total_income <= 1000000:\n",
    "        return 'ЖивЁм'\n",
    "    return 'трудоголики'"
   ]
  },
  {
   "cell_type": "code",
   "execution_count": 37,
   "id": "c810afd3",
   "metadata": {},
   "outputs": [
    {
     "data": {
      "text/plain": [
       "'трудоголики'"
      ]
     },
     "execution_count": 37,
     "metadata": {},
     "output_type": "execute_result"
    }
   ],
   "source": [
    "#тест функции\n",
    "total_income_group(1028542)"
   ]
  },
  {
   "cell_type": "code",
   "execution_count": 38,
   "id": "f55eb07f",
   "metadata": {},
   "outputs": [
    {
     "data": {
      "text/html": [
       "<div>\n",
       "<style scoped>\n",
       "    .dataframe tbody tr th:only-of-type {\n",
       "        vertical-align: middle;\n",
       "    }\n",
       "\n",
       "    .dataframe tbody tr th {\n",
       "        vertical-align: top;\n",
       "    }\n",
       "\n",
       "    .dataframe thead th {\n",
       "        text-align: right;\n",
       "    }\n",
       "</style>\n",
       "<table border=\"1\" class=\"dataframe\">\n",
       "  <thead>\n",
       "    <tr style=\"text-align: right;\">\n",
       "      <th></th>\n",
       "      <th>total_income</th>\n",
       "      <th>debt</th>\n",
       "      <th>total_income_group</th>\n",
       "    </tr>\n",
       "  </thead>\n",
       "  <tbody>\n",
       "    <tr>\n",
       "      <td>0</td>\n",
       "      <td>253875</td>\n",
       "      <td>0</td>\n",
       "      <td>хорошо живём</td>\n",
       "    </tr>\n",
       "    <tr>\n",
       "      <td>1</td>\n",
       "      <td>112080</td>\n",
       "      <td>0</td>\n",
       "      <td>неплохо живём</td>\n",
       "    </tr>\n",
       "    <tr>\n",
       "      <td>2</td>\n",
       "      <td>145885</td>\n",
       "      <td>0</td>\n",
       "      <td>хорошо живём</td>\n",
       "    </tr>\n",
       "    <tr>\n",
       "      <td>3</td>\n",
       "      <td>267628</td>\n",
       "      <td>0</td>\n",
       "      <td>хорошо живём</td>\n",
       "    </tr>\n",
       "    <tr>\n",
       "      <td>4</td>\n",
       "      <td>158616</td>\n",
       "      <td>0</td>\n",
       "      <td>хорошо живём</td>\n",
       "    </tr>\n",
       "  </tbody>\n",
       "</table>\n",
       "</div>"
      ],
      "text/plain": [
       "   total_income  debt total_income_group\n",
       "0        253875     0       хорошо живём\n",
       "1        112080     0      неплохо живём\n",
       "2        145885     0       хорошо живём\n",
       "3        267628     0       хорошо живём\n",
       "4        158616     0       хорошо живём"
      ]
     },
     "execution_count": 38,
     "metadata": {},
     "output_type": "execute_result"
    }
   ],
   "source": [
    "df_total_income_debt = df_total_income_debt.copy()\n",
    "\n",
    "df_total_income_debt['total_income_group'] = df_total_income_debt['total_income'].apply(total_income_group)\n",
    "\n",
    "df_total_income_debt.head()"
   ]
  },
  {
   "cell_type": "markdown",
   "id": "665b0654",
   "metadata": {},
   "source": [
    "**Группировка по целям кредитования**"
   ]
  },
  {
   "cell_type": "code",
   "execution_count": 39,
   "id": "e0f9b7db",
   "metadata": {},
   "outputs": [
    {
     "data": {
      "text/plain": [
       "свадьба                                   791\n",
       "на проведение свадьбы                     768\n",
       "сыграть свадьбу                           765\n",
       "операции с недвижимостью                  675\n",
       "покупка коммерческой недвижимости         661\n",
       "операции с жильем                         652\n",
       "покупка жилья для сдачи                   651\n",
       "операции с коммерческой недвижимостью     650\n",
       "покупка жилья                             646\n",
       "жилье                                     646\n",
       "покупка жилья для семьи                   638\n",
       "строительство собственной недвижимости    635\n",
       "недвижимость                              633\n",
       "операции со своей недвижимостью           627\n",
       "строительство жилой недвижимости          624\n",
       "покупка недвижимости                      621\n",
       "покупка своего жилья                      620\n",
       "строительство недвижимости                619\n",
       "ремонт жилью                              607\n",
       "покупка жилой недвижимости                606\n",
       "на покупку своего автомобиля              505\n",
       "заняться высшим образованием              496\n",
       "автомобиль                                494\n",
       "сделка с подержанным автомобилем          486\n",
       "свой автомобиль                           478\n",
       "на покупку подержанного автомобиля        478\n",
       "автомобили                                478\n",
       "на покупку автомобиля                     471\n",
       "приобретение автомобиля                   461\n",
       "дополнительное образование                460\n",
       "сделка с автомобилем                      455\n",
       "высшее образование                        452\n",
       "образование                               447\n",
       "получение дополнительного образования     446\n",
       "получение образования                     442\n",
       "профильное образование                    436\n",
       "получение высшего образования             426\n",
       "заняться образованием                     408\n",
       "Name: purpose, dtype: int64"
      ]
     },
     "execution_count": 39,
     "metadata": {},
     "output_type": "execute_result"
    }
   ],
   "source": [
    "df_purpose_debt = df[['purpose','debt']]\n",
    "df_purpose_debt['purpose'].value_counts()"
   ]
  },
  {
   "cell_type": "markdown",
   "id": "8531a579",
   "metadata": {},
   "source": [
    "Выделим пять групп и напишем функцию для проведения группировки.\n",
    "\n",
    "1. группа - свадьба\n",
    "2. группа - жильё\n",
    "3. группа - недвижимость\n",
    "4. группа - автомобиль\n",
    "5. группа - образование"
   ]
  },
  {
   "cell_type": "code",
   "execution_count": 40,
   "id": "efceb854",
   "metadata": {},
   "outputs": [],
   "source": [
    "def purpose_group(purpose):\n",
    "    \"\"\"\n",
    "    Возвращает группу по значению цели кредита.\n",
    "    \n",
    "    \"\"\"\n",
    "    if 'свадьб' in purpose:\n",
    "        return 'свадьба'\n",
    "    if 'жил' in purpose:\n",
    "        return 'жильё'\n",
    "    if 'недвижимост' in purpose:\n",
    "        return 'недвижимость'\n",
    "    if 'автомобил' in purpose:\n",
    "        return 'автомобиль'\n",
    "    return 'образование'"
   ]
  },
  {
   "cell_type": "code",
   "execution_count": 41,
   "id": "88396e4a",
   "metadata": {},
   "outputs": [
    {
     "data": {
      "text/plain": [
       "'автомобиль'"
      ]
     },
     "execution_count": 41,
     "metadata": {},
     "output_type": "execute_result"
    }
   ],
   "source": [
    "#тест функции\n",
    "purpose_group('хочу милый сердцу автомобиль')"
   ]
  },
  {
   "cell_type": "code",
   "execution_count": 42,
   "id": "8f074a47",
   "metadata": {},
   "outputs": [
    {
     "data": {
      "text/html": [
       "<div>\n",
       "<style scoped>\n",
       "    .dataframe tbody tr th:only-of-type {\n",
       "        vertical-align: middle;\n",
       "    }\n",
       "\n",
       "    .dataframe tbody tr th {\n",
       "        vertical-align: top;\n",
       "    }\n",
       "\n",
       "    .dataframe thead th {\n",
       "        text-align: right;\n",
       "    }\n",
       "</style>\n",
       "<table border=\"1\" class=\"dataframe\">\n",
       "  <thead>\n",
       "    <tr style=\"text-align: right;\">\n",
       "      <th></th>\n",
       "      <th>purpose</th>\n",
       "      <th>debt</th>\n",
       "      <th>purpose_group</th>\n",
       "    </tr>\n",
       "  </thead>\n",
       "  <tbody>\n",
       "    <tr>\n",
       "      <td>0</td>\n",
       "      <td>покупка жилья</td>\n",
       "      <td>0</td>\n",
       "      <td>жильё</td>\n",
       "    </tr>\n",
       "    <tr>\n",
       "      <td>1</td>\n",
       "      <td>приобретение автомобиля</td>\n",
       "      <td>0</td>\n",
       "      <td>автомобиль</td>\n",
       "    </tr>\n",
       "    <tr>\n",
       "      <td>2</td>\n",
       "      <td>покупка жилья</td>\n",
       "      <td>0</td>\n",
       "      <td>жильё</td>\n",
       "    </tr>\n",
       "    <tr>\n",
       "      <td>3</td>\n",
       "      <td>дополнительное образование</td>\n",
       "      <td>0</td>\n",
       "      <td>образование</td>\n",
       "    </tr>\n",
       "    <tr>\n",
       "      <td>4</td>\n",
       "      <td>сыграть свадьбу</td>\n",
       "      <td>0</td>\n",
       "      <td>свадьба</td>\n",
       "    </tr>\n",
       "    <tr>\n",
       "      <td>5</td>\n",
       "      <td>покупка жилья</td>\n",
       "      <td>0</td>\n",
       "      <td>жильё</td>\n",
       "    </tr>\n",
       "    <tr>\n",
       "      <td>6</td>\n",
       "      <td>операции с жильем</td>\n",
       "      <td>0</td>\n",
       "      <td>жильё</td>\n",
       "    </tr>\n",
       "    <tr>\n",
       "      <td>7</td>\n",
       "      <td>образование</td>\n",
       "      <td>0</td>\n",
       "      <td>образование</td>\n",
       "    </tr>\n",
       "    <tr>\n",
       "      <td>8</td>\n",
       "      <td>на проведение свадьбы</td>\n",
       "      <td>0</td>\n",
       "      <td>свадьба</td>\n",
       "    </tr>\n",
       "    <tr>\n",
       "      <td>9</td>\n",
       "      <td>покупка жилья для семьи</td>\n",
       "      <td>0</td>\n",
       "      <td>жильё</td>\n",
       "    </tr>\n",
       "  </tbody>\n",
       "</table>\n",
       "</div>"
      ],
      "text/plain": [
       "                      purpose  debt purpose_group\n",
       "0               покупка жилья     0         жильё\n",
       "1     приобретение автомобиля     0    автомобиль\n",
       "2               покупка жилья     0         жильё\n",
       "3  дополнительное образование     0   образование\n",
       "4             сыграть свадьбу     0       свадьба\n",
       "5               покупка жилья     0         жильё\n",
       "6           операции с жильем     0         жильё\n",
       "7                 образование     0   образование\n",
       "8       на проведение свадьбы     0       свадьба\n",
       "9     покупка жилья для семьи     0         жильё"
      ]
     },
     "execution_count": 42,
     "metadata": {},
     "output_type": "execute_result"
    }
   ],
   "source": [
    "df_purpose_debt = df_purpose_debt.copy()\n",
    "df_purpose_debt['purpose_group'] = df_purpose_debt['purpose'].apply(purpose_group)\n",
    "df_purpose_debt.head(10)"
   ]
  },
  {
   "cell_type": "markdown",
   "id": "be85bae5",
   "metadata": {},
   "source": [
    "## Гипотезы"
   ]
  },
  {
   "cell_type": "markdown",
   "id": "9372362b",
   "metadata": {},
   "source": [
    "### Гипотеза о зависимости между наличием детей и возвратом кредита в срок"
   ]
  },
  {
   "cell_type": "code",
   "execution_count": 46,
   "id": "93936122",
   "metadata": {},
   "outputs": [
    {
     "data": {
      "text/html": [
       "<div>\n",
       "<style scoped>\n",
       "    .dataframe tbody tr th:only-of-type {\n",
       "        vertical-align: middle;\n",
       "    }\n",
       "\n",
       "    .dataframe tbody tr th {\n",
       "        vertical-align: top;\n",
       "    }\n",
       "\n",
       "    .dataframe thead tr th {\n",
       "        text-align: left;\n",
       "    }\n",
       "\n",
       "    .dataframe thead tr:last-of-type th {\n",
       "        text-align: right;\n",
       "    }\n",
       "</style>\n",
       "<table border=\"1\" class=\"dataframe\">\n",
       "  <thead>\n",
       "    <tr>\n",
       "      <th></th>\n",
       "      <th colspan=\"2\" halign=\"left\">debt</th>\n",
       "      <th>sum/count_%</th>\n",
       "    </tr>\n",
       "    <tr>\n",
       "      <th></th>\n",
       "      <th>sum</th>\n",
       "      <th>count</th>\n",
       "      <th></th>\n",
       "    </tr>\n",
       "    <tr>\n",
       "      <th>аv_children</th>\n",
       "      <th></th>\n",
       "      <th></th>\n",
       "      <th></th>\n",
       "    </tr>\n",
       "  </thead>\n",
       "  <tbody>\n",
       "    <tr>\n",
       "      <td>есть дети</td>\n",
       "      <td>678</td>\n",
       "      <td>7363</td>\n",
       "      <td>9.208203</td>\n",
       "    </tr>\n",
       "    <tr>\n",
       "      <td>нет детей</td>\n",
       "      <td>1063</td>\n",
       "      <td>14091</td>\n",
       "      <td>7.543822</td>\n",
       "    </tr>\n",
       "  </tbody>\n",
       "</table>\n",
       "</div>"
      ],
      "text/plain": [
       "             debt        sum/count_%\n",
       "              sum  count            \n",
       "аv_children                         \n",
       "есть дети     678   7363    9.208203\n",
       "нет детей    1063  14091    7.543822"
      ]
     },
     "execution_count": 46,
     "metadata": {},
     "output_type": "execute_result"
    }
   ],
   "source": [
    "df_children_debt_group = df_children_debt.groupby('аv_children').agg({'debt': ['sum','count']})\n",
    "\n",
    "df_children_debt_group['sum/count_%'] = (df_children_debt_group['debt']['sum'] / df_children_debt_group['debt']['count']) * 100\n",
    "\n",
    "df_children_debt_group"
   ]
  },
  {
   "cell_type": "markdown",
   "id": "68ac5020",
   "metadata": {},
   "source": [
    "В абсолютном выражении людей со сложными жизненными обстоятельствами больше в группе без детей чем в группе с детьми, но их и как заёмщиков больше в два раза. Если же сравнивать доли \"сложных людей\" в той и другой группе, то мы видим, что разницы нет  практически. Отсюда делаем вывод, что зависимости между наличием детей и возвратом кредита в срок - не наблюдается. "
   ]
  },
  {
   "cell_type": "markdown",
   "id": "e752080e",
   "metadata": {},
   "source": [
    "### Гипотеза о зависимости между семейным положением и возвратом кредита в срок"
   ]
  },
  {
   "cell_type": "code",
   "execution_count": 47,
   "id": "0df91d58",
   "metadata": {},
   "outputs": [
    {
     "data": {
      "text/html": [
       "<div>\n",
       "<style scoped>\n",
       "    .dataframe tbody tr th:only-of-type {\n",
       "        vertical-align: middle;\n",
       "    }\n",
       "\n",
       "    .dataframe tbody tr th {\n",
       "        vertical-align: top;\n",
       "    }\n",
       "\n",
       "    .dataframe thead tr th {\n",
       "        text-align: left;\n",
       "    }\n",
       "\n",
       "    .dataframe thead tr:last-of-type th {\n",
       "        text-align: right;\n",
       "    }\n",
       "</style>\n",
       "<table border=\"1\" class=\"dataframe\">\n",
       "  <thead>\n",
       "    <tr>\n",
       "      <th></th>\n",
       "      <th colspan=\"2\" halign=\"left\">debt</th>\n",
       "      <th>sum/count_%</th>\n",
       "    </tr>\n",
       "    <tr>\n",
       "      <th></th>\n",
       "      <th>sum</th>\n",
       "      <th>count</th>\n",
       "      <th></th>\n",
       "    </tr>\n",
       "    <tr>\n",
       "      <th>family_status</th>\n",
       "      <th></th>\n",
       "      <th></th>\n",
       "      <th></th>\n",
       "    </tr>\n",
       "  </thead>\n",
       "  <tbody>\n",
       "    <tr>\n",
       "      <td>не женат / не замужем</td>\n",
       "      <td>274</td>\n",
       "      <td>2810</td>\n",
       "      <td>9.750890</td>\n",
       "    </tr>\n",
       "    <tr>\n",
       "      <td>гражданский брак</td>\n",
       "      <td>388</td>\n",
       "      <td>4151</td>\n",
       "      <td>9.347145</td>\n",
       "    </tr>\n",
       "    <tr>\n",
       "      <td>женат / замужем</td>\n",
       "      <td>931</td>\n",
       "      <td>12339</td>\n",
       "      <td>7.545182</td>\n",
       "    </tr>\n",
       "    <tr>\n",
       "      <td>в разводе</td>\n",
       "      <td>85</td>\n",
       "      <td>1195</td>\n",
       "      <td>7.112971</td>\n",
       "    </tr>\n",
       "    <tr>\n",
       "      <td>вдовец / вдова</td>\n",
       "      <td>63</td>\n",
       "      <td>959</td>\n",
       "      <td>6.569343</td>\n",
       "    </tr>\n",
       "  </tbody>\n",
       "</table>\n",
       "</div>"
      ],
      "text/plain": [
       "                      debt        sum/count_%\n",
       "                       sum  count            \n",
       "family_status                                \n",
       "не женат / не замужем  274   2810    9.750890\n",
       "гражданский брак       388   4151    9.347145\n",
       "женат / замужем        931  12339    7.545182\n",
       "в разводе               85   1195    7.112971\n",
       "вдовец / вдова          63    959    6.569343"
      ]
     },
     "execution_count": 47,
     "metadata": {},
     "output_type": "execute_result"
    }
   ],
   "source": [
    "df_family_status_debt = df[['family_status','debt']].groupby('family_status').agg({'debt': ['sum','count']})\n",
    "\n",
    "df_family_status_debt['sum/count_%'] = (df_family_status_debt['debt']['sum'] / df_family_status_debt['debt']['count']) * 100\n",
    "\n",
    "df_family_status_debt.sort_values(by = 'sum/count_%',ascending = False)\n"
   ]
  },
  {
   "cell_type": "markdown",
   "id": "6a75f27a",
   "metadata": {},
   "source": [
    "По имеющимся данным к сожелению не получится выдвинуть теорию что в состоянии выбора предпочтения стоит отдавать семейному заёмщику, слишкам мала дифференциация в столбце `sum/count_%`. Самые не дисциплинированные оказаль холостые представители рода человеческого, что возможно объясняется тем фактом, что отсутствие постоянного пратнёра вызвано отсутсвием желания брать на себя дополнительную ответсвенность перед кем-то другим, что соответсвенно распростроняется и на кредитора."
   ]
  },
  {
   "cell_type": "markdown",
   "id": "a77defa7",
   "metadata": {},
   "source": [
    "### Гипотеза о зависимости между уровнем дохода и возвратом кредита в срок"
   ]
  },
  {
   "cell_type": "code",
   "execution_count": 55,
   "id": "b0e29811",
   "metadata": {
    "scrolled": true
   },
   "outputs": [
    {
     "data": {
      "text/html": [
       "<div>\n",
       "<style scoped>\n",
       "    .dataframe tbody tr th:only-of-type {\n",
       "        vertical-align: middle;\n",
       "    }\n",
       "\n",
       "    .dataframe tbody tr th {\n",
       "        vertical-align: top;\n",
       "    }\n",
       "\n",
       "    .dataframe thead tr th {\n",
       "        text-align: left;\n",
       "    }\n",
       "\n",
       "    .dataframe thead tr:last-of-type th {\n",
       "        text-align: right;\n",
       "    }\n",
       "</style>\n",
       "<table border=\"1\" class=\"dataframe\">\n",
       "  <thead>\n",
       "    <tr>\n",
       "      <th></th>\n",
       "      <th colspan=\"2\" halign=\"left\">debt</th>\n",
       "      <th>sum/count_%</th>\n",
       "    </tr>\n",
       "    <tr>\n",
       "      <th></th>\n",
       "      <th>sum</th>\n",
       "      <th>count</th>\n",
       "      <th></th>\n",
       "    </tr>\n",
       "    <tr>\n",
       "      <th>total_income_group</th>\n",
       "      <th></th>\n",
       "      <th></th>\n",
       "      <th></th>\n",
       "    </tr>\n",
       "  </thead>\n",
       "  <tbody>\n",
       "    <tr>\n",
       "      <td>неплохо живём</td>\n",
       "      <td>755</td>\n",
       "      <td>8870</td>\n",
       "      <td>8.511838</td>\n",
       "    </tr>\n",
       "    <tr>\n",
       "      <td>нет данных</td>\n",
       "      <td>170</td>\n",
       "      <td>2103</td>\n",
       "      <td>8.083690</td>\n",
       "    </tr>\n",
       "    <tr>\n",
       "      <td>хорошо живём</td>\n",
       "      <td>712</td>\n",
       "      <td>8817</td>\n",
       "      <td>8.075309</td>\n",
       "    </tr>\n",
       "    <tr>\n",
       "      <td>трудоголики</td>\n",
       "      <td>2</td>\n",
       "      <td>25</td>\n",
       "      <td>8.000000</td>\n",
       "    </tr>\n",
       "    <tr>\n",
       "      <td>ЖивЁм</td>\n",
       "      <td>53</td>\n",
       "      <td>833</td>\n",
       "      <td>6.362545</td>\n",
       "    </tr>\n",
       "    <tr>\n",
       "      <td>на жизнь хватает</td>\n",
       "      <td>49</td>\n",
       "      <td>806</td>\n",
       "      <td>6.079404</td>\n",
       "    </tr>\n",
       "  </tbody>\n",
       "</table>\n",
       "</div>"
      ],
      "text/plain": [
       "                   debt       sum/count_%\n",
       "                    sum count            \n",
       "total_income_group                       \n",
       "неплохо живём       755  8870    8.511838\n",
       "нет данных          170  2103    8.083690\n",
       "хорошо живём        712  8817    8.075309\n",
       "трудоголики           2    25    8.000000\n",
       "ЖивЁм                53   833    6.362545\n",
       "на жизнь хватает     49   806    6.079404"
      ]
     },
     "execution_count": 55,
     "metadata": {},
     "output_type": "execute_result"
    }
   ],
   "source": [
    "df_total_income_debt = df_total_income_debt.groupby('total_income_group').agg({'debt': ['sum','count']})\n",
    "\n",
    "df_total_income_debt['sum/count_%'] = (df_total_income_debt['debt']['sum'] / df_total_income_debt['debt']['count']) * 100\n",
    "\n",
    "df_total_income_debt.sort_values(by = 'sum/count_%',ascending = False)\n"
   ]
  },
  {
   "cell_type": "markdown",
   "id": "41cadd8c",
   "metadata": {},
   "source": [
    "И что мы видим? Значимых различий нет. Распределение вполне объяснимое, после того как его видишь."
   ]
  },
  {
   "cell_type": "markdown",
   "id": "daa42fdb",
   "metadata": {},
   "source": [
    "### Гипотеза о влиянии цели кредита на его возврат в срок"
   ]
  },
  {
   "cell_type": "code",
   "execution_count": 60,
   "id": "cf287934",
   "metadata": {},
   "outputs": [
    {
     "data": {
      "text/html": [
       "<div>\n",
       "<style scoped>\n",
       "    .dataframe tbody tr th:only-of-type {\n",
       "        vertical-align: middle;\n",
       "    }\n",
       "\n",
       "    .dataframe tbody tr th {\n",
       "        vertical-align: top;\n",
       "    }\n",
       "\n",
       "    .dataframe thead tr th {\n",
       "        text-align: left;\n",
       "    }\n",
       "\n",
       "    .dataframe thead tr:last-of-type th {\n",
       "        text-align: right;\n",
       "    }\n",
       "</style>\n",
       "<table border=\"1\" class=\"dataframe\">\n",
       "  <thead>\n",
       "    <tr>\n",
       "      <th></th>\n",
       "      <th colspan=\"2\" halign=\"left\">debt</th>\n",
       "      <th>sum/count_%</th>\n",
       "    </tr>\n",
       "    <tr>\n",
       "      <th></th>\n",
       "      <th>sum</th>\n",
       "      <th>count</th>\n",
       "      <th></th>\n",
       "    </tr>\n",
       "    <tr>\n",
       "      <th>purpose_group</th>\n",
       "      <th></th>\n",
       "      <th></th>\n",
       "      <th></th>\n",
       "    </tr>\n",
       "  </thead>\n",
       "  <tbody>\n",
       "    <tr>\n",
       "      <td>автомобиль</td>\n",
       "      <td>403</td>\n",
       "      <td>4306</td>\n",
       "      <td>9.359034</td>\n",
       "    </tr>\n",
       "    <tr>\n",
       "      <td>образование</td>\n",
       "      <td>370</td>\n",
       "      <td>4013</td>\n",
       "      <td>9.220035</td>\n",
       "    </tr>\n",
       "    <tr>\n",
       "      <td>свадьба</td>\n",
       "      <td>186</td>\n",
       "      <td>2324</td>\n",
       "      <td>8.003442</td>\n",
       "    </tr>\n",
       "    <tr>\n",
       "      <td>недвижимость</td>\n",
       "      <td>385</td>\n",
       "      <td>5121</td>\n",
       "      <td>7.518063</td>\n",
       "    </tr>\n",
       "    <tr>\n",
       "      <td>жильё</td>\n",
       "      <td>397</td>\n",
       "      <td>5690</td>\n",
       "      <td>6.977153</td>\n",
       "    </tr>\n",
       "  </tbody>\n",
       "</table>\n",
       "</div>"
      ],
      "text/plain": [
       "              debt       sum/count_%\n",
       "               sum count            \n",
       "purpose_group                       \n",
       "автомобиль     403  4306    9.359034\n",
       "образование    370  4013    9.220035\n",
       "свадьба        186  2324    8.003442\n",
       "недвижимость   385  5121    7.518063\n",
       "жильё          397  5690    6.977153"
      ]
     },
     "execution_count": 60,
     "metadata": {},
     "output_type": "execute_result"
    }
   ],
   "source": [
    "df_purpose_debt = df_purpose_debt.groupby('purpose_group').agg({'debt': ['sum','count']})\n",
    "\n",
    "df_purpose_debt['sum/count_%'] = (df_purpose_debt['debt']['sum'] / df_purpose_debt['debt']['count']) * 100\n",
    "\n",
    "df_purpose_debt.sort_values(by = 'sum/count_%',ascending = False)"
   ]
  },
  {
   "cell_type": "markdown",
   "id": "f23c2226",
   "metadata": {},
   "source": [
    "И здесь, без сюрпризов. Жильё - это безопасность, основательность тут не до хулиганства с просрочкой возврата части кредита. Автомобиль - это свобода, что возможно несколько расслабляет. "
   ]
  },
  {
   "cell_type": "markdown",
   "id": "b4bf217e",
   "metadata": {},
   "source": [
    "## Общий вывод"
   ]
  },
  {
   "cell_type": "markdown",
   "id": "374927f7",
   "metadata": {},
   "source": [
    "1. Причины по которым заёмщики позволяют себе допускать несвоевременное погащение части кредита, в представленных нам данных, не обнаружены, её надо искать в другом месте. Скажем так, проведя актетирование среди тех кто допускает несоблюдение графика плотежей, и выяснив причины такого поведения. Если эти причины поддаются формальному определению например, `работа вахтовым методом`, (а не что-то в духе \"мне сказал мой внутренний голос - сегодня не плати, день неподходящий\", т.е. ввести причину `внутриличностные мотивы` не дадут, начальство не поймёт, к сожелению), то первые три вводим как обязательные при заполнении данных о заёмщике, в случае если их там нет ещё.\n",
    "\n",
    "2. В каждой подгруппе риск неплатеже не преващает 10%. Приемлемо это или нет предстоит решать лицам принимающим решения. Успехов им удачи и терпения на этом пути. Если в последнем пожелании и есть сарказм, то честно, честно совсев чуть-чуть.\n"
   ]
  },
  {
   "cell_type": "code",
   "execution_count": null,
   "id": "b35b0d58",
   "metadata": {},
   "outputs": [],
   "source": []
  }
 ],
 "metadata": {
  "ExecuteTimeLog": [
   {
    "duration": 770,
    "start_time": "2021-12-05T12:29:32.985Z"
   },
   {
    "duration": 3745,
    "start_time": "2021-12-05T12:29:33.758Z"
   },
   {
    "duration": 264,
    "start_time": "2021-12-05T12:29:37.244Z"
   },
   {
    "duration": 262,
    "start_time": "2021-12-05T12:29:37.247Z"
   },
   {
    "duration": 254,
    "start_time": "2021-12-05T12:29:37.256Z"
   },
   {
    "duration": 253,
    "start_time": "2021-12-05T12:29:37.259Z"
   },
   {
    "duration": 251,
    "start_time": "2021-12-05T12:29:37.262Z"
   },
   {
    "duration": 251,
    "start_time": "2021-12-05T12:29:37.264Z"
   },
   {
    "duration": 242,
    "start_time": "2021-12-05T12:29:37.274Z"
   },
   {
    "duration": 240,
    "start_time": "2021-12-05T12:29:37.277Z"
   },
   {
    "duration": 240,
    "start_time": "2021-12-05T12:29:37.279Z"
   },
   {
    "duration": 239,
    "start_time": "2021-12-05T12:29:37.281Z"
   },
   {
    "duration": 231,
    "start_time": "2021-12-05T12:29:37.290Z"
   },
   {
    "duration": 230,
    "start_time": "2021-12-05T12:29:37.293Z"
   },
   {
    "duration": 228,
    "start_time": "2021-12-05T12:29:37.296Z"
   },
   {
    "duration": 227,
    "start_time": "2021-12-05T12:29:37.298Z"
   },
   {
    "duration": 220,
    "start_time": "2021-12-05T12:29:37.306Z"
   },
   {
    "duration": 219,
    "start_time": "2021-12-05T12:29:37.309Z"
   },
   {
    "duration": 217,
    "start_time": "2021-12-05T12:29:37.312Z"
   },
   {
    "duration": 216,
    "start_time": "2021-12-05T12:29:37.314Z"
   },
   {
    "duration": 208,
    "start_time": "2021-12-05T12:29:37.324Z"
   },
   {
    "duration": 206,
    "start_time": "2021-12-05T12:29:37.327Z"
   },
   {
    "duration": 205,
    "start_time": "2021-12-05T12:29:37.329Z"
   },
   {
    "duration": 205,
    "start_time": "2021-12-05T12:29:37.331Z"
   },
   {
    "duration": 197,
    "start_time": "2021-12-05T12:29:37.340Z"
   },
   {
    "duration": 195,
    "start_time": "2021-12-05T12:29:37.343Z"
   },
   {
    "duration": 195,
    "start_time": "2021-12-05T12:29:37.345Z"
   },
   {
    "duration": 195,
    "start_time": "2021-12-05T12:29:37.347Z"
   },
   {
    "duration": 188,
    "start_time": "2021-12-05T12:29:37.356Z"
   },
   {
    "duration": 186,
    "start_time": "2021-12-05T12:29:37.359Z"
   },
   {
    "duration": 220,
    "start_time": "2021-12-05T12:29:37.362Z"
   },
   {
    "duration": 219,
    "start_time": "2021-12-05T12:29:37.364Z"
   },
   {
    "duration": 218,
    "start_time": "2021-12-05T12:29:37.366Z"
   },
   {
    "duration": 212,
    "start_time": "2021-12-05T12:29:37.374Z"
   },
   {
    "duration": 210,
    "start_time": "2021-12-05T12:29:37.377Z"
   },
   {
    "duration": 198,
    "start_time": "2021-12-05T12:29:37.391Z"
   },
   {
    "duration": 195,
    "start_time": "2021-12-05T12:29:37.395Z"
   },
   {
    "duration": 194,
    "start_time": "2021-12-05T12:29:37.397Z"
   },
   {
    "duration": 194,
    "start_time": "2021-12-05T12:29:37.399Z"
   },
   {
    "duration": 186,
    "start_time": "2021-12-05T12:29:37.408Z"
   },
   {
    "duration": 185,
    "start_time": "2021-12-05T12:29:37.411Z"
   },
   {
    "duration": 184,
    "start_time": "2021-12-05T12:29:37.413Z"
   },
   {
    "duration": 183,
    "start_time": "2021-12-05T12:29:37.415Z"
   },
   {
    "duration": 177,
    "start_time": "2021-12-05T12:29:37.423Z"
   },
   {
    "duration": 175,
    "start_time": "2021-12-05T12:29:37.426Z"
   },
   {
    "duration": 174,
    "start_time": "2021-12-05T12:29:37.429Z"
   },
   {
    "duration": 164,
    "start_time": "2021-12-05T12:29:37.440Z"
   },
   {
    "duration": 163,
    "start_time": "2021-12-05T12:29:37.443Z"
   },
   {
    "duration": 591,
    "start_time": "2021-12-06T02:31:03.102Z"
   },
   {
    "duration": 57,
    "start_time": "2021-12-06T02:31:05.213Z"
   },
   {
    "duration": 22,
    "start_time": "2021-12-06T02:31:07.986Z"
   },
   {
    "duration": 3,
    "start_time": "2021-12-06T02:31:20.211Z"
   },
   {
    "duration": 69,
    "start_time": "2021-12-06T02:31:20.215Z"
   },
   {
    "duration": 15,
    "start_time": "2021-12-06T02:31:20.286Z"
   },
   {
    "duration": 18,
    "start_time": "2021-12-06T02:31:20.302Z"
   },
   {
    "duration": 23,
    "start_time": "2021-12-06T02:31:20.321Z"
   },
   {
    "duration": 44,
    "start_time": "2021-12-06T02:31:20.345Z"
   },
   {
    "duration": 9,
    "start_time": "2021-12-06T02:31:20.391Z"
   },
   {
    "duration": 21,
    "start_time": "2021-12-06T02:31:20.402Z"
   },
   {
    "duration": 25,
    "start_time": "2021-12-06T02:31:20.424Z"
   },
   {
    "duration": 48,
    "start_time": "2021-12-06T02:31:20.451Z"
   },
   {
    "duration": 27,
    "start_time": "2021-12-06T02:31:20.501Z"
   },
   {
    "duration": 31,
    "start_time": "2021-12-06T02:31:20.530Z"
   },
   {
    "duration": 22,
    "start_time": "2021-12-06T02:31:20.563Z"
   },
   {
    "duration": 55,
    "start_time": "2021-12-06T02:31:20.586Z"
   },
   {
    "duration": 31,
    "start_time": "2021-12-06T02:31:20.642Z"
   },
   {
    "duration": 21,
    "start_time": "2021-12-06T02:31:20.675Z"
   },
   {
    "duration": 51,
    "start_time": "2021-12-06T02:31:20.698Z"
   },
   {
    "duration": 11,
    "start_time": "2021-12-06T02:31:20.751Z"
   },
   {
    "duration": 35,
    "start_time": "2021-12-06T02:31:20.765Z"
   },
   {
    "duration": 697,
    "start_time": "2021-12-06T02:31:20.802Z"
   },
   {
    "duration": 5,
    "start_time": "2021-12-06T02:31:21.501Z"
   },
   {
    "duration": 16,
    "start_time": "2021-12-06T02:31:21.507Z"
   },
   {
    "duration": 36,
    "start_time": "2021-12-06T02:31:21.525Z"
   },
   {
    "duration": 12,
    "start_time": "2021-12-06T02:31:21.563Z"
   },
   {
    "duration": 52,
    "start_time": "2021-12-06T02:31:21.576Z"
   },
   {
    "duration": 49,
    "start_time": "2021-12-06T02:31:21.630Z"
   },
   {
    "duration": 17,
    "start_time": "2021-12-06T02:31:21.680Z"
   },
   {
    "duration": 24,
    "start_time": "2021-12-06T02:31:21.699Z"
   },
   {
    "duration": 13,
    "start_time": "2021-12-06T02:31:21.725Z"
   },
   {
    "duration": 38,
    "start_time": "2021-12-06T02:31:21.739Z"
   },
   {
    "duration": 33,
    "start_time": "2021-12-06T02:31:21.779Z"
   },
   {
    "duration": 37,
    "start_time": "2021-12-06T02:31:21.814Z"
   },
   {
    "duration": 13,
    "start_time": "2021-12-06T02:31:21.853Z"
   },
   {
    "duration": 35,
    "start_time": "2021-12-06T02:31:21.868Z"
   },
   {
    "duration": 40,
    "start_time": "2021-12-06T02:31:21.905Z"
   },
   {
    "duration": 31,
    "start_time": "2021-12-06T02:31:21.947Z"
   },
   {
    "duration": 13,
    "start_time": "2021-12-06T02:31:21.980Z"
   },
   {
    "duration": 27,
    "start_time": "2021-12-06T02:31:21.994Z"
   },
   {
    "duration": 31,
    "start_time": "2021-12-06T02:31:22.023Z"
   },
   {
    "duration": 21,
    "start_time": "2021-12-06T02:31:22.056Z"
   },
   {
    "duration": 28,
    "start_time": "2021-12-06T02:31:22.079Z"
   },
   {
    "duration": 26,
    "start_time": "2021-12-06T02:31:22.109Z"
   },
   {
    "duration": 34,
    "start_time": "2021-12-06T02:31:22.136Z"
   },
   {
    "duration": 17,
    "start_time": "2021-12-06T02:31:22.172Z"
   },
   {
    "duration": 23,
    "start_time": "2021-12-06T02:31:22.192Z"
   },
   {
    "duration": 27,
    "start_time": "2021-12-06T02:31:22.217Z"
   },
   {
    "duration": 43,
    "start_time": "2021-12-06T02:31:22.246Z"
   },
   {
    "duration": 25,
    "start_time": "2021-12-06T02:31:22.291Z"
   },
   {
    "duration": 881,
    "start_time": "2021-12-06T08:03:57.428Z"
   },
   {
    "duration": 65,
    "start_time": "2021-12-06T08:03:58.312Z"
   },
   {
    "duration": 32,
    "start_time": "2021-12-06T08:03:58.380Z"
   },
   {
    "duration": 16,
    "start_time": "2021-12-06T08:03:58.415Z"
   },
   {
    "duration": 37,
    "start_time": "2021-12-06T08:03:58.433Z"
   },
   {
    "duration": 43,
    "start_time": "2021-12-06T08:03:58.473Z"
   },
   {
    "duration": 12,
    "start_time": "2021-12-06T08:03:58.518Z"
   },
   {
    "duration": 11,
    "start_time": "2021-12-06T08:03:58.561Z"
   },
   {
    "duration": 9,
    "start_time": "2021-12-06T08:03:58.575Z"
   },
   {
    "duration": 18,
    "start_time": "2021-12-06T08:03:58.586Z"
   },
   {
    "duration": 56,
    "start_time": "2021-12-06T08:03:58.606Z"
   },
   {
    "duration": 24,
    "start_time": "2021-12-06T08:03:58.664Z"
   },
   {
    "duration": 21,
    "start_time": "2021-12-06T08:03:58.690Z"
   },
   {
    "duration": 86,
    "start_time": "2021-12-06T08:03:58.713Z"
   },
   {
    "duration": 33,
    "start_time": "2021-12-06T08:03:58.802Z"
   },
   {
    "duration": 45,
    "start_time": "2021-12-06T08:03:58.838Z"
   },
   {
    "duration": 23,
    "start_time": "2021-12-06T08:03:58.886Z"
   },
   {
    "duration": 19,
    "start_time": "2021-12-06T08:03:58.911Z"
   },
   {
    "duration": 21,
    "start_time": "2021-12-06T08:03:58.960Z"
   },
   {
    "duration": 986,
    "start_time": "2021-12-06T08:03:58.983Z"
   },
   {
    "duration": 6,
    "start_time": "2021-12-06T08:03:59.972Z"
   },
   {
    "duration": 8,
    "start_time": "2021-12-06T08:03:59.980Z"
   },
   {
    "duration": 20,
    "start_time": "2021-12-06T08:03:59.994Z"
   },
   {
    "duration": 45,
    "start_time": "2021-12-06T08:04:00.018Z"
   },
   {
    "duration": 20,
    "start_time": "2021-12-06T08:04:00.066Z"
   },
   {
    "duration": 13,
    "start_time": "2021-12-06T08:04:00.089Z"
   },
   {
    "duration": 10,
    "start_time": "2021-12-06T08:04:00.105Z"
   },
   {
    "duration": 54,
    "start_time": "2021-12-06T08:04:00.118Z"
   },
   {
    "duration": 13,
    "start_time": "2021-12-06T08:04:00.175Z"
   },
   {
    "duration": 15,
    "start_time": "2021-12-06T08:04:00.191Z"
   },
   {
    "duration": 16,
    "start_time": "2021-12-06T08:04:00.209Z"
   },
   {
    "duration": 62,
    "start_time": "2021-12-06T08:04:00.227Z"
   },
   {
    "duration": 4,
    "start_time": "2021-12-06T08:04:00.291Z"
   },
   {
    "duration": 15,
    "start_time": "2021-12-06T08:04:00.297Z"
   },
   {
    "duration": 51,
    "start_time": "2021-12-06T08:04:00.314Z"
   },
   {
    "duration": 30,
    "start_time": "2021-12-06T08:04:00.368Z"
   },
   {
    "duration": 10,
    "start_time": "2021-12-06T08:04:00.400Z"
   },
   {
    "duration": 9,
    "start_time": "2021-12-06T08:04:00.413Z"
   },
   {
    "duration": 12,
    "start_time": "2021-12-06T08:04:00.460Z"
   },
   {
    "duration": 12,
    "start_time": "2021-12-06T08:04:00.475Z"
   },
   {
    "duration": 21,
    "start_time": "2021-12-06T08:04:00.490Z"
   },
   {
    "duration": 47,
    "start_time": "2021-12-06T08:04:00.513Z"
   },
   {
    "duration": 26,
    "start_time": "2021-12-06T08:04:00.563Z"
   },
   {
    "duration": 17,
    "start_time": "2021-12-06T08:04:00.591Z"
   },
   {
    "duration": 18,
    "start_time": "2021-12-06T08:04:00.610Z"
   },
   {
    "duration": 31,
    "start_time": "2021-12-06T08:04:00.630Z"
   },
   {
    "duration": 28,
    "start_time": "2021-12-06T08:04:00.663Z"
   },
   {
    "duration": 28,
    "start_time": "2021-12-06T08:04:00.694Z"
   },
   {
    "duration": 100,
    "start_time": "2021-12-06T08:45:47.510Z"
   },
   {
    "duration": 163,
    "start_time": "2021-12-06T08:48:02.412Z"
   },
   {
    "duration": 514,
    "start_time": "2021-12-06T10:30:24.288Z"
   },
   {
    "duration": 793,
    "start_time": "2021-12-06T10:30:57.853Z"
   },
   {
    "duration": 64,
    "start_time": "2021-12-06T10:30:58.659Z"
   },
   {
    "duration": 43,
    "start_time": "2021-12-06T10:30:58.726Z"
   },
   {
    "duration": 14,
    "start_time": "2021-12-06T10:30:58.771Z"
   },
   {
    "duration": 12,
    "start_time": "2021-12-06T10:30:58.787Z"
   },
   {
    "duration": 79,
    "start_time": "2021-12-06T10:30:58.801Z"
   },
   {
    "duration": 13,
    "start_time": "2021-12-06T10:30:58.882Z"
   },
   {
    "duration": 10,
    "start_time": "2021-12-06T10:30:58.898Z"
   },
   {
    "duration": 8,
    "start_time": "2021-12-06T10:30:58.911Z"
   },
   {
    "duration": 53,
    "start_time": "2021-12-06T10:30:58.921Z"
   },
   {
    "duration": 21,
    "start_time": "2021-12-06T10:30:58.976Z"
   },
   {
    "duration": 23,
    "start_time": "2021-12-06T10:30:58.999Z"
   },
   {
    "duration": 51,
    "start_time": "2021-12-06T10:30:59.024Z"
   },
   {
    "duration": 84,
    "start_time": "2021-12-06T10:30:59.077Z"
   },
   {
    "duration": 32,
    "start_time": "2021-12-06T10:30:59.163Z"
   },
   {
    "duration": 29,
    "start_time": "2021-12-06T10:30:59.197Z"
   },
   {
    "duration": 50,
    "start_time": "2021-12-06T10:30:59.228Z"
   },
   {
    "duration": 20,
    "start_time": "2021-12-06T10:30:59.280Z"
   },
   {
    "duration": 15,
    "start_time": "2021-12-06T10:30:59.302Z"
   },
   {
    "duration": 984,
    "start_time": "2021-12-06T10:30:59.319Z"
   },
   {
    "duration": 7,
    "start_time": "2021-12-06T10:31:00.307Z"
   },
   {
    "duration": 18,
    "start_time": "2021-12-06T10:31:00.317Z"
   },
   {
    "duration": 34,
    "start_time": "2021-12-06T10:31:00.340Z"
   },
   {
    "duration": 6,
    "start_time": "2021-12-06T10:31:00.377Z"
   },
   {
    "duration": 33,
    "start_time": "2021-12-06T10:31:00.386Z"
   },
   {
    "duration": 10,
    "start_time": "2021-12-06T10:31:00.422Z"
   },
   {
    "duration": 25,
    "start_time": "2021-12-06T10:31:00.434Z"
   },
   {
    "duration": 26,
    "start_time": "2021-12-06T10:31:00.461Z"
   },
   {
    "duration": 11,
    "start_time": "2021-12-06T10:31:00.490Z"
   },
   {
    "duration": 31,
    "start_time": "2021-12-06T10:31:00.504Z"
   },
   {
    "duration": 12,
    "start_time": "2021-12-06T10:31:00.538Z"
   },
   {
    "duration": 38,
    "start_time": "2021-12-06T10:31:00.560Z"
   },
   {
    "duration": 5,
    "start_time": "2021-12-06T10:31:00.601Z"
   },
   {
    "duration": 18,
    "start_time": "2021-12-06T10:31:00.609Z"
   },
   {
    "duration": 46,
    "start_time": "2021-12-06T10:31:00.630Z"
   },
   {
    "duration": 32,
    "start_time": "2021-12-06T10:31:00.679Z"
   },
   {
    "duration": 12,
    "start_time": "2021-12-06T10:31:00.714Z"
   },
   {
    "duration": 8,
    "start_time": "2021-12-06T10:31:00.760Z"
   },
   {
    "duration": 17,
    "start_time": "2021-12-06T10:31:00.771Z"
   },
   {
    "duration": 7,
    "start_time": "2021-12-06T10:31:00.791Z"
   },
   {
    "duration": 19,
    "start_time": "2021-12-06T10:31:00.800Z"
   },
   {
    "duration": 52,
    "start_time": "2021-12-06T10:31:00.821Z"
   },
   {
    "duration": 26,
    "start_time": "2021-12-06T10:31:00.876Z"
   },
   {
    "duration": 14,
    "start_time": "2021-12-06T10:31:00.904Z"
   },
   {
    "duration": 44,
    "start_time": "2021-12-06T10:31:00.921Z"
   },
   {
    "duration": 13,
    "start_time": "2021-12-06T10:31:00.968Z"
   },
   {
    "duration": 25,
    "start_time": "2021-12-06T10:31:00.984Z"
   },
   {
    "duration": 50,
    "start_time": "2021-12-06T10:31:01.012Z"
   },
   {
    "duration": 12,
    "start_time": "2021-12-06T10:31:43.421Z"
   },
   {
    "duration": 5303,
    "start_time": "2021-12-06T10:36:21.599Z"
   },
   {
    "duration": 5295,
    "start_time": "2021-12-06T10:36:21.609Z"
   },
   {
    "duration": 12499,
    "start_time": "2021-12-06T10:36:58.613Z"
   },
   {
    "duration": 5298,
    "start_time": "2021-12-06T10:37:05.816Z"
   },
   {
    "duration": 18,
    "start_time": "2021-12-06T10:38:18.723Z"
   },
   {
    "duration": 5,
    "start_time": "2021-12-06T10:38:24.210Z"
   },
   {
    "duration": 5,
    "start_time": "2021-12-06T10:38:26.929Z"
   },
   {
    "duration": 26,
    "start_time": "2021-12-06T10:38:30.298Z"
   },
   {
    "duration": 28,
    "start_time": "2021-12-06T10:38:33.195Z"
   },
   {
    "duration": 12,
    "start_time": "2021-12-06T10:40:28.035Z"
   },
   {
    "duration": 23,
    "start_time": "2021-12-06T10:40:28.921Z"
   },
   {
    "duration": 12,
    "start_time": "2021-12-06T10:51:41.232Z"
   },
   {
    "duration": 24,
    "start_time": "2021-12-06T10:51:45.321Z"
   },
   {
    "duration": 5,
    "start_time": "2021-12-06T10:51:47.522Z"
   },
   {
    "duration": 13,
    "start_time": "2021-12-06T10:51:48.309Z"
   },
   {
    "duration": 10,
    "start_time": "2021-12-06T10:52:20.432Z"
   },
   {
    "duration": 5257,
    "start_time": "2021-12-06T10:58:45.374Z"
   },
   {
    "duration": 5200,
    "start_time": "2021-12-06T10:58:45.432Z"
   },
   {
    "duration": 5191,
    "start_time": "2021-12-06T10:58:45.442Z"
   },
   {
    "duration": 5,
    "start_time": "2021-12-06T10:59:02.237Z"
   },
   {
    "duration": 5,
    "start_time": "2021-12-06T10:59:03.093Z"
   },
   {
    "duration": 10071,
    "start_time": "2021-12-06T10:59:04.702Z"
   },
   {
    "duration": 6,
    "start_time": "2021-12-06T10:59:21.001Z"
   },
   {
    "duration": 6,
    "start_time": "2021-12-06T10:59:21.848Z"
   },
   {
    "duration": 11222,
    "start_time": "2021-12-06T10:59:24.219Z"
   },
   {
    "duration": 6,
    "start_time": "2021-12-06T11:00:41.169Z"
   },
   {
    "duration": 4,
    "start_time": "2021-12-06T11:00:42.016Z"
   },
   {
    "duration": 4,
    "start_time": "2021-12-06T11:00:42.806Z"
   },
   {
    "duration": 19,
    "start_time": "2021-12-06T11:00:43.922Z"
   },
   {
    "duration": 20,
    "start_time": "2021-12-06T11:00:54.255Z"
   },
   {
    "duration": 13,
    "start_time": "2021-12-06T11:06:51.225Z"
   },
   {
    "duration": 5,
    "start_time": "2021-12-06T11:06:56.424Z"
   },
   {
    "duration": 6,
    "start_time": "2021-12-06T11:06:57.287Z"
   },
   {
    "duration": 22,
    "start_time": "2021-12-06T11:06:58.810Z"
   },
   {
    "duration": 844,
    "start_time": "2021-12-06T11:09:35.528Z"
   },
   {
    "duration": 66,
    "start_time": "2021-12-06T11:09:36.375Z"
   },
   {
    "duration": 35,
    "start_time": "2021-12-06T11:09:36.443Z"
   },
   {
    "duration": 20,
    "start_time": "2021-12-06T11:09:36.481Z"
   },
   {
    "duration": 11,
    "start_time": "2021-12-06T11:09:36.504Z"
   },
   {
    "duration": 75,
    "start_time": "2021-12-06T11:09:36.517Z"
   },
   {
    "duration": 12,
    "start_time": "2021-12-06T11:09:36.594Z"
   },
   {
    "duration": 10,
    "start_time": "2021-12-06T11:09:36.610Z"
   },
   {
    "duration": 39,
    "start_time": "2021-12-06T11:09:36.623Z"
   },
   {
    "duration": 18,
    "start_time": "2021-12-06T11:09:36.665Z"
   },
   {
    "duration": 19,
    "start_time": "2021-12-06T11:09:36.685Z"
   },
   {
    "duration": 56,
    "start_time": "2021-12-06T11:09:36.706Z"
   },
   {
    "duration": 21,
    "start_time": "2021-12-06T11:09:36.764Z"
   },
   {
    "duration": 84,
    "start_time": "2021-12-06T11:09:36.787Z"
   },
   {
    "duration": 34,
    "start_time": "2021-12-06T11:09:36.874Z"
   },
   {
    "duration": 49,
    "start_time": "2021-12-06T11:09:36.911Z"
   },
   {
    "duration": 27,
    "start_time": "2021-12-06T11:09:36.963Z"
   },
   {
    "duration": 19,
    "start_time": "2021-12-06T11:09:36.993Z"
   },
   {
    "duration": 47,
    "start_time": "2021-12-06T11:09:37.014Z"
   },
   {
    "duration": 926,
    "start_time": "2021-12-06T11:09:37.063Z"
   },
   {
    "duration": 7,
    "start_time": "2021-12-06T11:09:37.991Z"
   },
   {
    "duration": 8,
    "start_time": "2021-12-06T11:09:38.000Z"
   },
   {
    "duration": 47,
    "start_time": "2021-12-06T11:09:38.013Z"
   },
   {
    "duration": 7,
    "start_time": "2021-12-06T11:09:38.064Z"
   },
   {
    "duration": 18,
    "start_time": "2021-12-06T11:09:38.074Z"
   },
   {
    "duration": 12,
    "start_time": "2021-12-06T11:09:38.095Z"
   },
   {
    "duration": 49,
    "start_time": "2021-12-06T11:09:38.110Z"
   },
   {
    "duration": 15,
    "start_time": "2021-12-06T11:09:38.162Z"
   },
   {
    "duration": 10,
    "start_time": "2021-12-06T11:09:38.179Z"
   },
   {
    "duration": 11,
    "start_time": "2021-12-06T11:09:38.192Z"
   },
   {
    "duration": 11,
    "start_time": "2021-12-06T11:09:38.205Z"
   },
   {
    "duration": 30,
    "start_time": "2021-12-06T11:09:38.259Z"
   },
   {
    "duration": 3,
    "start_time": "2021-12-06T11:09:38.291Z"
   },
   {
    "duration": 15,
    "start_time": "2021-12-06T11:09:38.296Z"
   },
   {
    "duration": 5,
    "start_time": "2021-12-06T11:09:38.313Z"
   },
   {
    "duration": 14,
    "start_time": "2021-12-06T11:09:38.320Z"
   },
   {
    "duration": 5,
    "start_time": "2021-12-06T11:09:38.360Z"
   },
   {
    "duration": 37,
    "start_time": "2021-12-06T11:09:38.367Z"
   },
   {
    "duration": 13,
    "start_time": "2021-12-06T11:09:38.406Z"
   },
   {
    "duration": 6,
    "start_time": "2021-12-06T11:09:38.422Z"
   },
   {
    "duration": 31,
    "start_time": "2021-12-06T11:09:38.430Z"
   },
   {
    "duration": 23,
    "start_time": "2021-12-06T11:09:38.464Z"
   },
   {
    "duration": 24,
    "start_time": "2021-12-06T11:09:38.489Z"
   },
   {
    "duration": 4,
    "start_time": "2021-12-06T11:09:38.515Z"
   },
   {
    "duration": 47,
    "start_time": "2021-12-06T11:09:38.522Z"
   },
   {
    "duration": 24,
    "start_time": "2021-12-06T11:09:38.571Z"
   },
   {
    "duration": 29,
    "start_time": "2021-12-06T11:09:38.598Z"
   },
   {
    "duration": 10,
    "start_time": "2021-12-06T11:09:38.659Z"
   },
   {
    "duration": 8,
    "start_time": "2021-12-06T11:09:38.672Z"
   },
   {
    "duration": 11,
    "start_time": "2021-12-06T11:09:38.683Z"
   },
   {
    "duration": 6,
    "start_time": "2021-12-06T11:09:38.696Z"
   },
   {
    "duration": 7,
    "start_time": "2021-12-06T11:09:38.704Z"
   },
   {
    "duration": 63,
    "start_time": "2021-12-06T11:09:38.713Z"
   },
   {
    "duration": 27,
    "start_time": "2021-12-06T11:09:38.778Z"
   },
   {
    "duration": 12,
    "start_time": "2021-12-06T11:09:38.807Z"
   },
   {
    "duration": 37,
    "start_time": "2021-12-06T11:09:38.822Z"
   },
   {
    "duration": 5,
    "start_time": "2021-12-06T11:09:38.861Z"
   },
   {
    "duration": 23,
    "start_time": "2021-12-06T11:09:38.868Z"
   },
   {
    "duration": 27,
    "start_time": "2021-12-06T11:09:38.894Z"
   },
   {
    "duration": 9486,
    "start_time": "2021-12-06T11:11:16.934Z"
   },
   {
    "duration": 6,
    "start_time": "2021-12-06T11:11:47.714Z"
   },
   {
    "duration": 5,
    "start_time": "2021-12-06T11:11:53.347Z"
   },
   {
    "duration": 5,
    "start_time": "2021-12-06T11:11:54.091Z"
   },
   {
    "duration": 20,
    "start_time": "2021-12-06T11:11:56.594Z"
   },
   {
    "duration": 20,
    "start_time": "2021-12-06T11:12:16.118Z"
   },
   {
    "duration": 19,
    "start_time": "2021-12-06T11:13:06.432Z"
   },
   {
    "duration": 10092,
    "start_time": "2021-12-06T11:18:33.715Z"
   },
   {
    "duration": 12,
    "start_time": "2021-12-06T11:19:12.885Z"
   },
   {
    "duration": 633,
    "start_time": "2021-12-06T12:18:27.201Z"
   },
   {
    "duration": 56,
    "start_time": "2021-12-06T12:18:27.836Z"
   },
   {
    "duration": 22,
    "start_time": "2021-12-06T12:18:27.894Z"
   },
   {
    "duration": 11,
    "start_time": "2021-12-06T12:18:27.919Z"
   },
   {
    "duration": 10,
    "start_time": "2021-12-06T12:18:27.932Z"
   },
   {
    "duration": 28,
    "start_time": "2021-12-06T12:18:27.943Z"
   },
   {
    "duration": 38,
    "start_time": "2021-12-06T12:18:27.973Z"
   },
   {
    "duration": 7,
    "start_time": "2021-12-06T12:18:28.014Z"
   },
   {
    "duration": 7,
    "start_time": "2021-12-06T12:18:28.024Z"
   },
   {
    "duration": 14,
    "start_time": "2021-12-06T12:18:28.033Z"
   },
   {
    "duration": 15,
    "start_time": "2021-12-06T12:18:28.048Z"
   },
   {
    "duration": 49,
    "start_time": "2021-12-06T12:18:28.065Z"
   },
   {
    "duration": 15,
    "start_time": "2021-12-06T12:18:28.116Z"
   },
   {
    "duration": 49,
    "start_time": "2021-12-06T12:18:28.132Z"
   },
   {
    "duration": 47,
    "start_time": "2021-12-06T12:18:28.182Z"
   },
   {
    "duration": 21,
    "start_time": "2021-12-06T12:18:28.231Z"
   },
   {
    "duration": 20,
    "start_time": "2021-12-06T12:18:28.253Z"
   },
   {
    "duration": 39,
    "start_time": "2021-12-06T12:18:28.274Z"
   },
   {
    "duration": 10,
    "start_time": "2021-12-06T12:18:28.315Z"
   },
   {
    "duration": 741,
    "start_time": "2021-12-06T12:18:28.327Z"
   },
   {
    "duration": 5,
    "start_time": "2021-12-06T12:18:29.070Z"
   },
   {
    "duration": 6,
    "start_time": "2021-12-06T12:18:29.076Z"
   },
   {
    "duration": 26,
    "start_time": "2021-12-06T12:18:29.086Z"
   },
   {
    "duration": 5,
    "start_time": "2021-12-06T12:18:29.115Z"
   },
   {
    "duration": 14,
    "start_time": "2021-12-06T12:18:29.121Z"
   },
   {
    "duration": 8,
    "start_time": "2021-12-06T12:18:29.137Z"
   },
   {
    "duration": 7,
    "start_time": "2021-12-06T12:18:29.146Z"
   },
   {
    "duration": 12,
    "start_time": "2021-12-06T12:18:29.154Z"
   },
   {
    "duration": 42,
    "start_time": "2021-12-06T12:18:29.168Z"
   },
   {
    "duration": 8,
    "start_time": "2021-12-06T12:18:29.212Z"
   },
   {
    "duration": 9,
    "start_time": "2021-12-06T12:18:29.221Z"
   },
   {
    "duration": 24,
    "start_time": "2021-12-06T12:18:29.232Z"
   },
   {
    "duration": 3,
    "start_time": "2021-12-06T12:18:29.258Z"
   },
   {
    "duration": 14,
    "start_time": "2021-12-06T12:18:29.262Z"
   },
   {
    "duration": 30,
    "start_time": "2021-12-06T12:18:29.278Z"
   },
   {
    "duration": 5,
    "start_time": "2021-12-06T12:18:29.310Z"
   },
   {
    "duration": 9,
    "start_time": "2021-12-06T12:18:29.317Z"
   },
   {
    "duration": 13,
    "start_time": "2021-12-06T12:18:29.328Z"
   },
   {
    "duration": 9,
    "start_time": "2021-12-06T12:18:29.343Z"
   },
   {
    "duration": 13,
    "start_time": "2021-12-06T12:18:29.354Z"
   },
   {
    "duration": 12,
    "start_time": "2021-12-06T12:18:29.369Z"
   },
   {
    "duration": 36,
    "start_time": "2021-12-06T12:18:29.382Z"
   },
   {
    "duration": 17,
    "start_time": "2021-12-06T12:18:29.421Z"
   },
   {
    "duration": 3,
    "start_time": "2021-12-06T12:18:29.440Z"
   },
   {
    "duration": 12,
    "start_time": "2021-12-06T12:18:29.445Z"
   },
   {
    "duration": 18,
    "start_time": "2021-12-06T12:18:29.459Z"
   },
   {
    "duration": 45,
    "start_time": "2021-12-06T12:18:29.478Z"
   },
   {
    "duration": 7,
    "start_time": "2021-12-06T12:18:29.525Z"
   },
   {
    "duration": 9,
    "start_time": "2021-12-06T12:18:29.533Z"
   },
   {
    "duration": 8,
    "start_time": "2021-12-06T12:18:29.544Z"
   },
   {
    "duration": 7,
    "start_time": "2021-12-06T12:18:29.554Z"
   },
   {
    "duration": 3,
    "start_time": "2021-12-06T12:18:29.563Z"
   },
   {
    "duration": 41,
    "start_time": "2021-12-06T12:18:29.568Z"
   },
   {
    "duration": 16,
    "start_time": "2021-12-06T12:18:29.610Z"
   },
   {
    "duration": 17,
    "start_time": "2021-12-06T12:18:29.627Z"
   },
   {
    "duration": 9,
    "start_time": "2021-12-06T12:18:29.646Z"
   },
   {
    "duration": 5,
    "start_time": "2021-12-06T12:18:29.657Z"
   },
   {
    "duration": 6,
    "start_time": "2021-12-06T12:18:29.664Z"
   },
   {
    "duration": 17,
    "start_time": "2021-12-06T12:18:29.706Z"
   },
   {
    "duration": 20,
    "start_time": "2021-12-06T12:18:29.724Z"
   },
   {
    "duration": 127,
    "start_time": "2021-12-06T12:22:43.877Z"
   }
  ],
  "kernelspec": {
   "display_name": "Python 3 (ipykernel)",
   "language": "python",
   "name": "python3"
  },
  "language_info": {
   "codemirror_mode": {
    "name": "ipython",
    "version": 3
   },
   "file_extension": ".py",
   "mimetype": "text/x-python",
   "name": "python",
   "nbconvert_exporter": "python",
   "pygments_lexer": "ipython3",
   "version": "3.9.5"
  },
  "toc": {
   "base_numbering": 1,
   "nav_menu": {},
   "number_sections": true,
   "sideBar": true,
   "skip_h1_title": true,
   "title_cell": "Table of Contents",
   "title_sidebar": "Contents",
   "toc_cell": true,
   "toc_position": {},
   "toc_section_display": true,
   "toc_window_display": true
  }
 },
 "nbformat": 4,
 "nbformat_minor": 5
}
