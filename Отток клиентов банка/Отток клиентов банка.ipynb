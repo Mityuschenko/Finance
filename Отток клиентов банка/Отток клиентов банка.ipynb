{
 "cells": [
  {
   "cell_type": "markdown",
   "metadata": {
    "toc": true
   },
   "source": [
    "<h1>Содержание<span class=\"tocSkip\"></span></h1>\n",
    "<div class=\"toc\"><ul class=\"toc-item\"><li><span><a href=\"#Подготовка-данных\" data-toc-modified-id=\"Подготовка-данных-1\"><span class=\"toc-item-num\">1&nbsp;&nbsp;</span>Подготовка данных</a></span><ul class=\"toc-item\"><li><span><a href=\"#Обработка-пропусков\" data-toc-modified-id=\"Обработка-пропусков-1.1\"><span class=\"toc-item-num\">1.1&nbsp;&nbsp;</span>Обработка пропусков</a></span></li><li><span><a href=\"#Преобразование-категориальных-признаков-в-численные\" data-toc-modified-id=\"Преобразование-категориальных-признаков-в-численные-1.2\"><span class=\"toc-item-num\">1.2&nbsp;&nbsp;</span>Преобразование категориальных признаков в численные</a></span></li><li><span><a href=\"#Разбивка-данных-на-выборки\" data-toc-modified-id=\"Разбивка-данных-на-выборки-1.3\"><span class=\"toc-item-num\">1.3&nbsp;&nbsp;</span>Разбивка данных на выборки</a></span><ul class=\"toc-item\"><li><span><a href=\"#Выделение-Признаков-и-Целевого-признак\" data-toc-modified-id=\"Выделение-Признаков-и-Целевого-признак-1.3.1\"><span class=\"toc-item-num\">1.3.1&nbsp;&nbsp;</span>Выделение Признаков и Целевого признак</a></span></li><li><span><a href=\"#Разбивка-данных-на-тренировочную-и-тестовую-выборки\" data-toc-modified-id=\"Разбивка-данных-на-тренировочную-и-тестовую-выборки-1.3.2\"><span class=\"toc-item-num\">1.3.2&nbsp;&nbsp;</span>Разбивка данных на тренировочную и тестовую выборки</a></span></li><li><span><a href=\"#Разбивка-тренировочной-выборки-на-обучающую-и-валидационную-выборки\" data-toc-modified-id=\"Разбивка-тренировочной-выборки-на-обучающую-и-валидационную-выборки-1.3.3\"><span class=\"toc-item-num\">1.3.3&nbsp;&nbsp;</span>Разбивка тренировочной выборки на обучающую и валидационную выборки</a></span></li></ul></li><li><span><a href=\"#Масштабирование-признаков\" data-toc-modified-id=\"Масштабирование-признаков-1.4\"><span class=\"toc-item-num\">1.4&nbsp;&nbsp;</span>Масштабирование признаков</a></span></li></ul></li><li><span><a href=\"#Исследование-задачи\" data-toc-modified-id=\"Исследование-задачи-2\"><span class=\"toc-item-num\">2&nbsp;&nbsp;</span>Исследование задачи</a></span><ul class=\"toc-item\"><li><span><a href=\"#Исследование-баланса-классов\" data-toc-modified-id=\"Исследование-баланса-классов-2.1\"><span class=\"toc-item-num\">2.1&nbsp;&nbsp;</span>Исследование баланса классов</a></span></li><li><span><a href=\"#Построение-моделей-без-учёта-дисбаланса\" data-toc-modified-id=\"Построение-моделей-без-учёта-дисбаланса-2.2\"><span class=\"toc-item-num\">2.2&nbsp;&nbsp;</span>Построение моделей без учёта дисбаланса</a></span><ul class=\"toc-item\"><li><span><a href=\"#Модель---Решающее-дерево\" data-toc-modified-id=\"Модель---Решающее-дерево-2.2.1\"><span class=\"toc-item-num\">2.2.1&nbsp;&nbsp;</span>Модель - Решающее дерево</a></span></li><li><span><a href=\"#Модель---Случайный-лес\" data-toc-modified-id=\"Модель---Случайный-лес-2.2.2\"><span class=\"toc-item-num\">2.2.2&nbsp;&nbsp;</span>Модель - Случайный лес</a></span></li><li><span><a href=\"#Модель---Логистическая-регрессия\" data-toc-modified-id=\"Модель---Логистическая-регрессия-2.2.3\"><span class=\"toc-item-num\">2.2.3&nbsp;&nbsp;</span>Модель - Логистическая регрессия</a></span></li></ul></li><li><span><a href=\"#Выводы-по-результатам-исследования\" data-toc-modified-id=\"Выводы-по-результатам-исследования-2.3\"><span class=\"toc-item-num\">2.3&nbsp;&nbsp;</span>Выводы по результатам исследования</a></span></li></ul></li><li><span><a href=\"#Борьба-с-дисбалансом\" data-toc-modified-id=\"Борьба-с-дисбалансом-3\"><span class=\"toc-item-num\">3&nbsp;&nbsp;</span>Борьба с дисбалансом</a></span><ul class=\"toc-item\"><li><span><a href=\"#Взвешивание-выборки\" data-toc-modified-id=\"Взвешивание-выборки-3.1\"><span class=\"toc-item-num\">3.1&nbsp;&nbsp;</span>Взвешивание выборки</a></span></li><li><span><a href=\"#Увеличение-выборки\" data-toc-modified-id=\"Увеличение-выборки-3.2\"><span class=\"toc-item-num\">3.2&nbsp;&nbsp;</span>Увеличение выборки</a></span></li><li><span><a href=\"#Уменьшение-выборки\" data-toc-modified-id=\"Уменьшение-выборки-3.3\"><span class=\"toc-item-num\">3.3&nbsp;&nbsp;</span>Уменьшение выборки</a></span></li><li><span><a href=\"#Выводы-по-результатам-исследования\" data-toc-modified-id=\"Выводы-по-результатам-исследования-3.4\"><span class=\"toc-item-num\">3.4&nbsp;&nbsp;</span>Выводы по результатам исследования</a></span></li></ul></li><li><span><a href=\"#Тестирование-модели\" data-toc-modified-id=\"Тестирование-модели-4\"><span class=\"toc-item-num\">4&nbsp;&nbsp;</span>Тестирование модели</a></span><ul class=\"toc-item\"><li><span><a href=\"#Метрика-F1-мера\" data-toc-modified-id=\"Метрика-F1-мера-4.1\"><span class=\"toc-item-num\">4.1&nbsp;&nbsp;</span>Метрика F1-мера</a></span></li><li><span><a href=\"#Метрика-AUC-ROC\" data-toc-modified-id=\"Метрика-AUC-ROC-4.2\"><span class=\"toc-item-num\">4.2&nbsp;&nbsp;</span>Метрика AUC-ROC</a></span></li><li><span><a href=\"#Выводы-по-результатам-тестирования\" data-toc-modified-id=\"Выводы-по-результатам-тестирования-4.3\"><span class=\"toc-item-num\">4.3&nbsp;&nbsp;</span>Выводы по результатам тестирования</a></span></li></ul></li></ul></div>"
   ]
  },
  {
   "cell_type": "markdown",
   "metadata": {},
   "source": [
    "# Отток клиентов"
   ]
  },
  {
   "cell_type": "markdown",
   "metadata": {},
   "source": [
    "Из «Бета-Банка» стали уходить клиенты. Каждый месяц. Немного, но заметно. Банковские маркетологи посчитали: сохранять текущих клиентов дешевле, чем привлекать новых.\n",
    "\n",
    "Нужно спрогнозировать, уйдёт клиент из банка в ближайшее время или нет. Вам предоставлены исторические данные о поведении клиентов и расторжении договоров с банком. \n",
    "\n",
    "Постройте модель с предельно большим значением *F1*-меры. Чтобы сдать проект успешно, нужно довести метрику до 0.59. Проверьте *F1*-меру на тестовой выборке самостоятельно.\n",
    "\n",
    "Дополнительно измеряйте *AUC-ROC*, сравнивайте её значение с *F1*-мерой."
   ]
  },
  {
   "cell_type": "markdown",
   "metadata": {},
   "source": [
    "# Описание данных"
   ]
  },
  {
   "cell_type": "markdown",
   "metadata": {},
   "source": [
    "Признаки\n",
    "1. RowNumber — индекс строки в данных\n",
    "2. CustomerId — уникальный идентификатор клиента\n",
    "3. Surname — фамилия\n",
    "4. CreditScore — кредитный рейтинг\n",
    "5. Geography — страна проживания\n",
    "6. Gender — пол\n",
    "7. Age — возраст\n",
    "8. Tenure — сколько лет человек является клиентом банка\n",
    "9. Balance — баланс на счёте\n",
    "10. NumOfProducts — количество продуктов банка, используемых клиентом\n",
    "11. HasCrCard — наличие кредитной карты\n",
    "12. IsActiveMember — активность клиента\n",
    "13. EstimatedSalary — предполагаемая зарплата\n",
    "\n",
    "Целевой признак\n",
    "\n",
    "14. Exited — факт ухода клиента"
   ]
  },
  {
   "cell_type": "markdown",
   "metadata": {},
   "source": [
    "## Подготовка данных"
   ]
  },
  {
   "cell_type": "code",
   "execution_count": 1,
   "metadata": {},
   "outputs": [],
   "source": [
    "import pandas as pd\n",
    "import numpy as np\n",
    "import matplotlib.pyplot as plt\n",
    "\n",
    "from sklearn.preprocessing import StandardScaler\n",
    "from sklearn.tree import DecisionTreeClassifier\n",
    "from sklearn.ensemble import RandomForestClassifier\n",
    "from sklearn.linear_model import LogisticRegression\n",
    "from sklearn.model_selection import train_test_split\n",
    "from sklearn.metrics import f1_score\n",
    "from sklearn.utils import shuffle\n",
    "from sklearn.metrics import roc_auc_score\n",
    "from sklearn.metrics import roc_curve\n",
    "\n"
   ]
  },
  {
   "cell_type": "code",
   "execution_count": 2,
   "metadata": {
    "scrolled": false
   },
   "outputs": [
    {
     "data": {
      "text/html": [
       "<div>\n",
       "<style scoped>\n",
       "    .dataframe tbody tr th:only-of-type {\n",
       "        vertical-align: middle;\n",
       "    }\n",
       "\n",
       "    .dataframe tbody tr th {\n",
       "        vertical-align: top;\n",
       "    }\n",
       "\n",
       "    .dataframe thead th {\n",
       "        text-align: right;\n",
       "    }\n",
       "</style>\n",
       "<table border=\"1\" class=\"dataframe\">\n",
       "  <thead>\n",
       "    <tr style=\"text-align: right;\">\n",
       "      <th></th>\n",
       "      <th>RowNumber</th>\n",
       "      <th>CustomerId</th>\n",
       "      <th>Surname</th>\n",
       "      <th>CreditScore</th>\n",
       "      <th>Geography</th>\n",
       "      <th>Gender</th>\n",
       "      <th>Age</th>\n",
       "      <th>Tenure</th>\n",
       "      <th>Balance</th>\n",
       "      <th>NumOfProducts</th>\n",
       "      <th>HasCrCard</th>\n",
       "      <th>IsActiveMember</th>\n",
       "      <th>EstimatedSalary</th>\n",
       "      <th>Exited</th>\n",
       "    </tr>\n",
       "  </thead>\n",
       "  <tbody>\n",
       "    <tr>\n",
       "      <td>0</td>\n",
       "      <td>1</td>\n",
       "      <td>15634602</td>\n",
       "      <td>Hargrave</td>\n",
       "      <td>619</td>\n",
       "      <td>France</td>\n",
       "      <td>Female</td>\n",
       "      <td>42</td>\n",
       "      <td>2.0</td>\n",
       "      <td>0.00</td>\n",
       "      <td>1</td>\n",
       "      <td>1</td>\n",
       "      <td>1</td>\n",
       "      <td>101348.88</td>\n",
       "      <td>1</td>\n",
       "    </tr>\n",
       "    <tr>\n",
       "      <td>1</td>\n",
       "      <td>2</td>\n",
       "      <td>15647311</td>\n",
       "      <td>Hill</td>\n",
       "      <td>608</td>\n",
       "      <td>Spain</td>\n",
       "      <td>Female</td>\n",
       "      <td>41</td>\n",
       "      <td>1.0</td>\n",
       "      <td>83807.86</td>\n",
       "      <td>1</td>\n",
       "      <td>0</td>\n",
       "      <td>1</td>\n",
       "      <td>112542.58</td>\n",
       "      <td>0</td>\n",
       "    </tr>\n",
       "    <tr>\n",
       "      <td>2</td>\n",
       "      <td>3</td>\n",
       "      <td>15619304</td>\n",
       "      <td>Onio</td>\n",
       "      <td>502</td>\n",
       "      <td>France</td>\n",
       "      <td>Female</td>\n",
       "      <td>42</td>\n",
       "      <td>8.0</td>\n",
       "      <td>159660.80</td>\n",
       "      <td>3</td>\n",
       "      <td>1</td>\n",
       "      <td>0</td>\n",
       "      <td>113931.57</td>\n",
       "      <td>1</td>\n",
       "    </tr>\n",
       "    <tr>\n",
       "      <td>3</td>\n",
       "      <td>4</td>\n",
       "      <td>15701354</td>\n",
       "      <td>Boni</td>\n",
       "      <td>699</td>\n",
       "      <td>France</td>\n",
       "      <td>Female</td>\n",
       "      <td>39</td>\n",
       "      <td>1.0</td>\n",
       "      <td>0.00</td>\n",
       "      <td>2</td>\n",
       "      <td>0</td>\n",
       "      <td>0</td>\n",
       "      <td>93826.63</td>\n",
       "      <td>0</td>\n",
       "    </tr>\n",
       "    <tr>\n",
       "      <td>4</td>\n",
       "      <td>5</td>\n",
       "      <td>15737888</td>\n",
       "      <td>Mitchell</td>\n",
       "      <td>850</td>\n",
       "      <td>Spain</td>\n",
       "      <td>Female</td>\n",
       "      <td>43</td>\n",
       "      <td>2.0</td>\n",
       "      <td>125510.82</td>\n",
       "      <td>1</td>\n",
       "      <td>1</td>\n",
       "      <td>1</td>\n",
       "      <td>79084.10</td>\n",
       "      <td>0</td>\n",
       "    </tr>\n",
       "    <tr>\n",
       "      <td>...</td>\n",
       "      <td>...</td>\n",
       "      <td>...</td>\n",
       "      <td>...</td>\n",
       "      <td>...</td>\n",
       "      <td>...</td>\n",
       "      <td>...</td>\n",
       "      <td>...</td>\n",
       "      <td>...</td>\n",
       "      <td>...</td>\n",
       "      <td>...</td>\n",
       "      <td>...</td>\n",
       "      <td>...</td>\n",
       "      <td>...</td>\n",
       "      <td>...</td>\n",
       "    </tr>\n",
       "    <tr>\n",
       "      <td>9995</td>\n",
       "      <td>9996</td>\n",
       "      <td>15606229</td>\n",
       "      <td>Obijiaku</td>\n",
       "      <td>771</td>\n",
       "      <td>France</td>\n",
       "      <td>Male</td>\n",
       "      <td>39</td>\n",
       "      <td>5.0</td>\n",
       "      <td>0.00</td>\n",
       "      <td>2</td>\n",
       "      <td>1</td>\n",
       "      <td>0</td>\n",
       "      <td>96270.64</td>\n",
       "      <td>0</td>\n",
       "    </tr>\n",
       "    <tr>\n",
       "      <td>9996</td>\n",
       "      <td>9997</td>\n",
       "      <td>15569892</td>\n",
       "      <td>Johnstone</td>\n",
       "      <td>516</td>\n",
       "      <td>France</td>\n",
       "      <td>Male</td>\n",
       "      <td>35</td>\n",
       "      <td>10.0</td>\n",
       "      <td>57369.61</td>\n",
       "      <td>1</td>\n",
       "      <td>1</td>\n",
       "      <td>1</td>\n",
       "      <td>101699.77</td>\n",
       "      <td>0</td>\n",
       "    </tr>\n",
       "    <tr>\n",
       "      <td>9997</td>\n",
       "      <td>9998</td>\n",
       "      <td>15584532</td>\n",
       "      <td>Liu</td>\n",
       "      <td>709</td>\n",
       "      <td>France</td>\n",
       "      <td>Female</td>\n",
       "      <td>36</td>\n",
       "      <td>7.0</td>\n",
       "      <td>0.00</td>\n",
       "      <td>1</td>\n",
       "      <td>0</td>\n",
       "      <td>1</td>\n",
       "      <td>42085.58</td>\n",
       "      <td>1</td>\n",
       "    </tr>\n",
       "    <tr>\n",
       "      <td>9998</td>\n",
       "      <td>9999</td>\n",
       "      <td>15682355</td>\n",
       "      <td>Sabbatini</td>\n",
       "      <td>772</td>\n",
       "      <td>Germany</td>\n",
       "      <td>Male</td>\n",
       "      <td>42</td>\n",
       "      <td>3.0</td>\n",
       "      <td>75075.31</td>\n",
       "      <td>2</td>\n",
       "      <td>1</td>\n",
       "      <td>0</td>\n",
       "      <td>92888.52</td>\n",
       "      <td>1</td>\n",
       "    </tr>\n",
       "    <tr>\n",
       "      <td>9999</td>\n",
       "      <td>10000</td>\n",
       "      <td>15628319</td>\n",
       "      <td>Walker</td>\n",
       "      <td>792</td>\n",
       "      <td>France</td>\n",
       "      <td>Female</td>\n",
       "      <td>28</td>\n",
       "      <td>NaN</td>\n",
       "      <td>130142.79</td>\n",
       "      <td>1</td>\n",
       "      <td>1</td>\n",
       "      <td>0</td>\n",
       "      <td>38190.78</td>\n",
       "      <td>0</td>\n",
       "    </tr>\n",
       "  </tbody>\n",
       "</table>\n",
       "<p>10000 rows × 14 columns</p>\n",
       "</div>"
      ],
      "text/plain": [
       "      RowNumber  CustomerId    Surname  CreditScore Geography  Gender  Age  \\\n",
       "0             1    15634602   Hargrave          619    France  Female   42   \n",
       "1             2    15647311       Hill          608     Spain  Female   41   \n",
       "2             3    15619304       Onio          502    France  Female   42   \n",
       "3             4    15701354       Boni          699    France  Female   39   \n",
       "4             5    15737888   Mitchell          850     Spain  Female   43   \n",
       "...         ...         ...        ...          ...       ...     ...  ...   \n",
       "9995       9996    15606229   Obijiaku          771    France    Male   39   \n",
       "9996       9997    15569892  Johnstone          516    France    Male   35   \n",
       "9997       9998    15584532        Liu          709    France  Female   36   \n",
       "9998       9999    15682355  Sabbatini          772   Germany    Male   42   \n",
       "9999      10000    15628319     Walker          792    France  Female   28   \n",
       "\n",
       "      Tenure    Balance  NumOfProducts  HasCrCard  IsActiveMember  \\\n",
       "0        2.0       0.00              1          1               1   \n",
       "1        1.0   83807.86              1          0               1   \n",
       "2        8.0  159660.80              3          1               0   \n",
       "3        1.0       0.00              2          0               0   \n",
       "4        2.0  125510.82              1          1               1   \n",
       "...      ...        ...            ...        ...             ...   \n",
       "9995     5.0       0.00              2          1               0   \n",
       "9996    10.0   57369.61              1          1               1   \n",
       "9997     7.0       0.00              1          0               1   \n",
       "9998     3.0   75075.31              2          1               0   \n",
       "9999     NaN  130142.79              1          1               0   \n",
       "\n",
       "      EstimatedSalary  Exited  \n",
       "0           101348.88       1  \n",
       "1           112542.58       0  \n",
       "2           113931.57       1  \n",
       "3            93826.63       0  \n",
       "4            79084.10       0  \n",
       "...               ...     ...  \n",
       "9995         96270.64       0  \n",
       "9996        101699.77       0  \n",
       "9997         42085.58       1  \n",
       "9998         92888.52       1  \n",
       "9999         38190.78       0  \n",
       "\n",
       "[10000 rows x 14 columns]"
      ]
     },
     "metadata": {},
     "output_type": "display_data"
    },
    {
     "name": "stdout",
     "output_type": "stream",
     "text": [
      "<class 'pandas.core.frame.DataFrame'>\n",
      "RangeIndex: 10000 entries, 0 to 9999\n",
      "Data columns (total 14 columns):\n",
      "RowNumber          10000 non-null int64\n",
      "CustomerId         10000 non-null int64\n",
      "Surname            10000 non-null object\n",
      "CreditScore        10000 non-null int64\n",
      "Geography          10000 non-null object\n",
      "Gender             10000 non-null object\n",
      "Age                10000 non-null int64\n",
      "Tenure             9091 non-null float64\n",
      "Balance            10000 non-null float64\n",
      "NumOfProducts      10000 non-null int64\n",
      "HasCrCard          10000 non-null int64\n",
      "IsActiveMember     10000 non-null int64\n",
      "EstimatedSalary    10000 non-null float64\n",
      "Exited             10000 non-null int64\n",
      "dtypes: float64(3), int64(8), object(3)\n",
      "memory usage: 1.1+ MB\n"
     ]
    }
   ],
   "source": [
    "df_churn = pd.read_csv('/datasets/Churn.csv')\n",
    "display(df_churn)\n",
    "df_churn.info()"
   ]
  },
  {
   "cell_type": "markdown",
   "metadata": {},
   "source": [
    "### Обработка пропусков"
   ]
  },
  {
   "cell_type": "code",
   "execution_count": 3,
   "metadata": {},
   "outputs": [
    {
     "data": {
      "text/plain": [
       "RowNumber            0\n",
       "CustomerId           0\n",
       "Surname              0\n",
       "CreditScore          0\n",
       "Geography            0\n",
       "Gender               0\n",
       "Age                  0\n",
       "Tenure             909\n",
       "Balance              0\n",
       "NumOfProducts        0\n",
       "HasCrCard            0\n",
       "IsActiveMember       0\n",
       "EstimatedSalary      0\n",
       "Exited               0\n",
       "dtype: int64"
      ]
     },
     "execution_count": 3,
     "metadata": {},
     "output_type": "execute_result"
    }
   ],
   "source": [
    "df_churn.isna().sum()"
   ]
  },
  {
   "cell_type": "markdown",
   "metadata": {},
   "source": [
    "**Определим диапазон - \"сколько лет человек является клиентом банка\"**"
   ]
  },
  {
   "cell_type": "code",
   "execution_count": 4,
   "metadata": {},
   "outputs": [
    {
     "data": {
      "text/plain": [
       "1.0     952\n",
       "2.0     950\n",
       "8.0     933\n",
       "3.0     928\n",
       "5.0     927\n",
       "7.0     925\n",
       "4.0     885\n",
       "9.0     882\n",
       "6.0     881\n",
       "10.0    446\n",
       "0.0     382\n",
       "Name: Tenure, dtype: int64"
      ]
     },
     "execution_count": 4,
     "metadata": {},
     "output_type": "execute_result"
    }
   ],
   "source": [
    "df_churn['Tenure'].value_counts()"
   ]
  },
  {
   "cell_type": "markdown",
   "metadata": {},
   "source": [
    "Количество лет, в течение, которых человек является клиентом банка принимает значения  от 0 до 10 лет.\n",
    "\n",
    "Для сохранения баланса в распределении значений параметра `Tenure` заполним пропуски числами из диапазона от 0 до 10 включительно."
   ]
  },
  {
   "cell_type": "code",
   "execution_count": 5,
   "metadata": {},
   "outputs": [],
   "source": [
    "df_churn['Tenure'] = df_churn['Tenure'].fillna(pd.Series(np.random.randint(0, 11, 10000)))"
   ]
  },
  {
   "cell_type": "code",
   "execution_count": 6,
   "metadata": {},
   "outputs": [
    {
     "data": {
      "text/plain": [
       "RowNumber          0\n",
       "CustomerId         0\n",
       "Surname            0\n",
       "CreditScore        0\n",
       "Geography          0\n",
       "Gender             0\n",
       "Age                0\n",
       "Tenure             0\n",
       "Balance            0\n",
       "NumOfProducts      0\n",
       "HasCrCard          0\n",
       "IsActiveMember     0\n",
       "EstimatedSalary    0\n",
       "Exited             0\n",
       "dtype: int64"
      ]
     },
     "execution_count": 6,
     "metadata": {},
     "output_type": "execute_result"
    }
   ],
   "source": [
    "df_churn.isna().sum()"
   ]
  },
  {
   "cell_type": "markdown",
   "metadata": {},
   "source": [
    "### Преобразование категориальных признаков в численные"
   ]
  },
  {
   "cell_type": "markdown",
   "metadata": {},
   "source": [
    "Дадим таблице с преобразованными категориальными признаками имя `df_churn_ohe` и уберём из неё признак `Surname`, т.к. фамилия мало влияет на отказ от услуг данного банка, если конечно это не согласованный исход большого семейного клана."
   ]
  },
  {
   "cell_type": "code",
   "execution_count": 7,
   "metadata": {},
   "outputs": [],
   "source": [
    "df_churn_ohe = df_churn.drop('Surname', axis=1)"
   ]
  },
  {
   "cell_type": "code",
   "execution_count": 8,
   "metadata": {
    "scrolled": false
   },
   "outputs": [
    {
     "name": "stdout",
     "output_type": "stream",
     "text": [
      "<class 'pandas.core.frame.DataFrame'>\n",
      "RangeIndex: 10000 entries, 0 to 9999\n",
      "Data columns (total 14 columns):\n",
      "RowNumber            10000 non-null int64\n",
      "CustomerId           10000 non-null int64\n",
      "CreditScore          10000 non-null int64\n",
      "Age                  10000 non-null int64\n",
      "Tenure               10000 non-null float64\n",
      "Balance              10000 non-null float64\n",
      "NumOfProducts        10000 non-null int64\n",
      "HasCrCard            10000 non-null int64\n",
      "IsActiveMember       10000 non-null int64\n",
      "EstimatedSalary      10000 non-null float64\n",
      "Exited               10000 non-null int64\n",
      "Geography_Germany    10000 non-null uint8\n",
      "Geography_Spain      10000 non-null uint8\n",
      "Gender_Male          10000 non-null uint8\n",
      "dtypes: float64(3), int64(8), uint8(3)\n",
      "memory usage: 888.8 KB\n"
     ]
    }
   ],
   "source": [
    "df_churn_ohe = pd.get_dummies(df_churn_ohe, drop_first=True)\n",
    "df_churn_ohe.info()"
   ]
  },
  {
   "cell_type": "markdown",
   "metadata": {},
   "source": [
    "### Разбивка данных на выборки"
   ]
  },
  {
   "cell_type": "markdown",
   "metadata": {},
   "source": [
    "#### Выделение Признаков и Целевого признак"
   ]
  },
  {
   "cell_type": "markdown",
   "metadata": {},
   "source": [
    "Признаки `RowNumber` и  `CustomerId` для данного исследования интереса не представляют, т.к. являются служебной информацией, изночально уникальной для каждого клиента, поэтому эти столбцы исключим из данных для создания и тестирования модели."
   ]
  },
  {
   "cell_type": "code",
   "execution_count": 9,
   "metadata": {},
   "outputs": [],
   "source": [
    "features = df_churn_ohe.drop(['Exited','RowNumber','CustomerId'], axis=1)\n",
    "target = df_churn_ohe['Exited']"
   ]
  },
  {
   "cell_type": "markdown",
   "metadata": {},
   "source": [
    "#### Разбивка данных на тренировочную и тестовую выборки"
   ]
  },
  {
   "cell_type": "code",
   "execution_count": 10,
   "metadata": {},
   "outputs": [],
   "source": [
    "features_train, features_test, target_train, target_test = train_test_split(\n",
    "    features, target, test_size=0.2, random_state=12091977)"
   ]
  },
  {
   "cell_type": "code",
   "execution_count": 11,
   "metadata": {
    "scrolled": false
   },
   "outputs": [
    {
     "data": {
      "text/html": [
       "<div>\n",
       "<style scoped>\n",
       "    .dataframe tbody tr th:only-of-type {\n",
       "        vertical-align: middle;\n",
       "    }\n",
       "\n",
       "    .dataframe tbody tr th {\n",
       "        vertical-align: top;\n",
       "    }\n",
       "\n",
       "    .dataframe thead th {\n",
       "        text-align: right;\n",
       "    }\n",
       "</style>\n",
       "<table border=\"1\" class=\"dataframe\">\n",
       "  <thead>\n",
       "    <tr style=\"text-align: right;\">\n",
       "      <th></th>\n",
       "      <th>CreditScore</th>\n",
       "      <th>Age</th>\n",
       "      <th>Tenure</th>\n",
       "      <th>Balance</th>\n",
       "      <th>NumOfProducts</th>\n",
       "      <th>HasCrCard</th>\n",
       "      <th>IsActiveMember</th>\n",
       "      <th>EstimatedSalary</th>\n",
       "      <th>Geography_Germany</th>\n",
       "      <th>Geography_Spain</th>\n",
       "      <th>Gender_Male</th>\n",
       "    </tr>\n",
       "  </thead>\n",
       "  <tbody>\n",
       "    <tr>\n",
       "      <td>7075</td>\n",
       "      <td>778</td>\n",
       "      <td>34</td>\n",
       "      <td>2.0</td>\n",
       "      <td>109564.10</td>\n",
       "      <td>1</td>\n",
       "      <td>0</td>\n",
       "      <td>1</td>\n",
       "      <td>113046.81</td>\n",
       "      <td>0</td>\n",
       "      <td>0</td>\n",
       "      <td>0</td>\n",
       "    </tr>\n",
       "    <tr>\n",
       "      <td>5661</td>\n",
       "      <td>472</td>\n",
       "      <td>26</td>\n",
       "      <td>5.0</td>\n",
       "      <td>0.00</td>\n",
       "      <td>2</td>\n",
       "      <td>1</td>\n",
       "      <td>0</td>\n",
       "      <td>108411.66</td>\n",
       "      <td>0</td>\n",
       "      <td>0</td>\n",
       "      <td>0</td>\n",
       "    </tr>\n",
       "    <tr>\n",
       "      <td>3329</td>\n",
       "      <td>850</td>\n",
       "      <td>43</td>\n",
       "      <td>3.0</td>\n",
       "      <td>0.00</td>\n",
       "      <td>2</td>\n",
       "      <td>0</td>\n",
       "      <td>0</td>\n",
       "      <td>2465.80</td>\n",
       "      <td>0</td>\n",
       "      <td>0</td>\n",
       "      <td>0</td>\n",
       "    </tr>\n",
       "    <tr>\n",
       "      <td>1890</td>\n",
       "      <td>731</td>\n",
       "      <td>33</td>\n",
       "      <td>4.0</td>\n",
       "      <td>0.00</td>\n",
       "      <td>2</td>\n",
       "      <td>1</td>\n",
       "      <td>1</td>\n",
       "      <td>74945.11</td>\n",
       "      <td>0</td>\n",
       "      <td>0</td>\n",
       "      <td>1</td>\n",
       "    </tr>\n",
       "    <tr>\n",
       "      <td>5961</td>\n",
       "      <td>796</td>\n",
       "      <td>32</td>\n",
       "      <td>8.0</td>\n",
       "      <td>102773.15</td>\n",
       "      <td>2</td>\n",
       "      <td>0</td>\n",
       "      <td>1</td>\n",
       "      <td>117832.88</td>\n",
       "      <td>0</td>\n",
       "      <td>1</td>\n",
       "      <td>1</td>\n",
       "    </tr>\n",
       "    <tr>\n",
       "      <td>...</td>\n",
       "      <td>...</td>\n",
       "      <td>...</td>\n",
       "      <td>...</td>\n",
       "      <td>...</td>\n",
       "      <td>...</td>\n",
       "      <td>...</td>\n",
       "      <td>...</td>\n",
       "      <td>...</td>\n",
       "      <td>...</td>\n",
       "      <td>...</td>\n",
       "      <td>...</td>\n",
       "    </tr>\n",
       "    <tr>\n",
       "      <td>6674</td>\n",
       "      <td>654</td>\n",
       "      <td>36</td>\n",
       "      <td>2.0</td>\n",
       "      <td>112262.84</td>\n",
       "      <td>1</td>\n",
       "      <td>1</td>\n",
       "      <td>0</td>\n",
       "      <td>12873.39</td>\n",
       "      <td>0</td>\n",
       "      <td>0</td>\n",
       "      <td>1</td>\n",
       "    </tr>\n",
       "    <tr>\n",
       "      <td>1958</td>\n",
       "      <td>645</td>\n",
       "      <td>42</td>\n",
       "      <td>6.0</td>\n",
       "      <td>0.00</td>\n",
       "      <td>1</td>\n",
       "      <td>0</td>\n",
       "      <td>0</td>\n",
       "      <td>149807.01</td>\n",
       "      <td>0</td>\n",
       "      <td>0</td>\n",
       "      <td>1</td>\n",
       "    </tr>\n",
       "    <tr>\n",
       "      <td>29</td>\n",
       "      <td>411</td>\n",
       "      <td>29</td>\n",
       "      <td>0.0</td>\n",
       "      <td>59697.17</td>\n",
       "      <td>2</td>\n",
       "      <td>1</td>\n",
       "      <td>1</td>\n",
       "      <td>53483.21</td>\n",
       "      <td>0</td>\n",
       "      <td>0</td>\n",
       "      <td>1</td>\n",
       "    </tr>\n",
       "    <tr>\n",
       "      <td>7505</td>\n",
       "      <td>659</td>\n",
       "      <td>27</td>\n",
       "      <td>4.0</td>\n",
       "      <td>0.00</td>\n",
       "      <td>2</td>\n",
       "      <td>1</td>\n",
       "      <td>0</td>\n",
       "      <td>99341.87</td>\n",
       "      <td>0</td>\n",
       "      <td>1</td>\n",
       "      <td>1</td>\n",
       "    </tr>\n",
       "    <tr>\n",
       "      <td>9046</td>\n",
       "      <td>630</td>\n",
       "      <td>23</td>\n",
       "      <td>4.0</td>\n",
       "      <td>137964.51</td>\n",
       "      <td>1</td>\n",
       "      <td>0</td>\n",
       "      <td>1</td>\n",
       "      <td>174570.55</td>\n",
       "      <td>1</td>\n",
       "      <td>0</td>\n",
       "      <td>0</td>\n",
       "    </tr>\n",
       "  </tbody>\n",
       "</table>\n",
       "<p>2000 rows × 11 columns</p>\n",
       "</div>"
      ],
      "text/plain": [
       "      CreditScore  Age  Tenure    Balance  NumOfProducts  HasCrCard  \\\n",
       "7075          778   34     2.0  109564.10              1          0   \n",
       "5661          472   26     5.0       0.00              2          1   \n",
       "3329          850   43     3.0       0.00              2          0   \n",
       "1890          731   33     4.0       0.00              2          1   \n",
       "5961          796   32     8.0  102773.15              2          0   \n",
       "...           ...  ...     ...        ...            ...        ...   \n",
       "6674          654   36     2.0  112262.84              1          1   \n",
       "1958          645   42     6.0       0.00              1          0   \n",
       "29            411   29     0.0   59697.17              2          1   \n",
       "7505          659   27     4.0       0.00              2          1   \n",
       "9046          630   23     4.0  137964.51              1          0   \n",
       "\n",
       "      IsActiveMember  EstimatedSalary  Geography_Germany  Geography_Spain  \\\n",
       "7075               1        113046.81                  0                0   \n",
       "5661               0        108411.66                  0                0   \n",
       "3329               0          2465.80                  0                0   \n",
       "1890               1         74945.11                  0                0   \n",
       "5961               1        117832.88                  0                1   \n",
       "...              ...              ...                ...              ...   \n",
       "6674               0         12873.39                  0                0   \n",
       "1958               0        149807.01                  0                0   \n",
       "29                 1         53483.21                  0                0   \n",
       "7505               0         99341.87                  0                1   \n",
       "9046               1        174570.55                  1                0   \n",
       "\n",
       "      Gender_Male  \n",
       "7075            0  \n",
       "5661            0  \n",
       "3329            0  \n",
       "1890            1  \n",
       "5961            1  \n",
       "...           ...  \n",
       "6674            1  \n",
       "1958            1  \n",
       "29              1  \n",
       "7505            1  \n",
       "9046            0  \n",
       "\n",
       "[2000 rows x 11 columns]"
      ]
     },
     "execution_count": 11,
     "metadata": {},
     "output_type": "execute_result"
    }
   ],
   "source": [
    "features_test"
   ]
  },
  {
   "cell_type": "markdown",
   "metadata": {},
   "source": [
    "#### Разбивка тренировочной выборки на обучающую и валидационную выборки"
   ]
  },
  {
   "cell_type": "code",
   "execution_count": 12,
   "metadata": {},
   "outputs": [],
   "source": [
    "features_train, features_valid, target_train, target_valid = train_test_split(\n",
    "    features_train, target_train, test_size=0.25, random_state=12091977)"
   ]
  },
  {
   "cell_type": "code",
   "execution_count": 13,
   "metadata": {},
   "outputs": [
    {
     "data": {
      "text/html": [
       "<div>\n",
       "<style scoped>\n",
       "    .dataframe tbody tr th:only-of-type {\n",
       "        vertical-align: middle;\n",
       "    }\n",
       "\n",
       "    .dataframe tbody tr th {\n",
       "        vertical-align: top;\n",
       "    }\n",
       "\n",
       "    .dataframe thead th {\n",
       "        text-align: right;\n",
       "    }\n",
       "</style>\n",
       "<table border=\"1\" class=\"dataframe\">\n",
       "  <thead>\n",
       "    <tr style=\"text-align: right;\">\n",
       "      <th></th>\n",
       "      <th>CreditScore</th>\n",
       "      <th>Age</th>\n",
       "      <th>Tenure</th>\n",
       "      <th>Balance</th>\n",
       "      <th>NumOfProducts</th>\n",
       "      <th>HasCrCard</th>\n",
       "      <th>IsActiveMember</th>\n",
       "      <th>EstimatedSalary</th>\n",
       "      <th>Geography_Germany</th>\n",
       "      <th>Geography_Spain</th>\n",
       "      <th>Gender_Male</th>\n",
       "    </tr>\n",
       "  </thead>\n",
       "  <tbody>\n",
       "    <tr>\n",
       "      <td>1698</td>\n",
       "      <td>485</td>\n",
       "      <td>51</td>\n",
       "      <td>7.0</td>\n",
       "      <td>144244.59</td>\n",
       "      <td>2</td>\n",
       "      <td>1</td>\n",
       "      <td>0</td>\n",
       "      <td>51113.14</td>\n",
       "      <td>1</td>\n",
       "      <td>0</td>\n",
       "      <td>1</td>\n",
       "    </tr>\n",
       "    <tr>\n",
       "      <td>8343</td>\n",
       "      <td>849</td>\n",
       "      <td>49</td>\n",
       "      <td>9.0</td>\n",
       "      <td>132934.89</td>\n",
       "      <td>1</td>\n",
       "      <td>1</td>\n",
       "      <td>0</td>\n",
       "      <td>171056.65</td>\n",
       "      <td>1</td>\n",
       "      <td>0</td>\n",
       "      <td>0</td>\n",
       "    </tr>\n",
       "    <tr>\n",
       "      <td>3015</td>\n",
       "      <td>674</td>\n",
       "      <td>43</td>\n",
       "      <td>8.0</td>\n",
       "      <td>85957.88</td>\n",
       "      <td>2</td>\n",
       "      <td>1</td>\n",
       "      <td>0</td>\n",
       "      <td>8757.39</td>\n",
       "      <td>1</td>\n",
       "      <td>0</td>\n",
       "      <td>1</td>\n",
       "    </tr>\n",
       "    <tr>\n",
       "      <td>2204</td>\n",
       "      <td>509</td>\n",
       "      <td>31</td>\n",
       "      <td>3.0</td>\n",
       "      <td>0.00</td>\n",
       "      <td>2</td>\n",
       "      <td>1</td>\n",
       "      <td>0</td>\n",
       "      <td>15360.91</td>\n",
       "      <td>0</td>\n",
       "      <td>0</td>\n",
       "      <td>1</td>\n",
       "    </tr>\n",
       "    <tr>\n",
       "      <td>5728</td>\n",
       "      <td>701</td>\n",
       "      <td>41</td>\n",
       "      <td>10.0</td>\n",
       "      <td>0.00</td>\n",
       "      <td>2</td>\n",
       "      <td>1</td>\n",
       "      <td>1</td>\n",
       "      <td>146257.77</td>\n",
       "      <td>0</td>\n",
       "      <td>0</td>\n",
       "      <td>1</td>\n",
       "    </tr>\n",
       "    <tr>\n",
       "      <td>...</td>\n",
       "      <td>...</td>\n",
       "      <td>...</td>\n",
       "      <td>...</td>\n",
       "      <td>...</td>\n",
       "      <td>...</td>\n",
       "      <td>...</td>\n",
       "      <td>...</td>\n",
       "      <td>...</td>\n",
       "      <td>...</td>\n",
       "      <td>...</td>\n",
       "      <td>...</td>\n",
       "    </tr>\n",
       "    <tr>\n",
       "      <td>5480</td>\n",
       "      <td>765</td>\n",
       "      <td>34</td>\n",
       "      <td>8.0</td>\n",
       "      <td>136729.51</td>\n",
       "      <td>2</td>\n",
       "      <td>0</td>\n",
       "      <td>0</td>\n",
       "      <td>47058.21</td>\n",
       "      <td>1</td>\n",
       "      <td>0</td>\n",
       "      <td>0</td>\n",
       "    </tr>\n",
       "    <tr>\n",
       "      <td>346</td>\n",
       "      <td>630</td>\n",
       "      <td>34</td>\n",
       "      <td>9.0</td>\n",
       "      <td>106937.05</td>\n",
       "      <td>2</td>\n",
       "      <td>1</td>\n",
       "      <td>0</td>\n",
       "      <td>138275.01</td>\n",
       "      <td>1</td>\n",
       "      <td>0</td>\n",
       "      <td>0</td>\n",
       "    </tr>\n",
       "    <tr>\n",
       "      <td>5922</td>\n",
       "      <td>555</td>\n",
       "      <td>44</td>\n",
       "      <td>3.0</td>\n",
       "      <td>105770.70</td>\n",
       "      <td>3</td>\n",
       "      <td>1</td>\n",
       "      <td>0</td>\n",
       "      <td>60533.96</td>\n",
       "      <td>0</td>\n",
       "      <td>0</td>\n",
       "      <td>0</td>\n",
       "    </tr>\n",
       "    <tr>\n",
       "      <td>2253</td>\n",
       "      <td>684</td>\n",
       "      <td>41</td>\n",
       "      <td>7.0</td>\n",
       "      <td>0.00</td>\n",
       "      <td>1</td>\n",
       "      <td>1</td>\n",
       "      <td>1</td>\n",
       "      <td>138394.37</td>\n",
       "      <td>0</td>\n",
       "      <td>1</td>\n",
       "      <td>0</td>\n",
       "    </tr>\n",
       "    <tr>\n",
       "      <td>1186</td>\n",
       "      <td>670</td>\n",
       "      <td>35</td>\n",
       "      <td>3.0</td>\n",
       "      <td>103465.02</td>\n",
       "      <td>2</td>\n",
       "      <td>1</td>\n",
       "      <td>1</td>\n",
       "      <td>174627.06</td>\n",
       "      <td>0</td>\n",
       "      <td>0</td>\n",
       "      <td>0</td>\n",
       "    </tr>\n",
       "  </tbody>\n",
       "</table>\n",
       "<p>2000 rows × 11 columns</p>\n",
       "</div>"
      ],
      "text/plain": [
       "      CreditScore  Age  Tenure    Balance  NumOfProducts  HasCrCard  \\\n",
       "1698          485   51     7.0  144244.59              2          1   \n",
       "8343          849   49     9.0  132934.89              1          1   \n",
       "3015          674   43     8.0   85957.88              2          1   \n",
       "2204          509   31     3.0       0.00              2          1   \n",
       "5728          701   41    10.0       0.00              2          1   \n",
       "...           ...  ...     ...        ...            ...        ...   \n",
       "5480          765   34     8.0  136729.51              2          0   \n",
       "346           630   34     9.0  106937.05              2          1   \n",
       "5922          555   44     3.0  105770.70              3          1   \n",
       "2253          684   41     7.0       0.00              1          1   \n",
       "1186          670   35     3.0  103465.02              2          1   \n",
       "\n",
       "      IsActiveMember  EstimatedSalary  Geography_Germany  Geography_Spain  \\\n",
       "1698               0         51113.14                  1                0   \n",
       "8343               0        171056.65                  1                0   \n",
       "3015               0          8757.39                  1                0   \n",
       "2204               0         15360.91                  0                0   \n",
       "5728               1        146257.77                  0                0   \n",
       "...              ...              ...                ...              ...   \n",
       "5480               0         47058.21                  1                0   \n",
       "346                0        138275.01                  1                0   \n",
       "5922               0         60533.96                  0                0   \n",
       "2253               1        138394.37                  0                1   \n",
       "1186               1        174627.06                  0                0   \n",
       "\n",
       "      Gender_Male  \n",
       "1698            1  \n",
       "8343            0  \n",
       "3015            1  \n",
       "2204            1  \n",
       "5728            1  \n",
       "...           ...  \n",
       "5480            0  \n",
       "346             0  \n",
       "5922            0  \n",
       "2253            0  \n",
       "1186            0  \n",
       "\n",
       "[2000 rows x 11 columns]"
      ]
     },
     "execution_count": 13,
     "metadata": {},
     "output_type": "execute_result"
    }
   ],
   "source": [
    "features_valid"
   ]
  },
  {
   "cell_type": "markdown",
   "metadata": {},
   "source": [
    "### Масштабирование признаков"
   ]
  },
  {
   "cell_type": "code",
   "execution_count": 14,
   "metadata": {},
   "outputs": [],
   "source": [
    "numeric = features_train.columns.drop(['Geography_Germany','Geography_Spain','Gender_Male'])\n",
    "\n",
    "pd.options.mode.chained_assignment = None\n",
    "scaler = StandardScaler()\n",
    "scaler.fit(features_train[numeric])\n",
    "features_train[numeric] = scaler.transform(features_train[numeric])\n",
    "features_valid[numeric] = scaler.transform(features_valid[numeric])\n",
    "features_test[numeric] = scaler.transform(features_test[numeric])"
   ]
  },
  {
   "cell_type": "code",
   "execution_count": 15,
   "metadata": {},
   "outputs": [
    {
     "data": {
      "text/html": [
       "<div>\n",
       "<style scoped>\n",
       "    .dataframe tbody tr th:only-of-type {\n",
       "        vertical-align: middle;\n",
       "    }\n",
       "\n",
       "    .dataframe tbody tr th {\n",
       "        vertical-align: top;\n",
       "    }\n",
       "\n",
       "    .dataframe thead th {\n",
       "        text-align: right;\n",
       "    }\n",
       "</style>\n",
       "<table border=\"1\" class=\"dataframe\">\n",
       "  <thead>\n",
       "    <tr style=\"text-align: right;\">\n",
       "      <th></th>\n",
       "      <th>CreditScore</th>\n",
       "      <th>Age</th>\n",
       "      <th>Tenure</th>\n",
       "      <th>Balance</th>\n",
       "      <th>NumOfProducts</th>\n",
       "      <th>HasCrCard</th>\n",
       "      <th>IsActiveMember</th>\n",
       "      <th>EstimatedSalary</th>\n",
       "      <th>Geography_Germany</th>\n",
       "      <th>Geography_Spain</th>\n",
       "      <th>Gender_Male</th>\n",
       "    </tr>\n",
       "  </thead>\n",
       "  <tbody>\n",
       "    <tr>\n",
       "      <td>4585</td>\n",
       "      <td>-0.498276</td>\n",
       "      <td>-0.851103</td>\n",
       "      <td>1.027789</td>\n",
       "      <td>-1.235369</td>\n",
       "      <td>0.821028</td>\n",
       "      <td>0.646610</td>\n",
       "      <td>0.974654</td>\n",
       "      <td>-0.910407</td>\n",
       "      <td>0</td>\n",
       "      <td>0</td>\n",
       "      <td>1</td>\n",
       "    </tr>\n",
       "    <tr>\n",
       "      <td>7432</td>\n",
       "      <td>0.748286</td>\n",
       "      <td>-0.755615</td>\n",
       "      <td>-1.028360</td>\n",
       "      <td>1.348976</td>\n",
       "      <td>0.821028</td>\n",
       "      <td>-1.546527</td>\n",
       "      <td>0.974654</td>\n",
       "      <td>-0.608776</td>\n",
       "      <td>1</td>\n",
       "      <td>0</td>\n",
       "      <td>1</td>\n",
       "    </tr>\n",
       "    <tr>\n",
       "      <td>7801</td>\n",
       "      <td>0.274386</td>\n",
       "      <td>1.440616</td>\n",
       "      <td>1.027789</td>\n",
       "      <td>0.833984</td>\n",
       "      <td>-0.896005</td>\n",
       "      <td>-1.546527</td>\n",
       "      <td>-1.026005</td>\n",
       "      <td>1.604684</td>\n",
       "      <td>0</td>\n",
       "      <td>0</td>\n",
       "      <td>1</td>\n",
       "    </tr>\n",
       "    <tr>\n",
       "      <td>2418</td>\n",
       "      <td>-0.384953</td>\n",
       "      <td>0.103780</td>\n",
       "      <td>0.342406</td>\n",
       "      <td>-1.235369</td>\n",
       "      <td>-0.896005</td>\n",
       "      <td>0.646610</td>\n",
       "      <td>0.974654</td>\n",
       "      <td>-1.384731</td>\n",
       "      <td>0</td>\n",
       "      <td>0</td>\n",
       "      <td>1</td>\n",
       "    </tr>\n",
       "    <tr>\n",
       "      <td>8055</td>\n",
       "      <td>0.058041</td>\n",
       "      <td>0.199268</td>\n",
       "      <td>1.027789</td>\n",
       "      <td>0.520762</td>\n",
       "      <td>-0.896005</td>\n",
       "      <td>0.646610</td>\n",
       "      <td>0.974654</td>\n",
       "      <td>-0.580308</td>\n",
       "      <td>0</td>\n",
       "      <td>1</td>\n",
       "      <td>1</td>\n",
       "    </tr>\n",
       "    <tr>\n",
       "      <td>...</td>\n",
       "      <td>...</td>\n",
       "      <td>...</td>\n",
       "      <td>...</td>\n",
       "      <td>...</td>\n",
       "      <td>...</td>\n",
       "      <td>...</td>\n",
       "      <td>...</td>\n",
       "      <td>...</td>\n",
       "      <td>...</td>\n",
       "      <td>...</td>\n",
       "      <td>...</td>\n",
       "    </tr>\n",
       "    <tr>\n",
       "      <td>9080</td>\n",
       "      <td>0.614358</td>\n",
       "      <td>4.018801</td>\n",
       "      <td>0.342406</td>\n",
       "      <td>-1.235369</td>\n",
       "      <td>0.821028</td>\n",
       "      <td>0.646610</td>\n",
       "      <td>0.974654</td>\n",
       "      <td>-0.478933</td>\n",
       "      <td>0</td>\n",
       "      <td>0</td>\n",
       "      <td>0</td>\n",
       "    </tr>\n",
       "    <tr>\n",
       "      <td>3981</td>\n",
       "      <td>-0.137701</td>\n",
       "      <td>-1.424033</td>\n",
       "      <td>-1.371052</td>\n",
       "      <td>-1.235369</td>\n",
       "      <td>0.821028</td>\n",
       "      <td>-1.546527</td>\n",
       "      <td>0.974654</td>\n",
       "      <td>1.096309</td>\n",
       "      <td>0</td>\n",
       "      <td>0</td>\n",
       "      <td>1</td>\n",
       "    </tr>\n",
       "    <tr>\n",
       "      <td>1182</td>\n",
       "      <td>0.222875</td>\n",
       "      <td>0.390245</td>\n",
       "      <td>-0.000286</td>\n",
       "      <td>1.462499</td>\n",
       "      <td>-0.896005</td>\n",
       "      <td>0.646610</td>\n",
       "      <td>0.974654</td>\n",
       "      <td>0.824152</td>\n",
       "      <td>0</td>\n",
       "      <td>0</td>\n",
       "      <td>0</td>\n",
       "    </tr>\n",
       "    <tr>\n",
       "      <td>4333</td>\n",
       "      <td>0.748286</td>\n",
       "      <td>-0.469150</td>\n",
       "      <td>0.342406</td>\n",
       "      <td>0.662559</td>\n",
       "      <td>0.821028</td>\n",
       "      <td>-1.546527</td>\n",
       "      <td>-1.026005</td>\n",
       "      <td>1.001086</td>\n",
       "      <td>1</td>\n",
       "      <td>0</td>\n",
       "      <td>1</td>\n",
       "    </tr>\n",
       "    <tr>\n",
       "      <td>5503</td>\n",
       "      <td>0.542243</td>\n",
       "      <td>-1.424033</td>\n",
       "      <td>1.713172</td>\n",
       "      <td>0.724746</td>\n",
       "      <td>-0.896005</td>\n",
       "      <td>0.646610</td>\n",
       "      <td>0.974654</td>\n",
       "      <td>0.486890</td>\n",
       "      <td>0</td>\n",
       "      <td>1</td>\n",
       "      <td>1</td>\n",
       "    </tr>\n",
       "  </tbody>\n",
       "</table>\n",
       "<p>6000 rows × 11 columns</p>\n",
       "</div>"
      ],
      "text/plain": [
       "      CreditScore       Age    Tenure   Balance  NumOfProducts  HasCrCard  \\\n",
       "4585    -0.498276 -0.851103  1.027789 -1.235369       0.821028   0.646610   \n",
       "7432     0.748286 -0.755615 -1.028360  1.348976       0.821028  -1.546527   \n",
       "7801     0.274386  1.440616  1.027789  0.833984      -0.896005  -1.546527   \n",
       "2418    -0.384953  0.103780  0.342406 -1.235369      -0.896005   0.646610   \n",
       "8055     0.058041  0.199268  1.027789  0.520762      -0.896005   0.646610   \n",
       "...           ...       ...       ...       ...            ...        ...   \n",
       "9080     0.614358  4.018801  0.342406 -1.235369       0.821028   0.646610   \n",
       "3981    -0.137701 -1.424033 -1.371052 -1.235369       0.821028  -1.546527   \n",
       "1182     0.222875  0.390245 -0.000286  1.462499      -0.896005   0.646610   \n",
       "4333     0.748286 -0.469150  0.342406  0.662559       0.821028  -1.546527   \n",
       "5503     0.542243 -1.424033  1.713172  0.724746      -0.896005   0.646610   \n",
       "\n",
       "      IsActiveMember  EstimatedSalary  Geography_Germany  Geography_Spain  \\\n",
       "4585        0.974654        -0.910407                  0                0   \n",
       "7432        0.974654        -0.608776                  1                0   \n",
       "7801       -1.026005         1.604684                  0                0   \n",
       "2418        0.974654        -1.384731                  0                0   \n",
       "8055        0.974654        -0.580308                  0                1   \n",
       "...              ...              ...                ...              ...   \n",
       "9080        0.974654        -0.478933                  0                0   \n",
       "3981        0.974654         1.096309                  0                0   \n",
       "1182        0.974654         0.824152                  0                0   \n",
       "4333       -1.026005         1.001086                  1                0   \n",
       "5503        0.974654         0.486890                  0                1   \n",
       "\n",
       "      Gender_Male  \n",
       "4585            1  \n",
       "7432            1  \n",
       "7801            1  \n",
       "2418            1  \n",
       "8055            1  \n",
       "...           ...  \n",
       "9080            0  \n",
       "3981            1  \n",
       "1182            0  \n",
       "4333            1  \n",
       "5503            1  \n",
       "\n",
       "[6000 rows x 11 columns]"
      ]
     },
     "execution_count": 15,
     "metadata": {},
     "output_type": "execute_result"
    }
   ],
   "source": [
    "features_train"
   ]
  },
  {
   "cell_type": "markdown",
   "metadata": {},
   "source": [
    "## Исследование задачи"
   ]
  },
  {
   "cell_type": "markdown",
   "metadata": {},
   "source": [
    "### Исследование баланса классов"
   ]
  },
  {
   "cell_type": "markdown",
   "metadata": {},
   "source": [
    "Для подсчёта классов в целевом признаке примените метод value_counts(). Сделаем частоты относительными (от 0 до 1)."
   ]
  },
  {
   "cell_type": "code",
   "execution_count": 16,
   "metadata": {},
   "outputs": [
    {
     "name": "stdout",
     "output_type": "stream",
     "text": [
      "0    0.7963\n",
      "1    0.2037\n",
      "Name: Exited, dtype: float64\n"
     ]
    },
    {
     "data": {
      "text/plain": [
       "<matplotlib.axes._subplots.AxesSubplot at 0x7f27390e03d0>"
      ]
     },
     "execution_count": 16,
     "metadata": {},
     "output_type": "execute_result"
    },
    {
     "data": {
      "image/png": "[encoded data removed]",
      "text/plain": [
       "<Figure size 432x288 with 1 Axes>"
      ]
     },
     "metadata": {
      "needs_background": "light"
     },
     "output_type": "display_data"
    }
   ],
   "source": [
    "class_frequency = target.value_counts(normalize=True)\n",
    "print(class_frequency)\n",
    "class_frequency.plot(kind='bar')"
   ]
  },
  {
   "cell_type": "markdown",
   "metadata": {},
   "source": [
    "### Построение моделей без учёта дисбаланса"
   ]
  },
  {
   "cell_type": "markdown",
   "metadata": {},
   "source": [
    "#### Модель - Решающее дерево"
   ]
  },
  {
   "cell_type": "code",
   "execution_count": 17,
   "metadata": {},
   "outputs": [
    {
     "name": "stdout",
     "output_type": "stream",
     "text": [
      "F1-мера наилучшей модели на валидационной выборке: 0.5804597701149424 Максимальная глубина: 7\n",
      "CPU times: user 138 ms, sys: 0 ns, total: 138 ms\n",
      "Wall time: 144 ms\n"
     ]
    },
    {
     "name": "stderr",
     "output_type": "stream",
     "text": [
      "/opt/conda/lib/python3.7/site-packages/sklearn/metrics/classification.py:1437: UndefinedMetricWarning: F-score is ill-defined and being set to 0.0 due to no predicted samples.\n",
      "  'precision', 'predicted', average, warn_for)\n"
     ]
    }
   ],
   "source": [
    "%%time\n",
    "\n",
    "best_model_dtc = None\n",
    "f1_dtc = 0\n",
    "m_depth = 0\n",
    "for i in range(1,11):\n",
    "    model_dtc = DecisionTreeClassifier(random_state=12091977, max_depth=i) # создание модели \n",
    "    model_dtc.fit(features_train, target_train)     # обучение модели на тренировочной выборке\n",
    "    predictions = model_dtc.predict(features_valid)   # определение целевого признака на валидационной выборке\n",
    "    f1 = f1_score(target_valid, predictions)   # определение качества модели на валидационной выборке\n",
    "    if f1 > f1_dtc:\n",
    "            best_model_dtc = model_dtc\n",
    "            f1_dtc = f1\n",
    "            m_depth = i\n",
    "            \n",
    "print(\"F1-мера наилучшей модели на валидационной выборке:\", f1_dtc, \n",
    "      \"Максимальная глубина:\", m_depth)"
   ]
  },
  {
   "cell_type": "markdown",
   "metadata": {},
   "source": [
    "#### Модель - Случайный лес"
   ]
  },
  {
   "cell_type": "code",
   "execution_count": 18,
   "metadata": {},
   "outputs": [
    {
     "name": "stderr",
     "output_type": "stream",
     "text": [
      "/opt/conda/lib/python3.7/site-packages/sklearn/metrics/classification.py:1437: UndefinedMetricWarning: F-score is ill-defined and being set to 0.0 due to no predicted samples.\n",
      "  'precision', 'predicted', average, warn_for)\n",
      "/opt/conda/lib/python3.7/site-packages/sklearn/metrics/classification.py:1437: UndefinedMetricWarning: F-score is ill-defined and being set to 0.0 due to no predicted samples.\n",
      "  'precision', 'predicted', average, warn_for)\n",
      "/opt/conda/lib/python3.7/site-packages/sklearn/metrics/classification.py:1437: UndefinedMetricWarning: F-score is ill-defined and being set to 0.0 due to no predicted samples.\n",
      "  'precision', 'predicted', average, warn_for)\n",
      "/opt/conda/lib/python3.7/site-packages/sklearn/metrics/classification.py:1437: UndefinedMetricWarning: F-score is ill-defined and being set to 0.0 due to no predicted samples.\n",
      "  'precision', 'predicted', average, warn_for)\n",
      "/opt/conda/lib/python3.7/site-packages/sklearn/metrics/classification.py:1437: UndefinedMetricWarning: F-score is ill-defined and being set to 0.0 due to no predicted samples.\n",
      "  'precision', 'predicted', average, warn_for)\n",
      "/opt/conda/lib/python3.7/site-packages/sklearn/metrics/classification.py:1437: UndefinedMetricWarning: F-score is ill-defined and being set to 0.0 due to no predicted samples.\n",
      "  'precision', 'predicted', average, warn_for)\n",
      "/opt/conda/lib/python3.7/site-packages/sklearn/metrics/classification.py:1437: UndefinedMetricWarning: F-score is ill-defined and being set to 0.0 due to no predicted samples.\n",
      "  'precision', 'predicted', average, warn_for)\n",
      "/opt/conda/lib/python3.7/site-packages/sklearn/metrics/classification.py:1437: UndefinedMetricWarning: F-score is ill-defined and being set to 0.0 due to no predicted samples.\n",
      "  'precision', 'predicted', average, warn_for)\n",
      "/opt/conda/lib/python3.7/site-packages/sklearn/metrics/classification.py:1437: UndefinedMetricWarning: F-score is ill-defined and being set to 0.0 due to no predicted samples.\n",
      "  'precision', 'predicted', average, warn_for)\n",
      "/opt/conda/lib/python3.7/site-packages/sklearn/metrics/classification.py:1437: UndefinedMetricWarning: F-score is ill-defined and being set to 0.0 due to no predicted samples.\n",
      "  'precision', 'predicted', average, warn_for)\n",
      "/opt/conda/lib/python3.7/site-packages/sklearn/metrics/classification.py:1437: UndefinedMetricWarning: F-score is ill-defined and being set to 0.0 due to no predicted samples.\n",
      "  'precision', 'predicted', average, warn_for)\n",
      "/opt/conda/lib/python3.7/site-packages/sklearn/metrics/classification.py:1437: UndefinedMetricWarning: F-score is ill-defined and being set to 0.0 due to no predicted samples.\n",
      "  'precision', 'predicted', average, warn_for)\n",
      "/opt/conda/lib/python3.7/site-packages/sklearn/metrics/classification.py:1437: UndefinedMetricWarning: F-score is ill-defined and being set to 0.0 due to no predicted samples.\n",
      "  'precision', 'predicted', average, warn_for)\n"
     ]
    },
    {
     "name": "stdout",
     "output_type": "stream",
     "text": [
      "F1-мера наилучшей модели на валидационной выборке: 0.6097560975609756 Количество деревьев: 50 Максимальная глубина: 14\n",
      "CPU times: user 26 s, sys: 71.3 ms, total: 26.1 s\n",
      "Wall time: 26.8 s\n"
     ]
    }
   ],
   "source": [
    "%%time\n",
    "\n",
    "best_model_rfc = None\n",
    "f1_rfc = 0\n",
    "best_est = 0\n",
    "best_depth = 0\n",
    "pd.options.mode.chained_assignment = None\n",
    "for est in range(5, 70, 5):\n",
    "    for depth in range (1, 15):\n",
    "        # инициализация модели с параметрами random_state=12091977, n_estimators=est и max_depth=depth\n",
    "        model_rfc = RandomForestClassifier(random_state=12091977, n_estimators=est, max_depth=depth)\n",
    "        model_rfc.fit(features_train, target_train) # обучение модели на тренировочной выборке\n",
    "        predictions = model_rfc.predict(features_valid)   # определение целевого признака на валидационной выборке\n",
    "        f1 = f1_score(target_valid, predictions)   # определение качества модели на валидационной выборке\n",
    "        if f1 > f1_rfc:\n",
    "            best_model_rfc = model_rfc\n",
    "            f1_rfc = f1\n",
    "            best_est = est\n",
    "            best_depth = depth\n",
    "\n",
    "print(\"F1-мера наилучшей модели на валидационной выборке:\", f1_rfc, \n",
    "      \"Количество деревьев:\", best_est, \n",
    "      \"Максимальная глубина:\", best_depth)"
   ]
  },
  {
   "cell_type": "markdown",
   "metadata": {},
   "source": [
    "#### Модель - Логистическая регрессия"
   ]
  },
  {
   "cell_type": "code",
   "execution_count": 19,
   "metadata": {},
   "outputs": [
    {
     "name": "stdout",
     "output_type": "stream",
     "text": [
      "F1-мера модели логистической регрессии на валидационной выборке: 0.32608695652173914\n",
      "CPU times: user 20.3 ms, sys: 7.93 ms, total: 28.3 ms\n",
      "Wall time: 15.6 ms\n"
     ]
    },
    {
     "name": "stderr",
     "output_type": "stream",
     "text": [
      "/opt/conda/lib/python3.7/site-packages/sklearn/linear_model/logistic.py:432: FutureWarning: Default solver will be changed to 'lbfgs' in 0.22. Specify a solver to silence this warning.\n",
      "  FutureWarning)\n"
     ]
    }
   ],
   "source": [
    "%%time\n",
    "model_lr = LogisticRegression(random_state=12091977) # инициализация модели логистической регрессии \n",
    "model_lr.fit(features_train, target_train) # обучение модели на тренировочной выборке\n",
    "predictions = model_lr.predict(features_valid)   # определение целевого признака на валидационной выборке\n",
    "f1_lr = f1_score(target_valid, predictions)   # определение качества модели на валидационной выборке\n",
    "\n",
    "print(\"F1-мера модели логистической регрессии на валидационной выборке:\", f1_lr)\n"
   ]
  },
  {
   "cell_type": "markdown",
   "metadata": {},
   "source": [
    "### Выводы по результатам исследования"
   ]
  },
  {
   "cell_type": "markdown",
   "metadata": {},
   "source": [
    "Результаты исследования:\n",
    "1. F1-мера наилучшей модели на валидационной выборке: 0.5787965616045846 Максимальная глубина: 7\n",
    "2. F1-мера наилучшей модели на валидационной выборке: 0.5950920245398774 Количество деревьев: 50 Максимальная глубина: 13\n",
    "3. F1-мера модели логистической регрессии на валидационной выборке: 0.326007326007326\n",
    "\n",
    "Наблюдаемый дисбаланс, соотношение отрицательных и положительных объектов почти 4 к 1, влияет на качество моделей не в лучшую сторону. \n",
    "\n",
    "Найти модель Решающего дерева и Логистической регресси, удовлетворяющие заданному критерию качества вообще не удалось, модель Случайного леса нашлась, но для её поиска понадобилось 26 секунд, при том, что на поски модели Решающего дерева ушло 143 милисекунды, а Логистической регрессии 15,4 милисекунды. \n",
    "\n",
    "Количество деревьев в модели случайного леса 50 при глубине каждого дерева 13, соответсвенно и время работы будет немаленьким.\n",
    "\n",
    "Вообщем, такой большой дисбаланс, приводит к печали и огорчению, и дополнительной работе соответсвенно :)."
   ]
  },
  {
   "cell_type": "markdown",
   "metadata": {},
   "source": [
    "## Борьба с дисбалансом"
   ]
  },
  {
   "cell_type": "markdown",
   "metadata": {},
   "source": [
    "### Взвешивание выборки"
   ]
  },
  {
   "cell_type": "code",
   "execution_count": 20,
   "metadata": {},
   "outputs": [
    {
     "name": "stdout",
     "output_type": "stream",
     "text": [
      "F1 модель - решающее дерево: 0.5604395604395604\n",
      "F1 модель - случайный лес: 0.5953757225433526\n",
      "F1 модель - логистическая регрессия: 0.5030782761653474\n"
     ]
    }
   ],
   "source": [
    "# Модель - Решающее дерево\n",
    "model_dtc = DecisionTreeClassifier(random_state=12091977, max_depth=m_depth, class_weight='balanced') \n",
    "model_dtc.fit(features_train, target_train)     \n",
    "predictions_dtc = model_dtc.predict(features_valid)   \n",
    "f1_dtc = f1_score(target_valid, predictions_dtc)   \n",
    "print(\"F1 модель - решающее дерево:\", f1_dtc)\n",
    "\n",
    "# Модель - Случайный лес\n",
    "model_rfc = RandomForestClassifier(random_state=12091977, n_estimators=best_est, max_depth=best_depth, class_weight='balanced')\n",
    "model_rfc.fit(features_train, target_train) # обучение модели на тренировочной выборке\n",
    "predictions_rfc = model_rfc.predict(features_valid)   # определение целевого признака на валидационной выборке\n",
    "f1_rfc = f1_score(target_valid, predictions_rfc) \n",
    "print(\"F1 модель - случайный лес:\", f1_rfc)\n",
    "\n",
    "# Модель - Логистическая регрессия\n",
    "model_lr = LogisticRegression(random_state=12091977, solver='liblinear', class_weight='balanced')\n",
    "model_lr.fit(features_train, target_train)\n",
    "predicted__lr = model_lr.predict(features_valid)\n",
    "f1_lr = f1_score(target_valid, predicted__lr)\n",
    "print(\"F1 модель - логистическая регрессия:\", f1_lr)\n"
   ]
  },
  {
   "cell_type": "markdown",
   "metadata": {},
   "source": [
    "### Увеличение выборки"
   ]
  },
  {
   "cell_type": "markdown",
   "metadata": {},
   "source": [
    "**Алгоритм**\n",
    "1. Разделить обучающую выборку на отрицательные и положительные объекты, объявить четыре переменные и записать в них:\n",
    "\n",
    "    features_zeros — признаки объектов с ответом «0»;\n",
    "    features_ones — признаки объектов с ответом «1»;\n",
    "    target_zeros — целевой признак объектов, у которых ответы только «0»;\n",
    "    target_ones — целевой признак объектов, у которых ответы только «1».\n",
    "\n",
    "2. Продублировать объекты положительного класса и объедините их с объектами отрицательного класса функцией pd.concat() (от англ. concatenate, «сцепить»), сохранить результат в переменной features_upsampled (признаки, преобразованные техникой upsampling) и переменной target_upsampled (целевой признак, преобразованный техникой upsampling).\n",
    "3. Перемешайте данные, применив функцию shuffle() (англ. «перетасовать») из модуля sklearn.utils (от англ. «утилиты»).\n",
    "4. Создать функцию upsample с тремя параметрами:\n",
    "\n",
    "    features— признаки, \n",
    "    target— целевой признак, \n",
    "    repeat— количество повторений.\n",
    "    \n",
    "    Функция вернёт признаки features_upsampled и целевой признак target_upsampled после операции upsampling.\n",
    "\n",
    "5. Обучить на новых данных модель, найдти для неё значение F1-меры.\n"
   ]
  },
  {
   "cell_type": "markdown",
   "metadata": {},
   "source": [
    "**Функция upsample**"
   ]
  },
  {
   "cell_type": "code",
   "execution_count": 21,
   "metadata": {},
   "outputs": [],
   "source": [
    "def upsample(features, target, repeat):\n",
    "    features_zeros = features[target == 0]\n",
    "    features_ones = features[target == 1]\n",
    "    target_zeros = target[target == 0]\n",
    "    target_ones = target[target == 1]\n",
    "\n",
    "    features_upsampled = pd.concat([features_zeros] + [features_ones] * repeat)\n",
    "    target_upsampled = pd.concat([target_zeros] + [target_ones] * repeat)\n",
    "    \n",
    "    features_upsampled, target_upsampled = shuffle(\n",
    "        features_upsampled, target_upsampled, random_state=12091977)\n",
    "    \n",
    "    return features_upsampled, target_upsampled"
   ]
  },
  {
   "cell_type": "markdown",
   "metadata": {},
   "source": [
    "**Модель - Логистическая регрессия**"
   ]
  },
  {
   "cell_type": "code",
   "execution_count": 22,
   "metadata": {},
   "outputs": [
    {
     "name": "stdout",
     "output_type": "stream",
     "text": [
      "F1-мера: 0.5008695652173912 Число повторений 4\n"
     ]
    }
   ],
   "source": [
    "best_model_lr_up = None\n",
    "f1_lr = 0\n",
    "repeat = 0\n",
    "for i in range(1,11):\n",
    "    features_upsampled, target_upsampled = upsample(features_train, target_train, i)\n",
    "    model_lr_up = LogisticRegression(random_state=12091977, solver='liblinear').fit(features_upsampled, target_upsampled)\n",
    "    predicted_valid = model_lr_up.predict(features_valid)\n",
    "    f1 = f1_score(target_valid, predicted_valid)\n",
    "    if f1 > f1_lr:\n",
    "            best_model_lr_up = model_lr_up\n",
    "            f1_lr = f1\n",
    "            repeat = i\n",
    "print(\"F1-мера:\", f1_lr, \n",
    "      \"Число повторений\", repeat)\n"
   ]
  },
  {
   "cell_type": "markdown",
   "metadata": {},
   "source": [
    "**Модель - Случайный лес**"
   ]
  },
  {
   "cell_type": "code",
   "execution_count": 23,
   "metadata": {},
   "outputs": [
    {
     "name": "stdout",
     "output_type": "stream",
     "text": [
      "F1-мера: 0.62227602905569 Число повторений 7\n"
     ]
    }
   ],
   "source": [
    "best_model_rfc_up = None\n",
    "f1_rfc = 0\n",
    "repeat = 0\n",
    "for i in range(1,11):\n",
    "    features_upsampled, target_upsampled = upsample(features_train, target_train, i)\n",
    "    model_rfc_up = RandomForestClassifier(random_state=12091977, n_estimators=best_est, max_depth=best_depth)\n",
    "    model_rfc_up.fit(features_upsampled, target_upsampled) \n",
    "    predictions_rfc = model_rfc_up.predict(features_valid)   \n",
    "    f1 = f1_score(target_valid, predictions_rfc) \n",
    "    if f1 > f1_rfc:\n",
    "            best_model_rfc_up = model_rfc_up\n",
    "            f1_rfc = f1\n",
    "            repeat = i\n",
    "print(\"F1-мера:\", f1_rfc, \n",
    "      \"Число повторений\", repeat)"
   ]
  },
  {
   "cell_type": "markdown",
   "metadata": {},
   "source": [
    "**Модель - Решающее дерево**"
   ]
  },
  {
   "cell_type": "code",
   "execution_count": 24,
   "metadata": {},
   "outputs": [
    {
     "name": "stdout",
     "output_type": "stream",
     "text": [
      "F1-мера: 0.5994623655913978 Число повторений 2\n"
     ]
    }
   ],
   "source": [
    "best_model_dtc_up = None\n",
    "f1_dtc = 0\n",
    "repeat = 0\n",
    "for i in range(1,11):\n",
    "    features_upsampled, target_upsampled = upsample(features_train, target_train, i)\n",
    "    model_dtc_up = DecisionTreeClassifier(random_state=12091977, max_depth=m_depth) \n",
    "    model_dtc_up.fit(features_upsampled, target_upsampled)     \n",
    "    predictions_dtc = model_dtc_up.predict(features_valid)   \n",
    "    f1 = f1_score(target_valid, predictions_dtc)   \n",
    "    if f1 > f1_dtc:\n",
    "            best_model_dtc_up = model_dtc_up\n",
    "            f1_dtc = f1\n",
    "            repeat = i\n",
    "print(\"F1-мера:\", f1_dtc, \n",
    "      \"Число повторений\", repeat)"
   ]
  },
  {
   "cell_type": "markdown",
   "metadata": {},
   "source": [
    "### Уменьшение выборки\n"
   ]
  },
  {
   "cell_type": "markdown",
   "metadata": {},
   "source": [
    "**Алгоритм** \n",
    "1. Разделить обучающую выборку на отрицательные и положительные объекты, объявить четыре переменные и записать в них:\n",
    "\n",
    "    features_zeros — признаки объектов с ответом «0»;\n",
    "    features_ones — признаки объектов с ответом «1»;\n",
    "    target_zeros — целевой признак объектов, у которых ответы только «0»;\n",
    "    target_ones — целевой признак объектов, у которых ответы только «1».\n",
    "\n",
    "2. Выбросить из таблицы случайные элементы, примените функцию sample(), сохранить результат в переменной features_downsampled (признаки, преобразованные техникой downsampling) и переменной target_downsampled (целевой признак, преобразованный техникой downsampling).\n",
    "3. Перемешайте данные, применив функцию shuffle() (англ. «перетасовать») из модуля sklearn.utils (от англ. «утилиты»).\n",
    "4. Создать функцию downsample с тремя параметрами:\n",
    "\n",
    "    features— признаки, \n",
    "    target— целевой признак, \n",
    "    fraction— доля отрицательных объектов, которые нужно сохранить.\n",
    "    \n",
    "    Функция вернёт признаки features_downsampled и целевой признак target_downsampled после операции downsampling.\n",
    "\n",
    "5. Обучить на новых данных модель, найдти для неё значение F1-меры.\n"
   ]
  },
  {
   "cell_type": "markdown",
   "metadata": {},
   "source": [
    "**Функция downsample**"
   ]
  },
  {
   "cell_type": "code",
   "execution_count": 25,
   "metadata": {},
   "outputs": [],
   "source": [
    "def downsample(features, target, fraction):\n",
    "    features_zeros = features[target == 0]\n",
    "    features_ones = features[target == 1]\n",
    "    target_zeros = target[target == 0]\n",
    "    target_ones = target[target == 1]\n",
    "    \n",
    "    features_downsampled = pd.concat([features_zeros.sample(frac=fraction, random_state=12091977)] + [features_ones])\n",
    "    target_downsampled = pd.concat([target_zeros.sample(frac=fraction, random_state=12091977)] + [target_ones])\n",
    "    \n",
    "    features_downsampled, target_downsampled = shuffle(\n",
    "        features_downsampled, target_downsampled, random_state=12091977)\n",
    "   \n",
    "    return features_downsampled, target_downsampled\n"
   ]
  },
  {
   "cell_type": "markdown",
   "metadata": {},
   "source": [
    "**Модель - Логистическая регрессия**"
   ]
  },
  {
   "cell_type": "code",
   "execution_count": 26,
   "metadata": {},
   "outputs": [
    {
     "name": "stdout",
     "output_type": "stream",
     "text": [
      "F1-мера: 0.5072324011571843 Доля 0.30000000000000004\n"
     ]
    }
   ],
   "source": [
    "best_model_lr_down = None\n",
    "f1_lr = 0\n",
    "fraction = 0\n",
    "for i in np.arange(0.1, 1, 0.1):\n",
    "    features_downsampled, target_downsampled = downsample(features_train, target_train, i)\n",
    "    model_lr_down = LogisticRegression(random_state=12091977, solver='liblinear').fit(features_downsampled, target_downsampled)\n",
    "    predicted_valid = model_lr_down.predict(features_valid)\n",
    "    f1 = f1_score(target_valid, predicted_valid)\n",
    "    if f1 > f1_lr:\n",
    "            best_model_lr_down = model_lr_down\n",
    "            f1_lr = f1\n",
    "            fraction = i\n",
    "print(\"F1-мера:\", f1_lr, \n",
    "      \"Доля\", fraction)\n"
   ]
  },
  {
   "cell_type": "markdown",
   "metadata": {},
   "source": [
    "**Модель - Случайный лес**"
   ]
  },
  {
   "cell_type": "code",
   "execution_count": 27,
   "metadata": {},
   "outputs": [
    {
     "name": "stdout",
     "output_type": "stream",
     "text": [
      "F1-мера: 0.624113475177305 Доля 0.8\n"
     ]
    }
   ],
   "source": [
    "best_model_rfc_down = None\n",
    "f1_rfc = 0\n",
    "fraction = 0\n",
    "for i in np.arange(0.1, 1, 0.1):\n",
    "    features_downsampled, target_downsampled = downsample(features_train, target_train, i)\n",
    "    model_rfc_down = RandomForestClassifier(random_state=12091977, n_estimators=best_est, max_depth=best_depth)\n",
    "    model_rfc_down.fit(features_downsampled, target_downsampled) \n",
    "    predictions_rfc = model_rfc_down.predict(features_valid)   \n",
    "    f1 = f1_score(target_valid, predictions_rfc) \n",
    "    if f1 > f1_rfc:\n",
    "            best_model_rfc_down = model_rfc_down\n",
    "            f1_rfc = f1\n",
    "            fraction = i\n",
    "print(\"F1-мера:\", f1_rfc, \n",
    "      \"Доля\", fraction)"
   ]
  },
  {
   "cell_type": "markdown",
   "metadata": {},
   "source": [
    "**Модель - Решающее дерево**"
   ]
  },
  {
   "cell_type": "code",
   "execution_count": 28,
   "metadata": {},
   "outputs": [
    {
     "name": "stdout",
     "output_type": "stream",
     "text": [
      "F1-мера: 0.6077348066298343 Доля 0.8\n"
     ]
    }
   ],
   "source": [
    "best_model_dtc_down = None\n",
    "f1_dtc = 0\n",
    "fraction = 0\n",
    "for i in np.arange(0.1, 1, 0.1):\n",
    "    features_downsampled, target_downsampled = downsample(features_train, target_train, i)\n",
    "    model_dtc_down = DecisionTreeClassifier(random_state=12091977, max_depth=m_depth) \n",
    "    model_dtc_down.fit(features_downsampled, target_downsampled)     \n",
    "    predictions_dtc = model_dtc_down.predict(features_valid)   \n",
    "    f1 = f1_score(target_valid, predictions_dtc)   \n",
    "    if f1 > f1_dtc:\n",
    "            best_model_dtc_down = model_dtc_down\n",
    "            f1_dtc = f1\n",
    "            fraction = i\n",
    "print(\"F1-мера:\", f1_dtc, \n",
    "      \"Доля\", fraction)"
   ]
  },
  {
   "cell_type": "markdown",
   "metadata": {},
   "source": [
    "### Выводы по результатам исследования"
   ]
  },
  {
   "cell_type": "markdown",
   "metadata": {},
   "source": [
    "Несбалансированные модели:\n",
    "1. F1-мера модели логистической регрессии на валидационной выборке: 0.326007326007326\n",
    "2. F1-мера наилучшей модели на валидационной выборке: 0.5950920245398774 Количество деревьев: 50 Максимальная глубина: 13\n",
    "3. F1-мера наилучшей модели на валидационной выборке: 0.5787965616045846 Максимальная глубина: 7\n",
    "\n",
    "После операции балансировки взвешиванием классов:\n",
    "1. F1 модель - логистическая регрессия: 0.5039647577092511\n",
    "2. F1 модель - случайный лес: 0.5942028985507246\n",
    "3. F1 модель - решающее дерево: 0.5559633027522937\n",
    "\n",
    "После операции балансировки увеличением выборки:\n",
    "1. F1-мера модель - логистическая регрессия: 0.5013054830287207 Число повторений 4\n",
    "2. F1-мера модель - случайный лес: 0.6215864759427827 Число повторений 3\n",
    "3. F1-мера модель - решающее дерево: 0.6002728512960436 Число повторений 2\n",
    "\n",
    "После операции балансировки уменьшением выборки:\n",
    "1. F1-мера модель - логистическая регрессия: 0.5033751205400192 Доля 0.30000000000000004\n",
    "2. F1-мера модель - случайный лес: 0.6302616609783845 Доля 0.4\n",
    "3. F1-мера модель - решающее дерево: 0.602905569007264 Доля 0.5\n",
    "\n",
    "Балансировка классов, несомненно положительно влияет на качество моделей. \n",
    "Балансировка взвешиванием значительно улучшило качество модели - логистическая регрессия, балансировка увеличением/уменьшением выборки позволила создать модели Решающего дерева и Случайного леса удовлетворяющие критерию качества. \n",
    "\n",
    "При этом, стоит заметить, что на качество моделей Решающего дерева и Случайного леса балансироваие взвешиванием повлияла не лучшим образом."
   ]
  },
  {
   "cell_type": "markdown",
   "metadata": {},
   "source": [
    "## Тестирование модели"
   ]
  },
  {
   "cell_type": "markdown",
   "metadata": {},
   "source": [
    "### Метрика F1-мера"
   ]
  },
  {
   "cell_type": "code",
   "execution_count": 29,
   "metadata": {},
   "outputs": [
    {
     "name": "stdout",
     "output_type": "stream",
     "text": [
      "F1 модель - решающее дерево: 0.5760869565217391\n",
      "F1 модель - решающее дерево: 0.5745554035567716\n"
     ]
    }
   ],
   "source": [
    "# Модель - Решающее дерево\n",
    "predictions_dtc_up = best_model_dtc_up.predict(features_test)   \n",
    "f1_dtc_up = f1_score(target_test, predictions_dtc_up)\n",
    "print(\"F1 модель - решающее дерево:\", f1_dtc_up)\n",
    "\n",
    "predictions_dtc_down = best_model_dtc_down.predict(features_test)   \n",
    "f1_dtc_down = f1_score(target_test, predictions_dtc_down)\n",
    "print(\"F1 модель - решающее дерево:\", f1_dtc_down)"
   ]
  },
  {
   "cell_type": "code",
   "execution_count": 30,
   "metadata": {},
   "outputs": [
    {
     "name": "stdout",
     "output_type": "stream",
     "text": [
      "F1 модель - случайный лес: 0.5659824046920822\n",
      "F1 модель - случайный лес: 0.5901639344262295\n",
      "F1 модель - случайный лес: 0.5677603423680457\n"
     ]
    }
   ],
   "source": [
    "# Модель - Случайный лес\n",
    "predictions_rfc = model_rfc.predict(features_test)   \n",
    "f1_rfc = f1_score(target_test, predictions_rfc) \n",
    "print(\"F1 модель - случайный лес:\", f1_rfc)\n",
    "\n",
    "predictions_rfc_up = best_model_rfc_up.predict(features_test)   \n",
    "f1_rfc_up = f1_score(target_test, predictions_rfc_up) \n",
    "print(\"F1 модель - случайный лес:\", f1_rfc_up)\n",
    "\n",
    "predictions_rfc_down = best_model_rfc_down.predict(features_test)   \n",
    "f1_rfc_down = f1_score(target_test, predictions_rfc_down) \n",
    "print(\"F1 модель - случайный лес:\", f1_rfc_down)"
   ]
  },
  {
   "cell_type": "code",
   "execution_count": 31,
   "metadata": {},
   "outputs": [
    {
     "name": "stdout",
     "output_type": "stream",
     "text": [
      "F1 модель - логистическая регрессия: 0.49399656946826764\n",
      "F1 модель - логистическая регрессия: 0.4898305084745763\n",
      "F1 модель - логистическая регрессия: 0.496309963099631\n"
     ]
    }
   ],
   "source": [
    "# Модель - Логистическая регрессия\n",
    "predicted_lr = model_lr.predict(features_test)\n",
    "f1_lr = f1_score(target_test, predicted_lr)\n",
    "print(\"F1 модель - логистическая регрессия:\", f1_lr)\n",
    "\n",
    "predicted_lr_up = best_model_lr_up.predict(features_test)\n",
    "f1_lr_up = f1_score(target_test, predicted_lr_up)\n",
    "print(\"F1 модель - логистическая регрессия:\", f1_lr_up)\n",
    "\n",
    "predicted_lr_down = best_model_lr_down.predict(features_test)\n",
    "f1_lr_down = f1_score(target_test, predicted_lr_down)\n",
    "print(\"F1 модель - логистическая регрессия:\", f1_lr_down)"
   ]
  },
  {
   "cell_type": "markdown",
   "metadata": {},
   "source": [
    "### Метрика AUC-ROC"
   ]
  },
  {
   "cell_type": "code",
   "execution_count": 32,
   "metadata": {},
   "outputs": [
    {
     "name": "stdout",
     "output_type": "stream",
     "text": [
      "0.7679286145073743\n"
     ]
    }
   ],
   "source": [
    "# Модель - Логистическая регрессия\n",
    "probabilities_valid = best_model_lr_down.predict_proba(features_test)\n",
    "probabilities_one_valid = probabilities_valid[:, 1]\n",
    "auc_roc = roc_auc_score(target_test, probabilities_one_valid)\n",
    "print(auc_roc)\n"
   ]
  },
  {
   "cell_type": "code",
   "execution_count": 33,
   "metadata": {},
   "outputs": [
    {
     "data": {
      "image/png": "[encoded data removed]",
      "text/plain": [
       "<Figure size 432x288 with 1 Axes>"
      ]
     },
     "metadata": {
      "needs_background": "light"
     },
     "output_type": "display_data"
    }
   ],
   "source": [
    "fpr, tpr, thresholds = roc_curve(target_test, probabilities_one_valid) \n",
    "\n",
    "plt.figure()\n",
    "plt.plot(fpr, tpr)\n",
    "plt.plot([0, 1], [0, 1], linestyle='--') # ROC-кривая случайной модели (выглядит как прямая)\n",
    "plt.xlabel('False Positive Rate')\n",
    "plt.ylabel('True Positive Rate')\n",
    "plt.ylim([0.0, 1.0])\n",
    "plt.xlim([0.0, 1.0])\n",
    "plt.title('ROC-кривая')\n",
    "plt.show()\n"
   ]
  },
  {
   "cell_type": "code",
   "execution_count": 34,
   "metadata": {},
   "outputs": [
    {
     "name": "stdout",
     "output_type": "stream",
     "text": [
      "0.8373052859866831\n"
     ]
    }
   ],
   "source": [
    "# Модель - Случайный лес\n",
    "probabilities_valid = best_model_rfc_up.predict_proba(features_test)\n",
    "probabilities_one_valid = probabilities_valid[:, 1]\n",
    "auc_roc = roc_auc_score(target_test, probabilities_one_valid)\n",
    "print(auc_roc)"
   ]
  },
  {
   "cell_type": "code",
   "execution_count": 36,
   "metadata": {},
   "outputs": [
    {
     "data": {
      "image/png": "[encoded data removed]",
      "text/plain": [
       "<Figure size 432x288 with 1 Axes>"
      ]
     },
     "metadata": {
      "needs_background": "light"
     },
     "output_type": "display_data"
    }
   ],
   "source": [
    "fpr, tpr, thresholds = roc_curve(target_test, probabilities_one_valid) \n",
    "\n",
    "plt.figure()\n",
    "plt.plot(fpr, tpr)\n",
    "plt.plot([0, 1], [0, 1], linestyle='--') # ROC-кривая случайной модели (выглядит как прямая)\n",
    "plt.xlabel('False Positive Rate')\n",
    "plt.ylabel('True Positive Rate')\n",
    "plt.ylim([0.0, 1.0])\n",
    "plt.xlim([0.0, 1.0])\n",
    "plt.title('ROC-кривая')\n",
    "plt.show()\n"
   ]
  },
  {
   "cell_type": "code",
   "execution_count": 37,
   "metadata": {},
   "outputs": [
    {
     "name": "stdout",
     "output_type": "stream",
     "text": [
      "0.7984447246742328\n"
     ]
    }
   ],
   "source": [
    "# Модель - Решающее дерево\n",
    "probabilities_valid = best_model_dtc_down.predict_proba(features_test)\n",
    "probabilities_one_valid = probabilities_valid[:, 1]\n",
    "auc_roc = roc_auc_score(target_test, probabilities_one_valid)\n",
    "print(auc_roc)"
   ]
  },
  {
   "cell_type": "code",
   "execution_count": 38,
   "metadata": {},
   "outputs": [
    {
     "data": {
      "image/png": "[encoded data removed]",
      "text/plain": [
       "<Figure size 432x288 with 1 Axes>"
      ]
     },
     "metadata": {
      "needs_background": "light"
     },
     "output_type": "display_data"
    }
   ],
   "source": [
    "fpr, tpr, thresholds = roc_curve(target_test, probabilities_one_valid) \n",
    "\n",
    "plt.figure()\n",
    "plt.plot(fpr, tpr)\n",
    "plt.plot([0, 1], [0, 1], linestyle='--') # ROC-кривая случайной модели (выглядит как прямая)\n",
    "plt.xlabel('False Positive Rate')\n",
    "plt.ylabel('True Positive Rate')\n",
    "plt.ylim([0.0, 1.0])\n",
    "plt.xlim([0.0, 1.0])\n",
    "plt.title('ROC-кривая')\n",
    "plt.show()\n"
   ]
  },
  {
   "cell_type": "markdown",
   "metadata": {},
   "source": [
    "### Выводы по результатам тестирования"
   ]
  },
  {
   "cell_type": "markdown",
   "metadata": {},
   "source": [
    "Результатом работы, удовлетворяющим заданному критерию качества, является модель Случайный лес, созданная на основе воборки сбалансированной методом Уменьшения выборки (или Увеличения выборки).\n",
    "\n",
    "Метрика AUC-ROC коррелирует с F1-мера положительно, и все наши модели эффективнее случайной."
   ]
  },
  {
   "cell_type": "code",
   "execution_count": null,
   "metadata": {},
   "outputs": [],
   "source": []
  }
 ],
 "metadata": {
  "ExecuteTimeLog": [
   {
    "duration": 250,
    "start_time": "2022-02-17T15:03:55.576Z"
   },
   {
    "duration": 1069,
    "start_time": "2022-02-17T15:04:01.733Z"
   },
   {
    "duration": 49,
    "start_time": "2022-02-17T15:04:02.804Z"
   },
   {
    "duration": 404,
    "start_time": "2022-02-18T04:21:51.177Z"
   },
   {
    "duration": 1356,
    "start_time": "2022-02-18T04:21:58.851Z"
   },
   {
    "duration": 69,
    "start_time": "2022-02-18T04:22:00.209Z"
   },
   {
    "duration": 384,
    "start_time": "2022-02-18T04:22:00.282Z"
   },
   {
    "duration": 7293,
    "start_time": "2022-02-18T04:28:43.497Z"
   },
   {
    "duration": 6983,
    "start_time": "2022-02-18T04:31:07.580Z"
   },
   {
    "duration": 15,
    "start_time": "2022-02-18T04:31:52.655Z"
   },
   {
    "duration": 5,
    "start_time": "2022-02-18T04:38:20.789Z"
   },
   {
    "duration": 57,
    "start_time": "2022-02-18T04:38:20.797Z"
   },
   {
    "duration": 356,
    "start_time": "2022-02-18T04:38:20.857Z"
   },
   {
    "duration": 7,
    "start_time": "2022-02-18T04:44:58.925Z"
   },
   {
    "duration": 325,
    "start_time": "2022-02-18T04:44:59.946Z"
   },
   {
    "duration": 5,
    "start_time": "2022-02-18T04:45:10.253Z"
   },
   {
    "duration": 60,
    "start_time": "2022-02-18T04:45:10.261Z"
   },
   {
    "duration": 6,
    "start_time": "2022-02-18T04:45:10.405Z"
   },
   {
    "duration": 327,
    "start_time": "2022-02-18T04:45:10.414Z"
   },
   {
    "duration": 33,
    "start_time": "2022-02-18T04:45:37.493Z"
   },
   {
    "duration": 6,
    "start_time": "2022-02-18T04:46:01.419Z"
   },
   {
    "duration": 45,
    "start_time": "2022-02-18T04:46:02.061Z"
   },
   {
    "duration": 22,
    "start_time": "2022-02-18T04:48:29.863Z"
   },
   {
    "duration": 286,
    "start_time": "2022-02-18T06:11:01.774Z"
   },
   {
    "duration": 8,
    "start_time": "2022-02-18T06:11:41.717Z"
   },
   {
    "duration": 315,
    "start_time": "2022-02-18T06:19:07.473Z"
   },
   {
    "duration": 4,
    "start_time": "2022-02-18T06:19:12.993Z"
   },
   {
    "duration": 54,
    "start_time": "2022-02-18T06:19:13.000Z"
   },
   {
    "duration": 8,
    "start_time": "2022-02-18T06:19:13.057Z"
   },
   {
    "duration": 4,
    "start_time": "2022-02-18T06:19:13.068Z"
   },
   {
    "duration": 7,
    "start_time": "2022-02-18T06:19:13.074Z"
   },
   {
    "duration": 25,
    "start_time": "2022-02-18T06:19:13.084Z"
   },
   {
    "duration": 5,
    "start_time": "2022-02-18T06:19:13.111Z"
   },
   {
    "duration": 7,
    "start_time": "2022-02-18T06:19:24.773Z"
   },
   {
    "duration": 9,
    "start_time": "2022-02-18T06:19:53.608Z"
   },
   {
    "duration": 5,
    "start_time": "2022-02-18T06:20:18.159Z"
   },
   {
    "duration": 7,
    "start_time": "2022-02-18T06:22:21.599Z"
   },
   {
    "duration": 7,
    "start_time": "2022-02-18T06:24:43.739Z"
   },
   {
    "duration": 6,
    "start_time": "2022-02-18T06:26:13.008Z"
   },
   {
    "duration": 6,
    "start_time": "2022-02-18T06:26:15.433Z"
   },
   {
    "duration": 6,
    "start_time": "2022-02-18T06:26:17.007Z"
   },
   {
    "duration": 5,
    "start_time": "2022-02-18T06:26:18.433Z"
   },
   {
    "duration": 6,
    "start_time": "2022-02-18T06:27:22.675Z"
   },
   {
    "duration": 9,
    "start_time": "2022-02-18T06:27:23.846Z"
   },
   {
    "duration": 367,
    "start_time": "2022-02-18T06:38:26.686Z"
   },
   {
    "duration": 9,
    "start_time": "2022-02-18T06:39:17.309Z"
   },
   {
    "duration": 6,
    "start_time": "2022-02-18T06:39:31.590Z"
   },
   {
    "duration": 13,
    "start_time": "2022-02-18T06:39:35.604Z"
   },
   {
    "duration": 5,
    "start_time": "2022-02-18T06:39:50.420Z"
   },
   {
    "duration": 56,
    "start_time": "2022-02-18T06:39:50.427Z"
   },
   {
    "duration": 8,
    "start_time": "2022-02-18T06:39:50.486Z"
   },
   {
    "duration": 10,
    "start_time": "2022-02-18T06:39:50.496Z"
   },
   {
    "duration": 18,
    "start_time": "2022-02-18T06:39:50.508Z"
   },
   {
    "duration": 11,
    "start_time": "2022-02-18T06:39:50.528Z"
   },
   {
    "duration": 22,
    "start_time": "2022-02-18T06:39:50.542Z"
   },
   {
    "duration": 16,
    "start_time": "2022-02-18T06:39:50.567Z"
   },
   {
    "duration": 11,
    "start_time": "2022-02-18T06:39:50.585Z"
   },
   {
    "duration": 33,
    "start_time": "2022-02-18T06:39:50.599Z"
   },
   {
    "duration": 5,
    "start_time": "2022-02-18T06:39:50.635Z"
   },
   {
    "duration": 21,
    "start_time": "2022-02-18T06:41:21.366Z"
   },
   {
    "duration": 5,
    "start_time": "2022-02-18T06:42:47.373Z"
   },
   {
    "duration": 46,
    "start_time": "2022-02-18T06:42:47.410Z"
   },
   {
    "duration": 9,
    "start_time": "2022-02-18T06:42:47.459Z"
   },
   {
    "duration": 9,
    "start_time": "2022-02-18T06:42:47.471Z"
   },
   {
    "duration": 4,
    "start_time": "2022-02-18T06:42:47.483Z"
   },
   {
    "duration": 10,
    "start_time": "2022-02-18T06:42:47.489Z"
   },
   {
    "duration": 10,
    "start_time": "2022-02-18T06:42:47.501Z"
   },
   {
    "duration": 50,
    "start_time": "2022-02-18T06:42:47.513Z"
   },
   {
    "duration": 5,
    "start_time": "2022-02-18T06:42:47.566Z"
   },
   {
    "duration": 30,
    "start_time": "2022-02-18T06:42:47.575Z"
   },
   {
    "duration": 5,
    "start_time": "2022-02-18T06:42:47.607Z"
   },
   {
    "duration": 5,
    "start_time": "2022-02-18T06:44:02.926Z"
   },
   {
    "duration": 52,
    "start_time": "2022-02-18T06:44:02.934Z"
   },
   {
    "duration": 10,
    "start_time": "2022-02-18T06:44:02.989Z"
   },
   {
    "duration": 8,
    "start_time": "2022-02-18T06:44:03.003Z"
   },
   {
    "duration": 6,
    "start_time": "2022-02-18T06:44:03.014Z"
   },
   {
    "duration": 39,
    "start_time": "2022-02-18T06:44:03.022Z"
   },
   {
    "duration": 9,
    "start_time": "2022-02-18T06:44:03.064Z"
   },
   {
    "duration": 8,
    "start_time": "2022-02-18T06:44:03.076Z"
   },
   {
    "duration": 5,
    "start_time": "2022-02-18T06:44:03.087Z"
   },
   {
    "duration": 67,
    "start_time": "2022-02-18T06:44:03.095Z"
   },
   {
    "duration": 6,
    "start_time": "2022-02-18T06:44:03.165Z"
   },
   {
    "duration": 33,
    "start_time": "2022-02-18T06:49:14.856Z"
   },
   {
    "duration": 5,
    "start_time": "2022-02-18T06:49:59.123Z"
   },
   {
    "duration": 56,
    "start_time": "2022-02-18T06:49:59.131Z"
   },
   {
    "duration": 10,
    "start_time": "2022-02-18T06:49:59.190Z"
   },
   {
    "duration": 9,
    "start_time": "2022-02-18T06:49:59.203Z"
   },
   {
    "duration": 4,
    "start_time": "2022-02-18T06:49:59.214Z"
   },
   {
    "duration": 41,
    "start_time": "2022-02-18T06:49:59.220Z"
   },
   {
    "duration": 10,
    "start_time": "2022-02-18T06:49:59.265Z"
   },
   {
    "duration": 10,
    "start_time": "2022-02-18T06:49:59.277Z"
   },
   {
    "duration": 31,
    "start_time": "2022-02-18T06:49:59.290Z"
   },
   {
    "duration": 43,
    "start_time": "2022-02-18T06:49:59.323Z"
   },
   {
    "duration": 28,
    "start_time": "2022-02-18T06:49:59.368Z"
   },
   {
    "duration": 5,
    "start_time": "2022-02-18T06:49:59.398Z"
   },
   {
    "duration": 4,
    "start_time": "2022-02-18T06:50:46.002Z"
   },
   {
    "duration": 67,
    "start_time": "2022-02-18T06:50:46.010Z"
   },
   {
    "duration": 11,
    "start_time": "2022-02-18T06:50:46.081Z"
   },
   {
    "duration": 10,
    "start_time": "2022-02-18T06:50:46.096Z"
   },
   {
    "duration": 5,
    "start_time": "2022-02-18T06:50:46.109Z"
   },
   {
    "duration": 8,
    "start_time": "2022-02-18T06:50:46.162Z"
   },
   {
    "duration": 11,
    "start_time": "2022-02-18T06:50:46.173Z"
   },
   {
    "duration": 8,
    "start_time": "2022-02-18T06:50:46.187Z"
   },
   {
    "duration": 71,
    "start_time": "2022-02-18T06:50:46.199Z"
   },
   {
    "duration": 6,
    "start_time": "2022-02-18T06:50:46.273Z"
   },
   {
    "duration": 30,
    "start_time": "2022-02-18T06:50:46.281Z"
   },
   {
    "duration": 6,
    "start_time": "2022-02-18T06:50:46.313Z"
   },
   {
    "duration": 5,
    "start_time": "2022-02-18T06:53:29.199Z"
   },
   {
    "duration": 61,
    "start_time": "2022-02-18T06:53:29.209Z"
   },
   {
    "duration": 9,
    "start_time": "2022-02-18T06:53:29.274Z"
   },
   {
    "duration": 9,
    "start_time": "2022-02-18T06:53:29.286Z"
   },
   {
    "duration": 5,
    "start_time": "2022-02-18T06:53:29.298Z"
   },
   {
    "duration": 6,
    "start_time": "2022-02-18T06:53:29.306Z"
   },
   {
    "duration": 55,
    "start_time": "2022-02-18T06:53:29.314Z"
   },
   {
    "duration": 8,
    "start_time": "2022-02-18T06:53:29.372Z"
   },
   {
    "duration": 31,
    "start_time": "2022-02-18T06:53:29.382Z"
   },
   {
    "duration": 49,
    "start_time": "2022-02-18T06:53:29.419Z"
   },
   {
    "duration": 31,
    "start_time": "2022-02-18T06:53:29.470Z"
   },
   {
    "duration": 5,
    "start_time": "2022-02-18T06:53:29.504Z"
   },
   {
    "duration": 5,
    "start_time": "2022-02-18T06:53:57.780Z"
   },
   {
    "duration": 65,
    "start_time": "2022-02-18T06:53:57.787Z"
   },
   {
    "duration": 10,
    "start_time": "2022-02-18T06:53:57.854Z"
   },
   {
    "duration": 8,
    "start_time": "2022-02-18T06:53:57.868Z"
   },
   {
    "duration": 5,
    "start_time": "2022-02-18T06:53:57.878Z"
   },
   {
    "duration": 9,
    "start_time": "2022-02-18T06:53:57.887Z"
   },
   {
    "duration": 11,
    "start_time": "2022-02-18T06:53:57.899Z"
   },
   {
    "duration": 49,
    "start_time": "2022-02-18T06:53:57.913Z"
   },
   {
    "duration": 33,
    "start_time": "2022-02-18T06:53:57.964Z"
   },
   {
    "duration": 6,
    "start_time": "2022-02-18T06:53:58.001Z"
   },
   {
    "duration": 62,
    "start_time": "2022-02-18T06:53:58.009Z"
   },
   {
    "duration": 6,
    "start_time": "2022-02-18T06:53:58.074Z"
   },
   {
    "duration": 6,
    "start_time": "2022-02-18T06:54:12.931Z"
   },
   {
    "duration": 62,
    "start_time": "2022-02-18T06:54:12.939Z"
   },
   {
    "duration": 9,
    "start_time": "2022-02-18T06:54:13.004Z"
   },
   {
    "duration": 8,
    "start_time": "2022-02-18T06:54:13.017Z"
   },
   {
    "duration": 37,
    "start_time": "2022-02-18T06:54:13.027Z"
   },
   {
    "duration": 10,
    "start_time": "2022-02-18T06:54:13.067Z"
   },
   {
    "duration": 12,
    "start_time": "2022-02-18T06:54:13.080Z"
   },
   {
    "duration": 8,
    "start_time": "2022-02-18T06:54:13.095Z"
   },
   {
    "duration": 72,
    "start_time": "2022-02-18T06:54:13.106Z"
   },
   {
    "duration": 9,
    "start_time": "2022-02-18T06:54:13.181Z"
   },
   {
    "duration": 38,
    "start_time": "2022-02-18T06:54:13.192Z"
   },
   {
    "duration": 5,
    "start_time": "2022-02-18T06:54:13.232Z"
   },
   {
    "duration": 7,
    "start_time": "2022-02-18T06:55:49.935Z"
   },
   {
    "duration": 5,
    "start_time": "2022-02-18T06:55:56.053Z"
   },
   {
    "duration": 67,
    "start_time": "2022-02-18T06:55:56.062Z"
   },
   {
    "duration": 9,
    "start_time": "2022-02-18T06:55:56.132Z"
   },
   {
    "duration": 9,
    "start_time": "2022-02-18T06:55:56.162Z"
   },
   {
    "duration": 10,
    "start_time": "2022-02-18T06:55:56.174Z"
   },
   {
    "duration": 6,
    "start_time": "2022-02-18T06:55:56.186Z"
   },
   {
    "duration": 10,
    "start_time": "2022-02-18T06:55:56.196Z"
   },
   {
    "duration": 52,
    "start_time": "2022-02-18T06:55:56.209Z"
   },
   {
    "duration": 34,
    "start_time": "2022-02-18T06:55:56.263Z"
   },
   {
    "duration": 6,
    "start_time": "2022-02-18T06:55:56.299Z"
   },
   {
    "duration": 62,
    "start_time": "2022-02-18T06:55:56.307Z"
   },
   {
    "duration": 6,
    "start_time": "2022-02-18T06:55:56.371Z"
   },
   {
    "duration": 4,
    "start_time": "2022-02-18T06:56:10.154Z"
   },
   {
    "duration": 64,
    "start_time": "2022-02-18T06:56:10.165Z"
   },
   {
    "duration": 11,
    "start_time": "2022-02-18T06:56:10.232Z"
   },
   {
    "duration": 9,
    "start_time": "2022-02-18T06:56:10.261Z"
   },
   {
    "duration": 11,
    "start_time": "2022-02-18T06:56:10.273Z"
   },
   {
    "duration": 6,
    "start_time": "2022-02-18T06:56:10.287Z"
   },
   {
    "duration": 14,
    "start_time": "2022-02-18T06:56:10.296Z"
   },
   {
    "duration": 56,
    "start_time": "2022-02-18T06:56:10.312Z"
   },
   {
    "duration": 47,
    "start_time": "2022-02-18T06:56:10.371Z"
   },
   {
    "duration": 6,
    "start_time": "2022-02-18T06:56:10.423Z"
   },
   {
    "duration": 40,
    "start_time": "2022-02-18T06:56:10.463Z"
   },
   {
    "duration": 7,
    "start_time": "2022-02-18T06:56:10.506Z"
   },
   {
    "duration": 5,
    "start_time": "2022-02-18T06:57:29.696Z"
   },
   {
    "duration": 67,
    "start_time": "2022-02-18T06:57:29.704Z"
   },
   {
    "duration": 8,
    "start_time": "2022-02-18T06:57:29.774Z"
   },
   {
    "duration": 21,
    "start_time": "2022-02-18T06:57:29.785Z"
   },
   {
    "duration": 8,
    "start_time": "2022-02-18T06:57:29.809Z"
   },
   {
    "duration": 40,
    "start_time": "2022-02-18T06:57:29.821Z"
   },
   {
    "duration": 13,
    "start_time": "2022-02-18T06:57:29.866Z"
   },
   {
    "duration": 11,
    "start_time": "2022-02-18T06:57:29.882Z"
   },
   {
    "duration": 68,
    "start_time": "2022-02-18T06:57:29.895Z"
   },
   {
    "duration": 7,
    "start_time": "2022-02-18T06:57:29.966Z"
   },
   {
    "duration": 33,
    "start_time": "2022-02-18T06:57:29.976Z"
   },
   {
    "duration": 8,
    "start_time": "2022-02-18T06:57:30.013Z"
   },
   {
    "duration": 7,
    "start_time": "2022-02-18T06:59:49.930Z"
   },
   {
    "duration": 90,
    "start_time": "2022-02-18T06:59:49.940Z"
   },
   {
    "duration": 29,
    "start_time": "2022-02-18T06:59:50.034Z"
   },
   {
    "duration": 8,
    "start_time": "2022-02-18T06:59:50.066Z"
   },
   {
    "duration": 11,
    "start_time": "2022-02-18T06:59:50.076Z"
   },
   {
    "duration": 31,
    "start_time": "2022-02-18T06:59:50.090Z"
   },
   {
    "duration": 6,
    "start_time": "2022-02-18T06:59:50.161Z"
   },
   {
    "duration": 32,
    "start_time": "2022-02-18T06:59:50.170Z"
   },
   {
    "duration": 6,
    "start_time": "2022-02-18T06:59:50.205Z"
   },
   {
    "duration": 5,
    "start_time": "2022-02-18T07:00:02.988Z"
   },
   {
    "duration": 83,
    "start_time": "2022-02-18T07:00:02.997Z"
   },
   {
    "duration": 8,
    "start_time": "2022-02-18T07:00:03.083Z"
   },
   {
    "duration": 20,
    "start_time": "2022-02-18T07:00:03.094Z"
   },
   {
    "duration": 26,
    "start_time": "2022-02-18T07:00:03.117Z"
   },
   {
    "duration": 45,
    "start_time": "2022-02-18T07:00:03.146Z"
   },
   {
    "duration": 36,
    "start_time": "2022-02-18T07:00:03.195Z"
   },
   {
    "duration": 48,
    "start_time": "2022-02-18T07:00:03.234Z"
   },
   {
    "duration": 10,
    "start_time": "2022-02-18T07:00:03.286Z"
   },
   {
    "duration": 5,
    "start_time": "2022-02-18T07:01:51.794Z"
   },
   {
    "duration": 64,
    "start_time": "2022-02-18T07:01:51.801Z"
   },
   {
    "duration": 10,
    "start_time": "2022-02-18T07:01:51.868Z"
   },
   {
    "duration": 9,
    "start_time": "2022-02-18T07:01:51.882Z"
   },
   {
    "duration": 6,
    "start_time": "2022-02-18T07:01:51.893Z"
   },
   {
    "duration": 10,
    "start_time": "2022-02-18T07:01:51.902Z"
   },
   {
    "duration": 74,
    "start_time": "2022-02-18T07:01:51.916Z"
   },
   {
    "duration": 7,
    "start_time": "2022-02-18T07:01:51.993Z"
   },
   {
    "duration": 30,
    "start_time": "2022-02-18T07:01:52.002Z"
   },
   {
    "duration": 30,
    "start_time": "2022-02-18T07:01:52.034Z"
   },
   {
    "duration": 5,
    "start_time": "2022-02-18T07:18:22.667Z"
   },
   {
    "duration": 72,
    "start_time": "2022-02-18T07:18:22.675Z"
   },
   {
    "duration": 19,
    "start_time": "2022-02-18T07:18:22.750Z"
   },
   {
    "duration": 12,
    "start_time": "2022-02-18T07:18:22.771Z"
   },
   {
    "duration": 7,
    "start_time": "2022-02-18T07:18:22.786Z"
   },
   {
    "duration": 13,
    "start_time": "2022-02-18T07:18:22.795Z"
   },
   {
    "duration": 71,
    "start_time": "2022-02-18T07:18:22.812Z"
   },
   {
    "duration": 6,
    "start_time": "2022-02-18T07:18:22.886Z"
   },
   {
    "duration": 31,
    "start_time": "2022-02-18T07:18:22.895Z"
   },
   {
    "duration": 35,
    "start_time": "2022-02-18T07:18:22.929Z"
   },
   {
    "duration": 5,
    "start_time": "2022-02-18T07:18:44.382Z"
   },
   {
    "duration": 60,
    "start_time": "2022-02-18T07:18:44.389Z"
   },
   {
    "duration": 9,
    "start_time": "2022-02-18T07:18:44.453Z"
   },
   {
    "duration": 9,
    "start_time": "2022-02-18T07:18:44.465Z"
   },
   {
    "duration": 5,
    "start_time": "2022-02-18T07:18:44.476Z"
   },
   {
    "duration": 9,
    "start_time": "2022-02-18T07:18:44.484Z"
   },
   {
    "duration": 6,
    "start_time": "2022-02-18T07:18:44.496Z"
   },
   {
    "duration": 68,
    "start_time": "2022-02-18T07:18:44.505Z"
   },
   {
    "duration": 5,
    "start_time": "2022-02-18T07:18:44.576Z"
   },
   {
    "duration": 10,
    "start_time": "2022-02-18T07:30:05.724Z"
   },
   {
    "duration": 10,
    "start_time": "2022-02-18T07:34:19.208Z"
   },
   {
    "duration": 27,
    "start_time": "2022-02-18T07:34:37.724Z"
   },
   {
    "duration": 26,
    "start_time": "2022-02-18T07:34:53.058Z"
   },
   {
    "duration": 9,
    "start_time": "2022-02-18T07:35:06.065Z"
   },
   {
    "duration": 28,
    "start_time": "2022-02-18T07:35:07.092Z"
   },
   {
    "duration": 5,
    "start_time": "2022-02-18T07:35:13.151Z"
   },
   {
    "duration": 73,
    "start_time": "2022-02-18T07:35:13.159Z"
   },
   {
    "duration": 25,
    "start_time": "2022-02-18T07:35:13.235Z"
   },
   {
    "duration": 9,
    "start_time": "2022-02-18T07:35:13.264Z"
   },
   {
    "duration": 11,
    "start_time": "2022-02-18T07:35:13.275Z"
   },
   {
    "duration": 11,
    "start_time": "2022-02-18T07:35:13.288Z"
   },
   {
    "duration": 6,
    "start_time": "2022-02-18T07:35:13.302Z"
   },
   {
    "duration": 65,
    "start_time": "2022-02-18T07:35:13.311Z"
   },
   {
    "duration": 5,
    "start_time": "2022-02-18T07:35:13.379Z"
   },
   {
    "duration": 10,
    "start_time": "2022-02-18T07:35:13.386Z"
   },
   {
    "duration": 25,
    "start_time": "2022-02-18T07:35:13.399Z"
   },
   {
    "duration": 41,
    "start_time": "2022-02-18T07:35:13.426Z"
   },
   {
    "duration": 27,
    "start_time": "2022-02-18T07:35:13.469Z"
   },
   {
    "duration": 8,
    "start_time": "2022-02-18T07:55:40.075Z"
   },
   {
    "duration": 4,
    "start_time": "2022-02-18T07:55:44.132Z"
   },
   {
    "duration": 72,
    "start_time": "2022-02-18T07:55:44.142Z"
   },
   {
    "duration": 9,
    "start_time": "2022-02-18T07:55:44.216Z"
   },
   {
    "duration": 10,
    "start_time": "2022-02-18T07:55:44.228Z"
   },
   {
    "duration": 28,
    "start_time": "2022-02-18T07:55:44.240Z"
   },
   {
    "duration": 10,
    "start_time": "2022-02-18T07:55:44.271Z"
   },
   {
    "duration": 7,
    "start_time": "2022-02-18T07:55:44.283Z"
   },
   {
    "duration": 27,
    "start_time": "2022-02-18T07:55:44.293Z"
   },
   {
    "duration": 12,
    "start_time": "2022-02-18T07:55:44.366Z"
   },
   {
    "duration": 11,
    "start_time": "2022-02-18T07:55:44.381Z"
   },
   {
    "duration": 27,
    "start_time": "2022-02-18T07:55:44.394Z"
   },
   {
    "duration": 8,
    "start_time": "2022-02-18T07:55:44.424Z"
   },
   {
    "duration": 34,
    "start_time": "2022-02-18T07:55:44.467Z"
   },
   {
    "duration": 454,
    "start_time": "2022-02-18T07:55:44.504Z"
   },
   {
    "duration": 6,
    "start_time": "2022-02-18T08:09:42.805Z"
   },
   {
    "duration": 6,
    "start_time": "2022-02-18T08:12:16.723Z"
   },
   {
    "duration": 5,
    "start_time": "2022-02-18T08:12:58.648Z"
   },
   {
    "duration": 76,
    "start_time": "2022-02-18T08:12:58.660Z"
   },
   {
    "duration": 27,
    "start_time": "2022-02-18T08:12:58.740Z"
   },
   {
    "duration": 12,
    "start_time": "2022-02-18T08:12:58.771Z"
   },
   {
    "duration": 6,
    "start_time": "2022-02-18T08:12:58.786Z"
   },
   {
    "duration": 9,
    "start_time": "2022-02-18T08:12:58.795Z"
   },
   {
    "duration": 7,
    "start_time": "2022-02-18T08:12:58.806Z"
   },
   {
    "duration": 73,
    "start_time": "2022-02-18T08:12:58.815Z"
   },
   {
    "duration": 6,
    "start_time": "2022-02-18T08:12:58.891Z"
   },
   {
    "duration": 9,
    "start_time": "2022-02-18T08:12:58.901Z"
   },
   {
    "duration": 71,
    "start_time": "2022-02-18T08:12:58.912Z"
   },
   {
    "duration": 9,
    "start_time": "2022-02-18T08:12:58.986Z"
   },
   {
    "duration": 25,
    "start_time": "2022-02-18T08:12:58.998Z"
   },
   {
    "duration": 72,
    "start_time": "2022-02-18T08:12:59.025Z"
   },
   {
    "duration": 7,
    "start_time": "2022-02-18T08:12:59.099Z"
   },
   {
    "duration": 5,
    "start_time": "2022-02-18T08:13:16.251Z"
   },
   {
    "duration": 24,
    "start_time": "2022-02-18T08:13:34.685Z"
   },
   {
    "duration": 112,
    "start_time": "2022-02-18T08:31:32.099Z"
   },
   {
    "duration": 366,
    "start_time": "2022-02-18T08:31:52.319Z"
   },
   {
    "duration": 342,
    "start_time": "2022-02-18T08:43:34.757Z"
   },
   {
    "duration": 313,
    "start_time": "2022-02-18T08:43:45.350Z"
   },
   {
    "duration": 5,
    "start_time": "2022-02-18T08:44:11.899Z"
   },
   {
    "duration": 74,
    "start_time": "2022-02-18T08:44:11.913Z"
   },
   {
    "duration": 10,
    "start_time": "2022-02-18T08:44:11.990Z"
   },
   {
    "duration": 10,
    "start_time": "2022-02-18T08:44:12.004Z"
   },
   {
    "duration": 7,
    "start_time": "2022-02-18T08:44:12.018Z"
   },
   {
    "duration": 43,
    "start_time": "2022-02-18T08:44:12.028Z"
   },
   {
    "duration": 14,
    "start_time": "2022-02-18T08:44:12.074Z"
   },
   {
    "duration": 33,
    "start_time": "2022-02-18T08:44:12.091Z"
   },
   {
    "duration": 6,
    "start_time": "2022-02-18T08:44:12.127Z"
   },
   {
    "duration": 35,
    "start_time": "2022-02-18T08:44:12.138Z"
   },
   {
    "duration": 34,
    "start_time": "2022-02-18T08:44:12.175Z"
   },
   {
    "duration": 10,
    "start_time": "2022-02-18T08:44:12.212Z"
   },
   {
    "duration": 61,
    "start_time": "2022-02-18T08:44:12.225Z"
   },
   {
    "duration": 35,
    "start_time": "2022-02-18T08:44:12.289Z"
   },
   {
    "duration": 57,
    "start_time": "2022-02-18T08:44:12.326Z"
   },
   {
    "duration": 268,
    "start_time": "2022-02-18T08:44:12.387Z"
   },
   {
    "duration": 268,
    "start_time": "2022-02-18T08:44:12.661Z"
   },
   {
    "duration": 6,
    "start_time": "2022-02-18T08:44:22.984Z"
   },
   {
    "duration": 70,
    "start_time": "2022-02-18T08:44:22.994Z"
   },
   {
    "duration": 12,
    "start_time": "2022-02-18T08:44:23.068Z"
   },
   {
    "duration": 10,
    "start_time": "2022-02-18T08:44:23.084Z"
   },
   {
    "duration": 5,
    "start_time": "2022-02-18T08:44:23.097Z"
   },
   {
    "duration": 10,
    "start_time": "2022-02-18T08:44:23.104Z"
   },
   {
    "duration": 46,
    "start_time": "2022-02-18T08:44:23.117Z"
   },
   {
    "duration": 51,
    "start_time": "2022-02-18T08:44:23.166Z"
   },
   {
    "duration": 6,
    "start_time": "2022-02-18T08:44:23.220Z"
   },
   {
    "duration": 37,
    "start_time": "2022-02-18T08:44:23.229Z"
   },
   {
    "duration": 25,
    "start_time": "2022-02-18T08:44:23.271Z"
   },
   {
    "duration": 8,
    "start_time": "2022-02-18T08:44:23.299Z"
   },
   {
    "duration": 27,
    "start_time": "2022-02-18T08:44:23.309Z"
   },
   {
    "duration": 35,
    "start_time": "2022-02-18T08:44:23.367Z"
   },
   {
    "duration": 23,
    "start_time": "2022-02-18T08:44:23.404Z"
   },
   {
    "duration": 275,
    "start_time": "2022-02-18T08:44:23.430Z"
   },
   {
    "duration": 259,
    "start_time": "2022-02-18T08:44:23.707Z"
   },
   {
    "duration": 5,
    "start_time": "2022-02-18T08:44:29.440Z"
   },
   {
    "duration": 73,
    "start_time": "2022-02-18T08:44:29.448Z"
   },
   {
    "duration": 12,
    "start_time": "2022-02-18T08:44:29.525Z"
   },
   {
    "duration": 16,
    "start_time": "2022-02-18T08:44:29.566Z"
   },
   {
    "duration": 6,
    "start_time": "2022-02-18T08:44:29.584Z"
   },
   {
    "duration": 10,
    "start_time": "2022-02-18T08:44:29.593Z"
   },
   {
    "duration": 8,
    "start_time": "2022-02-18T08:44:29.606Z"
   },
   {
    "duration": 69,
    "start_time": "2022-02-18T08:44:29.617Z"
   },
   {
    "duration": 6,
    "start_time": "2022-02-18T08:44:29.688Z"
   },
   {
    "duration": 10,
    "start_time": "2022-02-18T08:44:29.696Z"
   },
   {
    "duration": 26,
    "start_time": "2022-02-18T08:44:29.708Z"
   },
   {
    "duration": 32,
    "start_time": "2022-02-18T08:44:29.737Z"
   },
   {
    "duration": 31,
    "start_time": "2022-02-18T08:44:29.771Z"
   },
   {
    "duration": 59,
    "start_time": "2022-02-18T08:44:29.805Z"
   },
   {
    "duration": 27,
    "start_time": "2022-02-18T08:44:29.868Z"
   },
   {
    "duration": 257,
    "start_time": "2022-02-18T08:44:29.898Z"
   },
   {
    "duration": 262,
    "start_time": "2022-02-18T08:44:30.160Z"
   },
   {
    "duration": 6,
    "start_time": "2022-02-18T08:44:37.821Z"
   },
   {
    "duration": 70,
    "start_time": "2022-02-18T08:44:37.830Z"
   },
   {
    "duration": 13,
    "start_time": "2022-02-18T08:44:37.903Z"
   },
   {
    "duration": 52,
    "start_time": "2022-02-18T08:44:37.919Z"
   },
   {
    "duration": 7,
    "start_time": "2022-02-18T08:44:37.974Z"
   },
   {
    "duration": 23,
    "start_time": "2022-02-18T08:44:37.983Z"
   },
   {
    "duration": 6,
    "start_time": "2022-02-18T08:44:38.011Z"
   },
   {
    "duration": 51,
    "start_time": "2022-02-18T08:44:38.020Z"
   },
   {
    "duration": 8,
    "start_time": "2022-02-18T08:44:38.074Z"
   },
   {
    "duration": 11,
    "start_time": "2022-02-18T08:44:38.085Z"
   },
   {
    "duration": 25,
    "start_time": "2022-02-18T08:44:38.099Z"
   },
   {
    "duration": 38,
    "start_time": "2022-02-18T08:44:38.127Z"
   },
   {
    "duration": 32,
    "start_time": "2022-02-18T08:44:38.169Z"
   },
   {
    "duration": 62,
    "start_time": "2022-02-18T08:44:38.203Z"
   },
   {
    "duration": 35,
    "start_time": "2022-02-18T08:44:38.267Z"
   },
   {
    "duration": 275,
    "start_time": "2022-02-18T08:44:38.305Z"
   },
   {
    "duration": 262,
    "start_time": "2022-02-18T08:44:38.583Z"
   },
   {
    "duration": 6,
    "start_time": "2022-02-18T08:45:41.341Z"
   },
   {
    "duration": 113,
    "start_time": "2022-02-18T08:45:41.351Z"
   },
   {
    "duration": 14,
    "start_time": "2022-02-18T08:45:41.468Z"
   },
   {
    "duration": 12,
    "start_time": "2022-02-18T08:45:41.486Z"
   },
   {
    "duration": 7,
    "start_time": "2022-02-18T08:45:41.501Z"
   },
   {
    "duration": 50,
    "start_time": "2022-02-18T08:45:41.511Z"
   },
   {
    "duration": 10,
    "start_time": "2022-02-18T08:45:41.564Z"
   },
   {
    "duration": 46,
    "start_time": "2022-02-18T08:45:41.577Z"
   },
   {
    "duration": 6,
    "start_time": "2022-02-18T08:45:41.628Z"
   },
   {
    "duration": 13,
    "start_time": "2022-02-18T08:45:41.660Z"
   },
   {
    "duration": 30,
    "start_time": "2022-02-18T08:45:41.675Z"
   },
   {
    "duration": 7,
    "start_time": "2022-02-18T08:45:41.707Z"
   },
   {
    "duration": 113,
    "start_time": "2022-02-18T08:45:41.717Z"
   },
   {
    "duration": 50,
    "start_time": "2022-02-18T08:45:41.832Z"
   },
   {
    "duration": 23,
    "start_time": "2022-02-18T08:45:41.884Z"
   },
   {
    "duration": 357,
    "start_time": "2022-02-18T08:45:41.910Z"
   },
   {
    "duration": 296,
    "start_time": "2022-02-18T08:45:42.270Z"
   },
   {
    "duration": 341,
    "start_time": "2022-02-18T08:52:50.831Z"
   },
   {
    "duration": 11,
    "start_time": "2022-02-18T08:54:37.164Z"
   },
   {
    "duration": 62,
    "start_time": "2022-02-18T08:54:37.178Z"
   },
   {
    "duration": 13,
    "start_time": "2022-02-18T08:54:37.268Z"
   },
   {
    "duration": 8,
    "start_time": "2022-02-18T08:54:37.284Z"
   },
   {
    "duration": 6,
    "start_time": "2022-02-18T08:54:37.294Z"
   },
   {
    "duration": 11,
    "start_time": "2022-02-18T08:54:37.303Z"
   },
   {
    "duration": 6,
    "start_time": "2022-02-18T08:54:37.316Z"
   },
   {
    "duration": 35,
    "start_time": "2022-02-18T08:54:37.366Z"
   },
   {
    "duration": 5,
    "start_time": "2022-02-18T08:54:37.404Z"
   },
   {
    "duration": 12,
    "start_time": "2022-02-18T08:54:37.412Z"
   },
   {
    "duration": 58,
    "start_time": "2022-02-18T08:54:37.426Z"
   },
   {
    "duration": 8,
    "start_time": "2022-02-18T08:54:37.486Z"
   },
   {
    "duration": 25,
    "start_time": "2022-02-18T08:54:37.496Z"
   },
   {
    "duration": 67,
    "start_time": "2022-02-18T08:54:37.523Z"
   },
   {
    "duration": 24,
    "start_time": "2022-02-18T08:54:37.593Z"
   },
   {
    "duration": 259,
    "start_time": "2022-02-18T08:54:37.619Z"
   },
   {
    "duration": 262,
    "start_time": "2022-02-18T08:54:37.881Z"
   },
   {
    "duration": 18303,
    "start_time": "2022-02-18T08:54:38.146Z"
   },
   {
    "duration": 5,
    "start_time": "2022-02-18T08:59:11.015Z"
   },
   {
    "duration": 73,
    "start_time": "2022-02-18T08:59:11.026Z"
   },
   {
    "duration": 12,
    "start_time": "2022-02-18T08:59:11.102Z"
   },
   {
    "duration": 8,
    "start_time": "2022-02-18T08:59:11.116Z"
   },
   {
    "duration": 46,
    "start_time": "2022-02-18T08:59:11.127Z"
   },
   {
    "duration": 12,
    "start_time": "2022-02-18T08:59:11.176Z"
   },
   {
    "duration": 5,
    "start_time": "2022-02-18T08:59:11.191Z"
   },
   {
    "duration": 28,
    "start_time": "2022-02-18T08:59:11.199Z"
   },
   {
    "duration": 35,
    "start_time": "2022-02-18T08:59:11.231Z"
   },
   {
    "duration": 17,
    "start_time": "2022-02-18T08:59:11.269Z"
   },
   {
    "duration": 36,
    "start_time": "2022-02-18T08:59:11.289Z"
   },
   {
    "duration": 9,
    "start_time": "2022-02-18T08:59:11.328Z"
   },
   {
    "duration": 50,
    "start_time": "2022-02-18T08:59:11.339Z"
   },
   {
    "duration": 32,
    "start_time": "2022-02-18T08:59:11.392Z"
   },
   {
    "duration": 53,
    "start_time": "2022-02-18T08:59:11.426Z"
   },
   {
    "duration": 254,
    "start_time": "2022-02-18T08:59:11.481Z"
   },
   {
    "duration": 258,
    "start_time": "2022-02-18T08:59:11.738Z"
   },
   {
    "duration": 17635,
    "start_time": "2022-02-18T08:59:11.999Z"
   },
   {
    "duration": 238,
    "start_time": "2022-02-18T09:00:57.107Z"
   },
   {
    "duration": 232,
    "start_time": "2022-02-18T09:01:16.362Z"
   },
   {
    "duration": 28502,
    "start_time": "2022-02-18T09:02:03.371Z"
   },
   {
    "duration": 34,
    "start_time": "2022-02-18T09:06:47.403Z"
   },
   {
    "duration": 38,
    "start_time": "2022-02-18T09:07:05.340Z"
   },
   {
    "duration": 1390,
    "start_time": "2022-02-19T04:02:19.719Z"
   },
   {
    "duration": 80,
    "start_time": "2022-02-19T04:02:21.112Z"
   },
   {
    "duration": 11,
    "start_time": "2022-02-19T04:02:21.195Z"
   },
   {
    "duration": 9,
    "start_time": "2022-02-19T04:02:21.209Z"
   },
   {
    "duration": 41,
    "start_time": "2022-02-19T04:02:21.221Z"
   },
   {
    "duration": 10,
    "start_time": "2022-02-19T04:02:21.265Z"
   },
   {
    "duration": 8,
    "start_time": "2022-02-19T04:02:21.278Z"
   },
   {
    "duration": 39,
    "start_time": "2022-02-19T04:02:21.290Z"
   },
   {
    "duration": 8,
    "start_time": "2022-02-19T04:02:21.360Z"
   },
   {
    "duration": 12,
    "start_time": "2022-02-19T04:02:21.370Z"
   },
   {
    "duration": 27,
    "start_time": "2022-02-19T04:02:21.385Z"
   },
   {
    "duration": 11,
    "start_time": "2022-02-19T04:02:21.414Z"
   },
   {
    "duration": 60,
    "start_time": "2022-02-19T04:02:21.427Z"
   },
   {
    "duration": 35,
    "start_time": "2022-02-19T04:02:21.489Z"
   },
   {
    "duration": 53,
    "start_time": "2022-02-19T04:02:21.527Z"
   },
   {
    "duration": 353,
    "start_time": "2022-02-19T04:02:21.582Z"
   },
   {
    "duration": 244,
    "start_time": "2022-02-19T04:02:21.938Z"
   },
   {
    "duration": 27294,
    "start_time": "2022-02-19T04:02:22.184Z"
   },
   {
    "duration": 87,
    "start_time": "2022-02-19T04:02:49.481Z"
   },
   {
    "duration": 497,
    "start_time": "2022-02-19T04:07:12.749Z"
   },
   {
    "duration": 33,
    "start_time": "2022-02-19T04:07:26.650Z"
   },
   {
    "duration": 505,
    "start_time": "2022-02-19T04:24:36.678Z"
   },
   {
    "duration": 5,
    "start_time": "2022-02-19T04:31:31.575Z"
   },
   {
    "duration": 77,
    "start_time": "2022-02-19T04:31:31.585Z"
   },
   {
    "duration": 9,
    "start_time": "2022-02-19T04:31:31.665Z"
   },
   {
    "duration": 10,
    "start_time": "2022-02-19T04:31:31.677Z"
   },
   {
    "duration": 4,
    "start_time": "2022-02-19T04:31:31.690Z"
   },
   {
    "duration": 14,
    "start_time": "2022-02-19T04:31:31.697Z"
   },
   {
    "duration": 51,
    "start_time": "2022-02-19T04:31:31.714Z"
   },
   {
    "duration": 31,
    "start_time": "2022-02-19T04:31:31.767Z"
   },
   {
    "duration": 6,
    "start_time": "2022-02-19T04:31:31.802Z"
   },
   {
    "duration": 10,
    "start_time": "2022-02-19T04:31:31.811Z"
   },
   {
    "duration": 56,
    "start_time": "2022-02-19T04:31:31.824Z"
   },
   {
    "duration": 8,
    "start_time": "2022-02-19T04:31:31.883Z"
   },
   {
    "duration": 24,
    "start_time": "2022-02-19T04:31:31.894Z"
   },
   {
    "duration": 72,
    "start_time": "2022-02-19T04:31:31.921Z"
   },
   {
    "duration": 24,
    "start_time": "2022-02-19T04:31:31.996Z"
   },
   {
    "duration": 265,
    "start_time": "2022-02-19T04:31:32.023Z"
   },
   {
    "duration": 246,
    "start_time": "2022-02-19T04:31:32.291Z"
   },
   {
    "duration": 81091,
    "start_time": "2022-02-19T04:31:32.540Z"
   },
   {
    "duration": 131,
    "start_time": "2022-02-19T04:32:53.634Z"
   },
   {
    "duration": 197,
    "start_time": "2022-02-19T04:32:53.768Z"
   },
   {
    "duration": 200,
    "start_time": "2022-02-19T04:32:53.970Z"
   },
   {
    "duration": 119,
    "start_time": "2022-02-19T04:35:09.052Z"
   },
   {
    "duration": 91,
    "start_time": "2022-02-19T04:35:22.775Z"
   },
   {
    "duration": 6,
    "start_time": "2022-02-19T04:36:10.437Z"
   },
   {
    "duration": 83,
    "start_time": "2022-02-19T04:36:10.445Z"
   },
   {
    "duration": 31,
    "start_time": "2022-02-19T04:36:10.531Z"
   },
   {
    "duration": 8,
    "start_time": "2022-02-19T04:36:10.566Z"
   },
   {
    "duration": 13,
    "start_time": "2022-02-19T04:36:10.577Z"
   },
   {
    "duration": 11,
    "start_time": "2022-02-19T04:36:10.593Z"
   },
   {
    "duration": 8,
    "start_time": "2022-02-19T04:36:10.609Z"
   },
   {
    "duration": 71,
    "start_time": "2022-02-19T04:36:10.620Z"
   },
   {
    "duration": 7,
    "start_time": "2022-02-19T04:36:10.694Z"
   },
   {
    "duration": 12,
    "start_time": "2022-02-19T04:36:10.704Z"
   },
   {
    "duration": 63,
    "start_time": "2022-02-19T04:36:10.719Z"
   },
   {
    "duration": 9,
    "start_time": "2022-02-19T04:36:10.786Z"
   },
   {
    "duration": 31,
    "start_time": "2022-02-19T04:36:10.797Z"
   },
   {
    "duration": 83,
    "start_time": "2022-02-19T04:36:10.830Z"
   },
   {
    "duration": 48,
    "start_time": "2022-02-19T04:36:10.916Z"
   },
   {
    "duration": 366,
    "start_time": "2022-02-19T04:36:10.967Z"
   },
   {
    "duration": 351,
    "start_time": "2022-02-19T04:36:11.336Z"
   },
   {
    "duration": 92194,
    "start_time": "2022-02-19T04:36:11.690Z"
   },
   {
    "duration": 85,
    "start_time": "2022-02-19T04:37:43.890Z"
   },
   {
    "duration": 184,
    "start_time": "2022-02-19T04:37:43.978Z"
   },
   {
    "duration": 198,
    "start_time": "2022-02-19T04:37:44.165Z"
   },
   {
    "duration": 322,
    "start_time": "2022-02-19T04:38:51.646Z"
   },
   {
    "duration": 641,
    "start_time": "2022-02-19T04:39:49.338Z"
   },
   {
    "duration": 51,
    "start_time": "2022-02-19T04:40:43.586Z"
   },
   {
    "duration": 101,
    "start_time": "2022-02-19T04:40:50.760Z"
   },
   {
    "duration": 112,
    "start_time": "2022-02-19T04:41:15.757Z"
   },
   {
    "duration": 85,
    "start_time": "2022-02-19T04:41:31.376Z"
   },
   {
    "duration": 95,
    "start_time": "2022-02-19T04:41:38.978Z"
   },
   {
    "duration": 142,
    "start_time": "2022-02-19T04:41:45.233Z"
   },
   {
    "duration": 121,
    "start_time": "2022-02-19T04:42:02.754Z"
   },
   {
    "duration": 93,
    "start_time": "2022-02-19T04:42:10.282Z"
   },
   {
    "duration": 158,
    "start_time": "2022-02-19T04:42:15.606Z"
   },
   {
    "duration": 110,
    "start_time": "2022-02-19T04:42:21.553Z"
   },
   {
    "duration": 321,
    "start_time": "2022-02-19T04:45:20.142Z"
   },
   {
    "duration": 111,
    "start_time": "2022-02-19T04:46:05.172Z"
   },
   {
    "duration": 633,
    "start_time": "2022-02-19T04:51:46.748Z"
   },
   {
    "duration": 103,
    "start_time": "2022-02-19T04:51:56.459Z"
   },
   {
    "duration": 59,
    "start_time": "2022-02-19T04:52:10.903Z"
   },
   {
    "duration": 1914,
    "start_time": "2022-02-19T04:59:55.153Z"
   },
   {
    "duration": 1927,
    "start_time": "2022-02-19T05:01:23.337Z"
   },
   {
    "duration": 1848,
    "start_time": "2022-02-19T05:03:39.617Z"
   },
   {
    "duration": 41,
    "start_time": "2022-02-19T05:15:09.550Z"
   },
   {
    "duration": 65,
    "start_time": "2022-02-19T05:17:52.304Z"
   },
   {
    "duration": 67,
    "start_time": "2022-02-19T05:18:12.337Z"
   },
   {
    "duration": 331,
    "start_time": "2022-02-19T05:18:37.793Z"
   },
   {
    "duration": 113,
    "start_time": "2022-02-19T05:18:44.848Z"
   },
   {
    "duration": 67,
    "start_time": "2022-02-19T05:19:10.137Z"
   },
   {
    "duration": 5,
    "start_time": "2022-02-19T05:27:42.858Z"
   },
   {
    "duration": 66,
    "start_time": "2022-02-19T05:27:42.867Z"
   },
   {
    "duration": 30,
    "start_time": "2022-02-19T05:27:42.935Z"
   },
   {
    "duration": 7,
    "start_time": "2022-02-19T05:27:42.968Z"
   },
   {
    "duration": 5,
    "start_time": "2022-02-19T05:27:42.978Z"
   },
   {
    "duration": 10,
    "start_time": "2022-02-19T05:27:42.985Z"
   },
   {
    "duration": 5,
    "start_time": "2022-02-19T05:27:42.998Z"
   },
   {
    "duration": 78,
    "start_time": "2022-02-19T05:27:43.006Z"
   },
   {
    "duration": 6,
    "start_time": "2022-02-19T05:27:43.089Z"
   },
   {
    "duration": 10,
    "start_time": "2022-02-19T05:27:43.099Z"
   },
   {
    "duration": 53,
    "start_time": "2022-02-19T05:27:43.111Z"
   },
   {
    "duration": 8,
    "start_time": "2022-02-19T05:27:43.167Z"
   },
   {
    "duration": 25,
    "start_time": "2022-02-19T05:27:43.177Z"
   },
   {
    "duration": 69,
    "start_time": "2022-02-19T05:27:43.205Z"
   },
   {
    "duration": 24,
    "start_time": "2022-02-19T05:27:43.277Z"
   },
   {
    "duration": 252,
    "start_time": "2022-02-19T05:27:43.304Z"
   },
   {
    "duration": 237,
    "start_time": "2022-02-19T05:27:43.559Z"
   },
   {
    "duration": 106,
    "start_time": "2022-02-19T05:27:43.798Z"
   },
   {
    "duration": -12009,
    "start_time": "2022-02-19T05:27:55.916Z"
   },
   {
    "duration": -12020,
    "start_time": "2022-02-19T05:27:55.928Z"
   },
   {
    "duration": -12026,
    "start_time": "2022-02-19T05:27:55.935Z"
   },
   {
    "duration": -12029,
    "start_time": "2022-02-19T05:27:55.940Z"
   },
   {
    "duration": 5,
    "start_time": "2022-02-19T05:28:16.716Z"
   },
   {
    "duration": 60,
    "start_time": "2022-02-19T05:28:16.726Z"
   },
   {
    "duration": 9,
    "start_time": "2022-02-19T05:28:16.788Z"
   },
   {
    "duration": 7,
    "start_time": "2022-02-19T05:28:16.800Z"
   },
   {
    "duration": 5,
    "start_time": "2022-02-19T05:28:16.810Z"
   },
   {
    "duration": 9,
    "start_time": "2022-02-19T05:28:16.862Z"
   },
   {
    "duration": 5,
    "start_time": "2022-02-19T05:28:16.874Z"
   },
   {
    "duration": 32,
    "start_time": "2022-02-19T05:28:16.881Z"
   },
   {
    "duration": 5,
    "start_time": "2022-02-19T05:28:16.918Z"
   },
   {
    "duration": 9,
    "start_time": "2022-02-19T05:28:16.961Z"
   },
   {
    "duration": 25,
    "start_time": "2022-02-19T05:28:16.972Z"
   },
   {
    "duration": 10,
    "start_time": "2022-02-19T05:28:16.999Z"
   },
   {
    "duration": 132,
    "start_time": "2022-02-19T05:28:17.011Z"
   },
   {
    "duration": 41,
    "start_time": "2022-02-19T05:28:17.146Z"
   },
   {
    "duration": 26,
    "start_time": "2022-02-19T05:28:17.189Z"
   },
   {
    "duration": 247,
    "start_time": "2022-02-19T05:28:17.218Z"
   },
   {
    "duration": 242,
    "start_time": "2022-02-19T05:28:17.468Z"
   },
   {
    "duration": 13579,
    "start_time": "2022-02-19T05:28:17.713Z"
   },
   {
    "duration": 71,
    "start_time": "2022-02-19T05:28:31.295Z"
   },
   {
    "duration": 497,
    "start_time": "2022-02-19T05:28:31.370Z"
   },
   {
    "duration": 400,
    "start_time": "2022-02-19T05:28:31.871Z"
   },
   {
    "duration": 1889,
    "start_time": "2022-02-19T05:28:32.274Z"
   },
   {
    "duration": 6,
    "start_time": "2022-02-19T05:32:24.890Z"
   },
   {
    "duration": 1891,
    "start_time": "2022-02-19T05:32:25.571Z"
   },
   {
    "duration": 1909,
    "start_time": "2022-02-19T05:32:53.454Z"
   },
   {
    "duration": 121,
    "start_time": "2022-02-19T05:34:06.838Z"
   },
   {
    "duration": 92,
    "start_time": "2022-02-19T05:35:22.716Z"
   },
   {
    "duration": 6,
    "start_time": "2022-02-19T05:38:31.693Z"
   },
   {
    "duration": 1869,
    "start_time": "2022-02-19T05:39:18.494Z"
   },
   {
    "duration": 3408,
    "start_time": "2022-02-19T05:49:11.730Z"
   },
   {
    "duration": 5474,
    "start_time": "2022-02-19T05:50:15.004Z"
   },
   {
    "duration": 532,
    "start_time": "2022-02-19T05:57:02.865Z"
   },
   {
    "duration": 5,
    "start_time": "2022-02-19T05:57:50.989Z"
   },
   {
    "duration": 73,
    "start_time": "2022-02-19T05:57:50.997Z"
   },
   {
    "duration": 12,
    "start_time": "2022-02-19T05:57:51.075Z"
   },
   {
    "duration": 11,
    "start_time": "2022-02-19T05:57:51.091Z"
   },
   {
    "duration": 57,
    "start_time": "2022-02-19T05:57:51.104Z"
   },
   {
    "duration": 13,
    "start_time": "2022-02-19T05:57:51.164Z"
   },
   {
    "duration": 7,
    "start_time": "2022-02-19T05:57:51.180Z"
   },
   {
    "duration": 38,
    "start_time": "2022-02-19T05:57:51.189Z"
   },
   {
    "duration": 6,
    "start_time": "2022-02-19T05:57:51.263Z"
   },
   {
    "duration": 12,
    "start_time": "2022-02-19T05:57:51.272Z"
   },
   {
    "duration": 27,
    "start_time": "2022-02-19T05:57:51.286Z"
   },
   {
    "duration": 8,
    "start_time": "2022-02-19T05:57:51.315Z"
   },
   {
    "duration": 27,
    "start_time": "2022-02-19T05:57:51.363Z"
   },
   {
    "duration": 35,
    "start_time": "2022-02-19T05:57:51.393Z"
   },
   {
    "duration": 26,
    "start_time": "2022-02-19T05:57:51.461Z"
   },
   {
    "duration": 258,
    "start_time": "2022-02-19T05:57:51.489Z"
   },
   {
    "duration": 254,
    "start_time": "2022-02-19T05:57:51.750Z"
   },
   {
    "duration": 16532,
    "start_time": "2022-02-19T05:57:52.006Z"
   },
   {
    "duration": 52,
    "start_time": "2022-02-19T05:58:08.541Z"
   },
   {
    "duration": 466,
    "start_time": "2022-02-19T05:58:08.595Z"
   },
   {
    "duration": 7,
    "start_time": "2022-02-19T05:58:09.065Z"
   },
   {
    "duration": 2198,
    "start_time": "2022-02-19T05:58:09.075Z"
   },
   {
    "duration": 2928,
    "start_time": "2022-02-19T05:58:11.276Z"
   },
   {
    "duration": 556,
    "start_time": "2022-02-19T05:58:14.206Z"
   },
   {
    "duration": 734,
    "start_time": "2022-02-19T06:35:37.045Z"
   },
   {
    "duration": 770,
    "start_time": "2022-02-19T06:37:13.550Z"
   },
   {
    "duration": 6,
    "start_time": "2022-02-19T06:37:21.918Z"
   },
   {
    "duration": 692,
    "start_time": "2022-02-19T06:37:24.083Z"
   },
   {
    "duration": 448,
    "start_time": "2022-02-19T06:39:35.185Z"
   },
   {
    "duration": 1033,
    "start_time": "2022-02-19T10:01:24.818Z"
   },
   {
    "duration": 56,
    "start_time": "2022-02-19T10:01:25.853Z"
   },
   {
    "duration": 8,
    "start_time": "2022-02-19T10:01:25.911Z"
   },
   {
    "duration": 7,
    "start_time": "2022-02-19T10:01:25.921Z"
   },
   {
    "duration": 6,
    "start_time": "2022-02-19T10:01:25.930Z"
   },
   {
    "duration": 7,
    "start_time": "2022-02-19T10:01:25.938Z"
   },
   {
    "duration": 4,
    "start_time": "2022-02-19T10:01:25.947Z"
   },
   {
    "duration": 19,
    "start_time": "2022-02-19T10:01:25.953Z"
   },
   {
    "duration": 3,
    "start_time": "2022-02-19T10:01:25.974Z"
   },
   {
    "duration": 12,
    "start_time": "2022-02-19T10:01:25.978Z"
   },
   {
    "duration": 41,
    "start_time": "2022-02-19T10:01:25.991Z"
   },
   {
    "duration": 5,
    "start_time": "2022-02-19T10:01:26.033Z"
   },
   {
    "duration": 17,
    "start_time": "2022-02-19T10:01:26.040Z"
   },
   {
    "duration": 22,
    "start_time": "2022-02-19T10:01:26.059Z"
   },
   {
    "duration": 43,
    "start_time": "2022-02-19T10:01:26.083Z"
   },
   {
    "duration": 221,
    "start_time": "2022-02-19T10:01:26.128Z"
   },
   {
    "duration": 169,
    "start_time": "2022-02-19T10:01:26.351Z"
   },
   {
    "duration": 8822,
    "start_time": "2022-02-19T10:01:26.522Z"
   },
   {
    "duration": 83,
    "start_time": "2022-02-19T10:01:35.345Z"
   },
   {
    "duration": 133,
    "start_time": "2022-02-19T10:01:35.519Z"
   },
   {
    "duration": 6,
    "start_time": "2022-02-19T10:01:35.719Z"
   },
   {
    "duration": 1824,
    "start_time": "2022-02-19T10:01:35.728Z"
   },
   {
    "duration": 1342,
    "start_time": "2022-02-19T10:01:37.621Z"
   },
   {
    "duration": 332,
    "start_time": "2022-02-19T10:01:38.965Z"
   },
   {
    "duration": 4,
    "start_time": "2022-02-19T10:01:39.299Z"
   },
   {
    "duration": 1420,
    "start_time": "2022-02-19T10:01:39.305Z"
   },
   {
    "duration": 3,
    "start_time": "2022-02-19T10:12:05.671Z"
   },
   {
    "duration": 48,
    "start_time": "2022-02-19T10:12:05.678Z"
   },
   {
    "duration": 7,
    "start_time": "2022-02-19T10:12:05.728Z"
   },
   {
    "duration": 9,
    "start_time": "2022-02-19T10:12:05.736Z"
   },
   {
    "duration": 3,
    "start_time": "2022-02-19T10:12:05.747Z"
   },
   {
    "duration": 13,
    "start_time": "2022-02-19T10:12:05.752Z"
   },
   {
    "duration": 4,
    "start_time": "2022-02-19T10:12:05.767Z"
   },
   {
    "duration": 49,
    "start_time": "2022-02-19T10:12:05.773Z"
   },
   {
    "duration": 4,
    "start_time": "2022-02-19T10:12:05.825Z"
   },
   {
    "duration": 7,
    "start_time": "2022-02-19T10:12:05.832Z"
   },
   {
    "duration": 18,
    "start_time": "2022-02-19T10:12:05.841Z"
   },
   {
    "duration": 7,
    "start_time": "2022-02-19T10:12:05.861Z"
   },
   {
    "duration": 51,
    "start_time": "2022-02-19T10:12:05.869Z"
   },
   {
    "duration": 23,
    "start_time": "2022-02-19T10:12:05.922Z"
   },
   {
    "duration": 16,
    "start_time": "2022-02-19T10:12:05.946Z"
   },
   {
    "duration": 166,
    "start_time": "2022-02-19T10:12:05.964Z"
   },
   {
    "duration": 164,
    "start_time": "2022-02-19T10:12:06.132Z"
   },
   {
    "duration": 8775,
    "start_time": "2022-02-19T10:12:06.298Z"
   },
   {
    "duration": 47,
    "start_time": "2022-02-19T10:12:15.075Z"
   },
   {
    "duration": 396,
    "start_time": "2022-02-19T10:12:15.124Z"
   },
   {
    "duration": 96,
    "start_time": "2022-02-19T10:12:15.523Z"
   },
   {
    "duration": 1723,
    "start_time": "2022-02-19T10:12:15.622Z"
   },
   {
    "duration": 3439,
    "start_time": "2022-02-19T10:12:17.420Z"
   },
   {
    "duration": 342,
    "start_time": "2022-02-19T10:12:20.862Z"
   },
   {
    "duration": 4,
    "start_time": "2022-02-19T10:12:21.205Z"
   },
   {
    "duration": 1322,
    "start_time": "2022-02-19T10:12:21.210Z"
   },
   {
    "duration": 1615,
    "start_time": "2022-02-19T10:12:22.534Z"
   },
   {
    "duration": 161,
    "start_time": "2022-02-19T10:12:24.151Z"
   },
   {
    "duration": 18,
    "start_time": "2022-02-19T10:47:37.889Z"
   },
   {
    "duration": 3,
    "start_time": "2022-02-19T10:48:51.778Z"
   },
   {
    "duration": 50,
    "start_time": "2022-02-19T10:48:51.784Z"
   },
   {
    "duration": 8,
    "start_time": "2022-02-19T10:48:51.836Z"
   },
   {
    "duration": 6,
    "start_time": "2022-02-19T10:48:51.847Z"
   },
   {
    "duration": 5,
    "start_time": "2022-02-19T10:48:51.855Z"
   },
   {
    "duration": 7,
    "start_time": "2022-02-19T10:48:51.862Z"
   },
   {
    "duration": 5,
    "start_time": "2022-02-19T10:48:51.871Z"
   },
   {
    "duration": 59,
    "start_time": "2022-02-19T10:48:51.877Z"
   },
   {
    "duration": 4,
    "start_time": "2022-02-19T10:48:51.938Z"
   },
   {
    "duration": 8,
    "start_time": "2022-02-19T10:48:51.944Z"
   },
   {
    "duration": 17,
    "start_time": "2022-02-19T10:48:51.954Z"
   },
   {
    "duration": 7,
    "start_time": "2022-02-19T10:48:51.973Z"
   },
   {
    "duration": 48,
    "start_time": "2022-02-19T10:48:51.982Z"
   },
   {
    "duration": 22,
    "start_time": "2022-02-19T10:48:52.032Z"
   },
   {
    "duration": 17,
    "start_time": "2022-02-19T10:48:52.056Z"
   },
   {
    "duration": 175,
    "start_time": "2022-02-19T10:48:52.075Z"
   },
   {
    "duration": 171,
    "start_time": "2022-02-19T10:48:52.252Z"
   },
   {
    "duration": 8833,
    "start_time": "2022-02-19T10:48:52.424Z"
   },
   {
    "duration": 160,
    "start_time": "2022-02-19T10:49:01.259Z"
   },
   {
    "duration": 301,
    "start_time": "2022-02-19T10:49:01.420Z"
   },
   {
    "duration": 94,
    "start_time": "2022-02-19T10:49:01.725Z"
   },
   {
    "duration": 1822,
    "start_time": "2022-02-19T10:49:01.821Z"
   },
   {
    "duration": 3401,
    "start_time": "2022-02-19T10:49:03.720Z"
   },
   {
    "duration": 331,
    "start_time": "2022-02-19T10:49:07.124Z"
   },
   {
    "duration": 4,
    "start_time": "2022-02-19T10:49:07.457Z"
   },
   {
    "duration": 1271,
    "start_time": "2022-02-19T10:49:07.463Z"
   },
   {
    "duration": 1651,
    "start_time": "2022-02-19T10:49:08.737Z"
   },
   {
    "duration": 170,
    "start_time": "2022-02-19T10:49:10.389Z"
   },
   {
    "duration": 18,
    "start_time": "2022-02-19T10:49:10.560Z"
   },
   {
    "duration": 3,
    "start_time": "2022-02-19T10:50:19.101Z"
   },
   {
    "duration": 46,
    "start_time": "2022-02-19T10:50:19.114Z"
   },
   {
    "duration": 7,
    "start_time": "2022-02-19T10:50:19.162Z"
   },
   {
    "duration": 7,
    "start_time": "2022-02-19T10:50:19.172Z"
   },
   {
    "duration": 4,
    "start_time": "2022-02-19T10:50:19.181Z"
   },
   {
    "duration": 36,
    "start_time": "2022-02-19T10:50:19.186Z"
   },
   {
    "duration": 4,
    "start_time": "2022-02-19T10:50:19.224Z"
   },
   {
    "duration": 18,
    "start_time": "2022-02-19T10:50:19.230Z"
   },
   {
    "duration": 4,
    "start_time": "2022-02-19T10:50:19.250Z"
   },
   {
    "duration": 7,
    "start_time": "2022-02-19T10:50:19.256Z"
   },
   {
    "duration": 17,
    "start_time": "2022-02-19T10:50:19.265Z"
   },
   {
    "duration": 40,
    "start_time": "2022-02-19T10:50:19.284Z"
   },
   {
    "duration": 19,
    "start_time": "2022-02-19T10:50:19.326Z"
   },
   {
    "duration": 27,
    "start_time": "2022-02-19T10:50:19.347Z"
   },
   {
    "duration": 46,
    "start_time": "2022-02-19T10:50:19.376Z"
   },
   {
    "duration": 157,
    "start_time": "2022-02-19T10:50:19.423Z"
   },
   {
    "duration": 169,
    "start_time": "2022-02-19T10:50:19.582Z"
   },
   {
    "duration": 8968,
    "start_time": "2022-02-19T10:50:19.752Z"
   },
   {
    "duration": 21,
    "start_time": "2022-02-19T10:50:28.722Z"
   },
   {
    "duration": 363,
    "start_time": "2022-02-19T10:50:28.819Z"
   },
   {
    "duration": 95,
    "start_time": "2022-02-19T10:50:29.225Z"
   },
   {
    "duration": 1830,
    "start_time": "2022-02-19T10:50:29.321Z"
   },
   {
    "duration": 3299,
    "start_time": "2022-02-19T10:50:31.220Z"
   },
   {
    "duration": 326,
    "start_time": "2022-02-19T10:50:34.522Z"
   },
   {
    "duration": 4,
    "start_time": "2022-02-19T10:50:34.850Z"
   },
   {
    "duration": 1269,
    "start_time": "2022-02-19T10:50:34.856Z"
   },
   {
    "duration": 1598,
    "start_time": "2022-02-19T10:50:36.127Z"
   },
   {
    "duration": 172,
    "start_time": "2022-02-19T10:50:37.727Z"
   },
   {
    "duration": 30,
    "start_time": "2022-02-19T10:50:37.901Z"
   },
   {
    "duration": 41,
    "start_time": "2022-02-19T10:57:20.863Z"
   },
   {
    "duration": 42,
    "start_time": "2022-02-19T10:58:04.697Z"
   },
   {
    "duration": 9,
    "start_time": "2022-02-19T11:11:09.695Z"
   },
   {
    "duration": 34,
    "start_time": "2022-02-19T11:11:10.862Z"
   },
   {
    "duration": 54,
    "start_time": "2022-02-19T11:14:43.134Z"
   },
   {
    "duration": 332,
    "start_time": "2022-02-19T14:38:27.662Z"
   },
   {
    "duration": 1157,
    "start_time": "2022-02-19T14:38:34.477Z"
   },
   {
    "duration": 59,
    "start_time": "2022-02-19T14:38:35.636Z"
   },
   {
    "duration": 7,
    "start_time": "2022-02-19T14:38:35.697Z"
   },
   {
    "duration": 10,
    "start_time": "2022-02-19T14:38:35.706Z"
   },
   {
    "duration": 5,
    "start_time": "2022-02-19T14:38:35.718Z"
   },
   {
    "duration": 9,
    "start_time": "2022-02-19T14:38:35.724Z"
   },
   {
    "duration": 7,
    "start_time": "2022-02-19T14:38:35.735Z"
   },
   {
    "duration": 44,
    "start_time": "2022-02-19T14:38:35.746Z"
   },
   {
    "duration": 4,
    "start_time": "2022-02-19T14:38:35.792Z"
   },
   {
    "duration": 14,
    "start_time": "2022-02-19T14:38:35.798Z"
   },
   {
    "duration": 15,
    "start_time": "2022-02-19T14:38:35.814Z"
   },
   {
    "duration": 7,
    "start_time": "2022-02-19T14:38:35.831Z"
   },
   {
    "duration": 18,
    "start_time": "2022-02-19T14:38:35.869Z"
   },
   {
    "duration": 29,
    "start_time": "2022-02-19T14:38:35.889Z"
   },
   {
    "duration": 17,
    "start_time": "2022-02-19T14:38:35.920Z"
   },
   {
    "duration": 256,
    "start_time": "2022-02-19T14:38:35.969Z"
   },
   {
    "duration": 188,
    "start_time": "2022-02-19T14:38:36.226Z"
   },
   {
    "duration": 10093,
    "start_time": "2022-02-19T14:38:36.416Z"
   },
   {
    "duration": 61,
    "start_time": "2022-02-19T14:38:46.511Z"
   },
   {
    "duration": 398,
    "start_time": "2022-02-19T14:38:46.574Z"
   },
   {
    "duration": 96,
    "start_time": "2022-02-19T14:38:46.975Z"
   },
   {
    "duration": 1829,
    "start_time": "2022-02-19T14:38:47.073Z"
   },
   {
    "duration": 3485,
    "start_time": "2022-02-19T14:38:48.974Z"
   },
   {
    "duration": 388,
    "start_time": "2022-02-19T14:38:52.461Z"
   },
   {
    "duration": 4,
    "start_time": "2022-02-19T14:38:52.851Z"
   },
   {
    "duration": 1523,
    "start_time": "2022-02-19T14:38:52.857Z"
   },
   {
    "duration": 1602,
    "start_time": "2022-02-19T14:38:54.385Z"
   },
   {
    "duration": 192,
    "start_time": "2022-02-19T14:38:55.989Z"
   },
   {
    "duration": 10,
    "start_time": "2022-02-19T14:38:56.183Z"
   },
   {
    "duration": 48,
    "start_time": "2022-02-19T14:38:56.195Z"
   },
   {
    "duration": 32,
    "start_time": "2022-02-19T14:38:56.244Z"
   },
   {
    "duration": 9,
    "start_time": "2022-02-19T14:43:08.480Z"
   },
   {
    "duration": 295,
    "start_time": "2022-02-19T14:46:33.974Z"
   },
   {
    "duration": 18,
    "start_time": "2022-02-19T14:48:43.969Z"
   },
   {
    "duration": 7,
    "start_time": "2022-02-19T14:49:40.133Z"
   },
   {
    "duration": 4,
    "start_time": "2022-02-19T14:50:32.650Z"
   },
   {
    "duration": 62,
    "start_time": "2022-02-19T14:50:32.659Z"
   },
   {
    "duration": 9,
    "start_time": "2022-02-19T14:50:32.724Z"
   },
   {
    "duration": 14,
    "start_time": "2022-02-19T14:50:32.736Z"
   },
   {
    "duration": 5,
    "start_time": "2022-02-19T14:50:32.774Z"
   },
   {
    "duration": 12,
    "start_time": "2022-02-19T14:50:32.781Z"
   },
   {
    "duration": 7,
    "start_time": "2022-02-19T14:50:32.795Z"
   },
   {
    "duration": 22,
    "start_time": "2022-02-19T14:50:32.804Z"
   },
   {
    "duration": 41,
    "start_time": "2022-02-19T14:50:32.829Z"
   },
   {
    "duration": 9,
    "start_time": "2022-02-19T14:50:32.873Z"
   },
   {
    "duration": 18,
    "start_time": "2022-02-19T14:50:32.884Z"
   },
   {
    "duration": 6,
    "start_time": "2022-02-19T14:50:32.904Z"
   },
   {
    "duration": 28,
    "start_time": "2022-02-19T14:50:32.912Z"
   },
   {
    "duration": 54,
    "start_time": "2022-02-19T14:50:32.942Z"
   },
   {
    "duration": 18,
    "start_time": "2022-02-19T14:50:32.997Z"
   },
   {
    "duration": 188,
    "start_time": "2022-02-19T14:50:33.017Z"
   },
   {
    "duration": 180,
    "start_time": "2022-02-19T14:50:33.207Z"
   },
   {
    "duration": 9855,
    "start_time": "2022-02-19T14:50:33.389Z"
   },
   {
    "duration": 29,
    "start_time": "2022-02-19T14:50:43.245Z"
   },
   {
    "duration": 493,
    "start_time": "2022-02-19T14:50:43.277Z"
   },
   {
    "duration": 7,
    "start_time": "2022-02-19T14:50:43.773Z"
   },
   {
    "duration": 1935,
    "start_time": "2022-02-19T14:50:43.871Z"
   },
   {
    "duration": 3958,
    "start_time": "2022-02-19T14:50:45.871Z"
   },
   {
    "duration": 377,
    "start_time": "2022-02-19T14:50:49.832Z"
   },
   {
    "duration": 4,
    "start_time": "2022-02-19T14:50:50.211Z"
   },
   {
    "duration": 1467,
    "start_time": "2022-02-19T14:50:50.217Z"
   },
   {
    "duration": 1806,
    "start_time": "2022-02-19T14:50:51.689Z"
   },
   {
    "duration": 197,
    "start_time": "2022-02-19T14:50:53.497Z"
   },
   {
    "duration": 10,
    "start_time": "2022-02-19T14:50:53.696Z"
   },
   {
    "duration": 87,
    "start_time": "2022-02-19T14:50:53.708Z"
   },
   {
    "duration": 173,
    "start_time": "2022-02-19T14:50:53.797Z"
   },
   {
    "duration": 119,
    "start_time": "2022-02-19T14:50:53.972Z"
   },
   {
    "duration": 200,
    "start_time": "2022-02-19T14:50:54.093Z"
   },
   {
    "duration": 35,
    "start_time": "2022-02-19T14:50:54.295Z"
   },
   {
    "duration": 4,
    "start_time": "2022-02-19T14:52:22.014Z"
   },
   {
    "duration": 55,
    "start_time": "2022-02-19T14:52:22.023Z"
   },
   {
    "duration": 7,
    "start_time": "2022-02-19T14:52:22.080Z"
   },
   {
    "duration": 10,
    "start_time": "2022-02-19T14:52:22.089Z"
   },
   {
    "duration": 4,
    "start_time": "2022-02-19T14:52:22.101Z"
   },
   {
    "duration": 15,
    "start_time": "2022-02-19T14:52:22.107Z"
   },
   {
    "duration": 5,
    "start_time": "2022-02-19T14:52:22.124Z"
   },
   {
    "duration": 53,
    "start_time": "2022-02-19T14:52:22.131Z"
   },
   {
    "duration": 5,
    "start_time": "2022-02-19T14:52:22.187Z"
   },
   {
    "duration": 9,
    "start_time": "2022-02-19T14:52:22.194Z"
   },
   {
    "duration": 21,
    "start_time": "2022-02-19T14:52:22.205Z"
   },
   {
    "duration": 13,
    "start_time": "2022-02-19T14:52:22.228Z"
   },
   {
    "duration": 45,
    "start_time": "2022-02-19T14:52:22.242Z"
   },
   {
    "duration": 32,
    "start_time": "2022-02-19T14:52:22.289Z"
   },
   {
    "duration": 47,
    "start_time": "2022-02-19T14:52:22.322Z"
   },
   {
    "duration": 186,
    "start_time": "2022-02-19T14:52:22.371Z"
   },
   {
    "duration": 184,
    "start_time": "2022-02-19T14:52:22.559Z"
   },
   {
    "duration": 9896,
    "start_time": "2022-02-19T14:52:22.744Z"
   },
   {
    "duration": 33,
    "start_time": "2022-02-19T14:52:32.641Z"
   },
   {
    "duration": 510,
    "start_time": "2022-02-19T14:52:32.679Z"
   },
   {
    "duration": 79,
    "start_time": "2022-02-19T14:52:33.192Z"
   },
   {
    "duration": 1995,
    "start_time": "2022-02-19T14:52:33.274Z"
   },
   {
    "duration": 4457,
    "start_time": "2022-02-19T14:52:35.273Z"
   },
   {
    "duration": 381,
    "start_time": "2022-02-19T14:52:39.733Z"
   },
   {
    "duration": 4,
    "start_time": "2022-02-19T14:52:40.117Z"
   },
   {
    "duration": 1363,
    "start_time": "2022-02-19T14:52:40.123Z"
   },
   {
    "duration": 1929,
    "start_time": "2022-02-19T14:52:41.570Z"
   },
   {
    "duration": 196,
    "start_time": "2022-02-19T14:52:43.501Z"
   },
   {
    "duration": 13,
    "start_time": "2022-02-19T14:52:43.699Z"
   },
   {
    "duration": 74,
    "start_time": "2022-02-19T14:52:43.714Z"
   },
   {
    "duration": 184,
    "start_time": "2022-02-19T14:52:43.790Z"
   },
   {
    "duration": 99,
    "start_time": "2022-02-19T14:52:43.977Z"
   },
   {
    "duration": 196,
    "start_time": "2022-02-19T14:52:44.079Z"
   },
   {
    "duration": 7,
    "start_time": "2022-02-19T14:52:44.277Z"
   },
   {
    "duration": 5,
    "start_time": "2022-02-19T14:54:09.393Z"
   },
   {
    "duration": 64,
    "start_time": "2022-02-19T14:54:09.401Z"
   },
   {
    "duration": 7,
    "start_time": "2022-02-19T14:54:09.467Z"
   },
   {
    "duration": 6,
    "start_time": "2022-02-19T14:54:09.476Z"
   },
   {
    "duration": 5,
    "start_time": "2022-02-19T14:54:09.484Z"
   },
   {
    "duration": 16,
    "start_time": "2022-02-19T14:54:09.491Z"
   },
   {
    "duration": 5,
    "start_time": "2022-02-19T14:54:09.509Z"
   },
   {
    "duration": 23,
    "start_time": "2022-02-19T14:54:09.516Z"
   },
   {
    "duration": 5,
    "start_time": "2022-02-19T14:54:09.570Z"
   },
   {
    "duration": 10,
    "start_time": "2022-02-19T14:54:09.578Z"
   },
   {
    "duration": 20,
    "start_time": "2022-02-19T14:54:09.589Z"
   },
   {
    "duration": 7,
    "start_time": "2022-02-19T14:54:09.610Z"
   },
   {
    "duration": 18,
    "start_time": "2022-02-19T14:54:09.620Z"
   },
   {
    "duration": 32,
    "start_time": "2022-02-19T14:54:09.670Z"
   },
   {
    "duration": 18,
    "start_time": "2022-02-19T14:54:09.703Z"
   },
   {
    "duration": 248,
    "start_time": "2022-02-19T14:54:09.723Z"
   },
   {
    "duration": 187,
    "start_time": "2022-02-19T14:54:09.973Z"
   },
   {
    "duration": 10069,
    "start_time": "2022-02-19T14:54:10.162Z"
   },
   {
    "duration": 38,
    "start_time": "2022-02-19T14:54:20.233Z"
   },
   {
    "duration": 516,
    "start_time": "2022-02-19T14:54:20.278Z"
   },
   {
    "duration": 8,
    "start_time": "2022-02-19T14:54:20.871Z"
   },
   {
    "duration": 1900,
    "start_time": "2022-02-19T14:54:20.969Z"
   },
   {
    "duration": 4451,
    "start_time": "2022-02-19T14:54:22.871Z"
   },
   {
    "duration": 374,
    "start_time": "2022-02-19T14:54:27.325Z"
   },
   {
    "duration": 4,
    "start_time": "2022-02-19T14:54:27.701Z"
   },
   {
    "duration": 1577,
    "start_time": "2022-02-19T14:54:27.707Z"
   },
   {
    "duration": 2014,
    "start_time": "2022-02-19T14:54:29.286Z"
   },
   {
    "duration": 191,
    "start_time": "2022-02-19T14:54:31.302Z"
   },
   {
    "duration": 11,
    "start_time": "2022-02-19T14:54:31.495Z"
   },
   {
    "duration": 76,
    "start_time": "2022-02-19T14:54:31.508Z"
   },
   {
    "duration": 90,
    "start_time": "2022-02-19T14:54:31.585Z"
   },
   {
    "duration": 99,
    "start_time": "2022-02-19T14:54:31.678Z"
   },
   {
    "duration": 205,
    "start_time": "2022-02-19T14:54:31.780Z"
   },
   {
    "duration": 7,
    "start_time": "2022-02-19T14:54:31.986Z"
   },
   {
    "duration": 1038,
    "start_time": "2022-02-20T02:26:43.235Z"
   },
   {
    "duration": 65,
    "start_time": "2022-02-20T02:26:44.275Z"
   },
   {
    "duration": 7,
    "start_time": "2022-02-20T02:26:44.342Z"
   },
   {
    "duration": 7,
    "start_time": "2022-02-20T02:26:44.351Z"
   },
   {
    "duration": 3,
    "start_time": "2022-02-20T02:26:44.360Z"
   },
   {
    "duration": 8,
    "start_time": "2022-02-20T02:26:44.365Z"
   },
   {
    "duration": 4,
    "start_time": "2022-02-20T02:26:44.374Z"
   },
   {
    "duration": 18,
    "start_time": "2022-02-20T02:26:44.380Z"
   },
   {
    "duration": 3,
    "start_time": "2022-02-20T02:26:44.400Z"
   },
   {
    "duration": 8,
    "start_time": "2022-02-20T02:26:44.405Z"
   },
   {
    "duration": 42,
    "start_time": "2022-02-20T02:26:44.414Z"
   },
   {
    "duration": 5,
    "start_time": "2022-02-20T02:26:44.457Z"
   },
   {
    "duration": 13,
    "start_time": "2022-02-20T02:26:44.464Z"
   },
   {
    "duration": 26,
    "start_time": "2022-02-20T02:26:44.479Z"
   },
   {
    "duration": 13,
    "start_time": "2022-02-20T02:26:44.506Z"
   },
   {
    "duration": 188,
    "start_time": "2022-02-20T02:26:44.545Z"
   },
   {
    "duration": 147,
    "start_time": "2022-02-20T02:26:44.735Z"
   },
   {
    "duration": 25993,
    "start_time": "2022-02-20T02:26:44.884Z"
   },
   {
    "duration": 19,
    "start_time": "2022-02-20T02:27:10.878Z"
   },
   {
    "duration": 547,
    "start_time": "2022-02-20T02:27:10.899Z"
   },
   {
    "duration": 6,
    "start_time": "2022-02-20T02:27:11.448Z"
   },
   {
    "duration": 1915,
    "start_time": "2022-02-20T02:27:11.456Z"
   },
   {
    "duration": 4447,
    "start_time": "2022-02-20T02:27:13.376Z"
   },
   {
    "duration": 297,
    "start_time": "2022-02-20T02:27:17.825Z"
   },
   {
    "duration": 3,
    "start_time": "2022-02-20T02:27:18.124Z"
   },
   {
    "duration": 1318,
    "start_time": "2022-02-20T02:27:18.129Z"
   },
   {
    "duration": 1851,
    "start_time": "2022-02-20T02:27:19.449Z"
   },
   {
    "duration": 156,
    "start_time": "2022-02-20T02:27:21.302Z"
   },
   {
    "duration": 9,
    "start_time": "2022-02-20T02:27:21.460Z"
   },
   {
    "duration": 56,
    "start_time": "2022-02-20T02:27:21.471Z"
   },
   {
    "duration": 126,
    "start_time": "2022-02-20T02:27:21.528Z"
   },
   {
    "duration": 191,
    "start_time": "2022-02-20T02:27:21.656Z"
   },
   {
    "duration": 110,
    "start_time": "2022-02-20T02:27:21.849Z"
   },
   {
    "duration": 7,
    "start_time": "2022-02-20T02:27:21.960Z"
   },
   {
    "duration": 1078,
    "start_time": "2022-02-20T10:58:04.175Z"
   },
   {
    "duration": 58,
    "start_time": "2022-02-20T10:58:05.255Z"
   },
   {
    "duration": 6,
    "start_time": "2022-02-20T10:58:05.314Z"
   },
   {
    "duration": 7,
    "start_time": "2022-02-20T10:58:05.322Z"
   },
   {
    "duration": 4,
    "start_time": "2022-02-20T10:58:05.330Z"
   },
   {
    "duration": 7,
    "start_time": "2022-02-20T10:58:05.335Z"
   },
   {
    "duration": 3,
    "start_time": "2022-02-20T10:58:05.346Z"
   },
   {
    "duration": 19,
    "start_time": "2022-02-20T10:58:05.351Z"
   },
   {
    "duration": 3,
    "start_time": "2022-02-20T10:58:05.371Z"
   },
   {
    "duration": 7,
    "start_time": "2022-02-20T10:58:05.376Z"
   },
   {
    "duration": 14,
    "start_time": "2022-02-20T10:58:05.385Z"
   },
   {
    "duration": 6,
    "start_time": "2022-02-20T10:58:05.400Z"
   },
   {
    "duration": 40,
    "start_time": "2022-02-20T10:58:05.407Z"
   },
   {
    "duration": 23,
    "start_time": "2022-02-20T10:58:05.448Z"
   },
   {
    "duration": 14,
    "start_time": "2022-02-20T10:58:05.472Z"
   },
   {
    "duration": 141,
    "start_time": "2022-02-20T10:58:05.487Z"
   },
   {
    "duration": 148,
    "start_time": "2022-02-20T10:58:05.629Z"
   },
   {
    "duration": 26815,
    "start_time": "2022-02-20T10:58:05.779Z"
   },
   {
    "duration": 59,
    "start_time": "2022-02-20T10:58:32.595Z"
   },
   {
    "duration": 420,
    "start_time": "2022-02-20T10:58:32.656Z"
   },
   {
    "duration": 8,
    "start_time": "2022-02-20T10:58:33.146Z"
   },
   {
    "duration": 1913,
    "start_time": "2022-02-20T10:58:33.157Z"
   },
   {
    "duration": 4710,
    "start_time": "2022-02-20T10:58:35.074Z"
   },
   {
    "duration": 302,
    "start_time": "2022-02-20T10:58:39.786Z"
   },
   {
    "duration": 4,
    "start_time": "2022-02-20T10:58:40.089Z"
   },
   {
    "duration": 1265,
    "start_time": "2022-02-20T10:58:40.094Z"
   },
   {
    "duration": 1997,
    "start_time": "2022-02-20T10:58:41.360Z"
   },
   {
    "duration": 156,
    "start_time": "2022-02-20T10:58:43.359Z"
   },
   {
    "duration": 10,
    "start_time": "2022-02-20T10:58:43.516Z"
   },
   {
    "duration": 74,
    "start_time": "2022-02-20T10:58:43.528Z"
   },
   {
    "duration": 49,
    "start_time": "2022-02-20T10:58:43.604Z"
   },
   {
    "duration": 91,
    "start_time": "2022-02-20T10:58:43.655Z"
   },
   {
    "duration": 236,
    "start_time": "2022-02-20T10:58:43.747Z"
   },
   {
    "duration": 23,
    "start_time": "2022-02-20T10:58:43.984Z"
   },
   {
    "duration": 5,
    "start_time": "2022-02-20T10:58:44.008Z"
   },
   {
    "duration": 153,
    "start_time": "2022-02-20T11:01:52.610Z"
   },
   {
    "duration": 6,
    "start_time": "2022-02-20T11:01:57.331Z"
   },
   {
    "duration": 147,
    "start_time": "2022-02-20T11:01:58.146Z"
   }
  ],
  "kernelspec": {
   "display_name": "Python 3 (ipykernel)",
   "language": "python",
   "name": "python3"
  },
  "language_info": {
   "codemirror_mode": {
    "name": "ipython",
    "version": 3
   },
   "file_extension": ".py",
   "mimetype": "text/x-python",
   "name": "python",
   "nbconvert_exporter": "python",
   "pygments_lexer": "ipython3",
   "version": "3.9.5"
  },
  "toc": {
   "base_numbering": 1,
   "nav_menu": {},
   "number_sections": true,
   "sideBar": true,
   "skip_h1_title": true,
   "title_cell": "Содержание",
   "title_sidebar": "Contents",
   "toc_cell": true,
   "toc_position": {
    "height": "calc(100% - 180px)",
    "left": "10px",
    "top": "150px",
    "width": "426.372px"
   },
   "toc_section_display": true,
   "toc_window_display": true
  }
 },
 "nbformat": 4,
 "nbformat_minor": 2
}
